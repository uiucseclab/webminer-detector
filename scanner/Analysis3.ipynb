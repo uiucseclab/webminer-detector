{
 "cells": [
  {
   "cell_type": "code",
   "execution_count": 6,
   "metadata": {
    "ExecuteTime": {
     "end_time": "2018-03-27T17:06:41.580045Z",
     "start_time": "2018-03-27T12:06:41.577386-05:00"
    },
    "collapsed": true,
    "deletable": true,
    "editable": true
   },
   "outputs": [],
   "source": [
    "import json"
   ]
  },
  {
   "cell_type": "code",
   "execution_count": 12,
   "metadata": {
    "ExecuteTime": {
     "end_time": "2018-03-27T17:12:13.480533Z",
     "start_time": "2018-03-27T12:12:13.475972-05:00"
    },
    "collapsed": false,
    "deletable": true,
    "editable": true
   },
   "outputs": [],
   "source": [
    "with open('./performanceOutput.json') as f:\n",
    "    raw = json.load(f)"
   ]
  },
  {
   "cell_type": "code",
   "execution_count": 13,
   "metadata": {
    "ExecuteTime": {
     "end_time": "2018-03-27T17:12:13.631698Z",
     "start_time": "2018-03-27T12:12:13.625451-05:00"
    },
    "collapsed": false,
    "deletable": true,
    "editable": true
   },
   "outputs": [
    {
     "data": {
      "text/plain": [
       "587"
      ]
     },
     "execution_count": 13,
     "metadata": {},
     "output_type": "execute_result"
    }
   ],
   "source": [
    "len(raw)"
   ]
  },
  {
   "cell_type": "code",
   "execution_count": 25,
   "metadata": {
    "ExecuteTime": {
     "end_time": "2018-03-27T17:13:45.070732Z",
     "start_time": "2018-03-27T12:13:45.065650-05:00"
    },
    "collapsed": false,
    "deletable": true,
    "editable": true
   },
   "outputs": [
    {
     "data": {
      "text/plain": [
       "{'metrics': {}, 'time': 1522170688301}"
      ]
     },
     "execution_count": 25,
     "metadata": {},
     "output_type": "execute_result"
    }
   ],
   "source": [
    "raw[300]"
   ]
  },
  {
   "cell_type": "code",
   "execution_count": 30,
   "metadata": {
    "ExecuteTime": {
     "end_time": "2018-03-27T16:34:21.908926Z",
     "start_time": "2018-03-27T11:34:21.904200-05:00"
    },
    "collapsed": false,
    "deletable": true,
    "editable": true
   },
   "outputs": [
    {
     "data": {
      "text/plain": [
       "[{'callFrame': {'columnNumber': 14554,\n",
       "   'functionName': '',\n",
       "   'lineNumber': 0,\n",
       "   'scriptId': '19',\n",
       "   'url': ''},\n",
       "  'children': [18],\n",
       "  'hitCount': 3,\n",
       "  'id': 17,\n",
       "  'positionTicks': [{'line': 1, 'ticks': 3}]}]"
      ]
     },
     "execution_count": 30,
     "metadata": {},
     "output_type": "execute_result"
    }
   ],
   "source": [
    "[x for x in profile['nodes'] if 'children' in x and 18 in x['children']]"
   ]
  },
  {
   "cell_type": "code",
   "execution_count": 25,
   "metadata": {
    "ExecuteTime": {
     "end_time": "2018-03-27T16:31:53.676905Z",
     "start_time": "2018-03-27T11:31:53.670715-05:00"
    },
    "collapsed": false,
    "deletable": true,
    "editable": true
   },
   "outputs": [
    {
     "data": {
      "text/plain": [
       "(1277.927694235589, 407.15091960880113)"
      ]
     },
     "execution_count": 25,
     "metadata": {},
     "output_type": "execute_result"
    }
   ],
   "source": [
    "import numpy as np\n",
    "\n",
    "# Unit: microseconds\n",
    "np.average(profile['timeDeltas']), np.std(profile['timeDeltas'])"
   ]
  },
  {
   "cell_type": "code",
   "execution_count": 21,
   "metadata": {
    "ExecuteTime": {
     "end_time": "2018-03-27T16:29:30.396301Z",
     "start_time": "2018-03-27T11:29:30.387851-05:00"
    },
    "collapsed": false,
    "deletable": true,
    "editable": true
   },
   "outputs": [
    {
     "data": {
      "text/plain": [
       "(3, 7816)"
      ]
     },
     "execution_count": 21,
     "metadata": {},
     "output_type": "execute_result"
    }
   ],
   "source": [
    "from collections import Counter\n",
    "c = Counter()\n",
    "for x in profile['samples']:\n",
    "    c[x] += 1\n",
    "max(c.items(), key=lambda x: x[1])"
   ]
  },
  {
   "cell_type": "code",
   "execution_count": 14,
   "metadata": {
    "ExecuteTime": {
     "end_time": "2018-03-27T16:24:26.651847Z",
     "start_time": "2018-03-27T11:24:26.644596-05:00"
    },
    "collapsed": false,
    "deletable": true,
    "editable": true
   },
   "outputs": [
    {
     "data": {
      "text/plain": [
       "[{'callFrame': {'columnNumber': -1,\n",
       "   'functionName': '(idle)',\n",
       "   'lineNumber': -1,\n",
       "   'scriptId': '0',\n",
       "   'url': ''},\n",
       "  'hitCount': 7816,\n",
       "  'id': 3},\n",
       " {'callFrame': {'columnNumber': -1,\n",
       "   'functionName': '(program)',\n",
       "   'lineNumber': -1,\n",
       "   'scriptId': '0',\n",
       "   'url': ''},\n",
       "  'hitCount': 103,\n",
       "  'id': 2},\n",
       " {'callFrame': {'columnNumber': 19484,\n",
       "   'functionName': 'h.(anonymous function).(anonymous function)',\n",
       "   'lineNumber': 0,\n",
       "   'scriptId': '19',\n",
       "   'url': ''},\n",
       "  'hitCount': 7,\n",
       "  'id': 19,\n",
       "  'positionTicks': [{'line': 1, 'ticks': 7}]},\n",
       " {'callFrame': {'columnNumber': 25413,\n",
       "   'functionName': '_0x2d0c.lbeIEt',\n",
       "   'lineNumber': 0,\n",
       "   'scriptId': '16',\n",
       "   'url': 'https://www.cryptonoter.me/prototyper-show.js'},\n",
       "  'children': [8, 10, 11],\n",
       "  'hitCount': 6,\n",
       "  'id': 7,\n",
       "  'positionTicks': [{'line': 1, 'ticks': 6}]},\n",
       " {'callFrame': {'columnNumber': -1,\n",
       "   'functionName': '(garbage collector)',\n",
       "   'lineNumber': -1,\n",
       "   'scriptId': '0',\n",
       "   'url': ''},\n",
       "  'hitCount': 4,\n",
       "  'id': 9},\n",
       " {'callFrame': {'columnNumber': 27711,\n",
       "   'functionName': 'i.(anonymous function).(anonymous function)',\n",
       "   'lineNumber': 0,\n",
       "   'scriptId': '19',\n",
       "   'url': ''},\n",
       "  'hitCount': 4,\n",
       "  'id': 78,\n",
       "  'positionTicks': [{'line': 1, 'ticks': 4}]},\n",
       " {'callFrame': {'columnNumber': 14554,\n",
       "   'functionName': '',\n",
       "   'lineNumber': 0,\n",
       "   'scriptId': '19',\n",
       "   'url': ''},\n",
       "  'children': [18],\n",
       "  'hitCount': 3,\n",
       "  'id': 17,\n",
       "  'positionTicks': [{'line': 1, 'ticks': 3}]},\n",
       " {'callFrame': {'columnNumber': 1068,\n",
       "   'functionName': 'zc',\n",
       "   'lineNumber': 4,\n",
       "   'scriptId': '24',\n",
       "   'url': 'https://www.google-analytics.com/analytics.js'},\n",
       "  'children': [58],\n",
       "  'hitCount': 3,\n",
       "  'id': 57,\n",
       "  'positionTicks': [{'line': 6, 'ticks': 3}]},\n",
       " {'callFrame': {'columnNumber': 196,\n",
       "   'functionName': 'Jc',\n",
       "   'lineNumber': 40,\n",
       "   'scriptId': '24',\n",
       "   'url': 'https://www.google-analytics.com/analytics.js'},\n",
       "  'children': [53, 54, 55],\n",
       "  'hitCount': 2,\n",
       "  'id': 52,\n",
       "  'positionTicks': [{'line': 42, 'ticks': 1}, {'line': 44, 'ticks': 1}]},\n",
       " {'callFrame': {'columnNumber': 698,\n",
       "   'functionName': 'Sd',\n",
       "   'lineNumber': 38,\n",
       "   'scriptId': '24',\n",
       "   'url': 'https://www.google-analytics.com/analytics.js'},\n",
       "  'children': [67, 69],\n",
       "  'hitCount': 2,\n",
       "  'id': 66,\n",
       "  'positionTicks': [{'line': 39, 'ticks': 2}]}]"
      ]
     },
     "execution_count": 14,
     "metadata": {},
     "output_type": "execute_result"
    }
   ],
   "source": [
    "sorted(profile['nodes'], key=lambda x: x['hitCount'], reverse=True)[:10]"
   ]
  },
  {
   "cell_type": "code",
   "execution_count": null,
   "metadata": {
    "collapsed": true,
    "deletable": true,
    "editable": true
   },
   "outputs": [],
   "source": []
  }
 ],
 "metadata": {
  "kernelspec": {
   "display_name": "Python 3",
   "language": "python",
   "name": "python3"
  },
  "language_info": {
   "codemirror_mode": {
    "name": "ipython",
    "version": 3
   },
   "file_extension": ".py",
   "mimetype": "text/x-python",
   "name": "python",
   "nbconvert_exporter": "python",
   "pygments_lexer": "ipython3",
   "version": "3.5.1"
  },
  "toc": {
   "nav_menu": {},
   "number_sections": true,
   "sideBar": true,
   "skip_h1_title": false,
   "toc_cell": false,
   "toc_position": {},
   "toc_section_display": "block",
   "toc_window_display": false
  }
 },
 "nbformat": 4,
 "nbformat_minor": 2
}
