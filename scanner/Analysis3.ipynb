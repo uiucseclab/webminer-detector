{
 "cells": [
  {
   "cell_type": "code",
   "execution_count": 26,
   "metadata": {
    "ExecuteTime": {
     "end_time": "2018-03-27T18:21:08.109838Z",
     "start_time": "2018-03-27T13:21:08.106991-05:00"
    },
    "collapsed": true,
    "deletable": true,
    "editable": true
   },
   "outputs": [],
   "source": [
    "import json"
   ]
  },
  {
   "cell_type": "code",
   "execution_count": 27,
   "metadata": {
    "ExecuteTime": {
     "end_time": "2018-03-27T18:21:08.391499Z",
     "start_time": "2018-03-27T13:21:08.377402-05:00"
    },
    "collapsed": false,
    "deletable": true,
    "editable": true
   },
   "outputs": [],
   "source": [
    "with open('./performanceOutput.json') as f:\n",
    "    raw = json.load(f)"
   ]
  },
  {
   "cell_type": "code",
   "execution_count": 28,
   "metadata": {
    "ExecuteTime": {
     "end_time": "2018-03-27T18:21:08.624753Z",
     "start_time": "2018-03-27T13:21:08.621545-05:00"
    },
    "collapsed": false,
    "deletable": true,
    "editable": true
   },
   "outputs": [
    {
     "data": {
      "text/plain": [
       "98"
      ]
     },
     "execution_count": 28,
     "metadata": {},
     "output_type": "execute_result"
    }
   ],
   "source": [
    "len(raw)"
   ]
  },
  {
   "cell_type": "code",
   "execution_count": 34,
   "metadata": {
    "ExecuteTime": {
     "end_time": "2018-03-27T18:28:06.436701Z",
     "start_time": "2018-03-27T13:28:06.431225-05:00"
    },
    "collapsed": false,
    "deletable": true,
    "editable": true
   },
   "outputs": [
    {
     "data": {
      "text/plain": [
       "{'metrics': {'metrics': [{'name': 'Timestamp', 'value': 884981.635233},\n",
       "   {'name': 'AudioHandlers', 'value': 0},\n",
       "   {'name': 'Documents', 'value': 1},\n",
       "   {'name': 'Frames', 'value': 1},\n",
       "   {'name': 'JSEventListeners', 'value': 28},\n",
       "   {'name': 'LayoutObjects', 'value': 86},\n",
       "   {'name': 'MediaKeySessions', 'value': 0},\n",
       "   {'name': 'MediaKeys', 'value': 0},\n",
       "   {'name': 'Nodes', 'value': 177},\n",
       "   {'name': 'Resources', 'value': 15},\n",
       "   {'name': 'ScriptPromises', 'value': 0},\n",
       "   {'name': 'PausableObjects', 'value': 33},\n",
       "   {'name': 'V8PerContextDatas', 'value': 1},\n",
       "   {'name': 'WorkerGlobalScopes', 'value': 9},\n",
       "   {'name': 'UACSSResources', 'value': 0},\n",
       "   {'name': 'RTCPeerConnections', 'value': 0},\n",
       "   {'name': 'LayoutCount', 'value': 5},\n",
       "   {'name': 'RecalcStyleCount', 'value': 5},\n",
       "   {'name': 'LayoutDuration', 'value': 0.0245380001142621},\n",
       "   {'name': 'RecalcStyleDuration', 'value': 0.00113500002771616},\n",
       "   {'name': 'ScriptDuration', 'value': 0.0754289998440072},\n",
       "   {'name': 'TaskDuration', 'value': 0.182971999864094},\n",
       "   {'name': 'JSHeapUsedSize', 'value': 4840896},\n",
       "   {'name': 'JSHeapTotalSize', 'value': 10362880},\n",
       "   {'name': 'FirstMeaningfulPaint', 'value': 884980.625304},\n",
       "   {'name': 'DomContentLoaded', 'value': 884980.612679},\n",
       "   {'name': 'NavigationStart', 'value': 884980.244543}]},\n",
       " 'time': 1522174793212}"
      ]
     },
     "execution_count": 34,
     "metadata": {},
     "output_type": "execute_result"
    }
   ],
   "source": [
    "raw[0]"
   ]
  },
  {
   "cell_type": "code",
   "execution_count": null,
   "metadata": {
    "collapsed": true,
    "deletable": true,
    "editable": true
   },
   "outputs": [],
   "source": []
  }
 ],
 "metadata": {
  "kernelspec": {
   "display_name": "Python 3",
   "language": "python",
   "name": "python3"
  },
  "language_info": {
   "codemirror_mode": {
    "name": "ipython",
    "version": 3
   },
   "file_extension": ".py",
   "mimetype": "text/x-python",
   "name": "python",
   "nbconvert_exporter": "python",
   "pygments_lexer": "ipython3",
   "version": "3.5.1"
  },
  "toc": {
   "nav_menu": {},
   "number_sections": true,
   "sideBar": true,
   "skip_h1_title": false,
   "toc_cell": false,
   "toc_position": {},
   "toc_section_display": "block",
   "toc_window_display": false
  }
 },
 "nbformat": 4,
 "nbformat_minor": 2
}
