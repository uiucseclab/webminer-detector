{
 "cells": [
  {
   "cell_type": "code",
   "execution_count": 1,
   "metadata": {
    "ExecuteTime": {
     "end_time": "2018-03-27T22:44:22.436631Z",
     "start_time": "2018-03-27T17:44:22.042959-05:00"
    },
    "collapsed": true,
    "deletable": true,
    "editable": true
   },
   "outputs": [],
   "source": [
    "import json\n",
    "import numpy as np\n",
    "from matplotlib import pyplot as plt"
   ]
  },
  {
   "cell_type": "code",
   "execution_count": 2,
   "metadata": {
    "ExecuteTime": {
     "end_time": "2018-03-27T22:44:22.445282Z",
     "start_time": "2018-03-27T17:44:22.438599-05:00"
    },
    "collapsed": false,
    "deletable": true,
    "editable": true
   },
   "outputs": [],
   "source": [
    "with open('./performanceOutput.json') as f:\n",
    "    raw = json.load(f)"
   ]
  },
  {
   "cell_type": "code",
   "execution_count": 3,
   "metadata": {
    "ExecuteTime": {
     "end_time": "2018-03-27T22:44:22.454701Z",
     "start_time": "2018-03-27T17:44:22.447872-05:00"
    },
    "collapsed": false,
    "deletable": true,
    "editable": true,
    "scrolled": true
   },
   "outputs": [
    {
     "data": {
      "text/plain": [
       "{'metrics': {'metrics': [{'name': 'Timestamp', 'value': 884980.624148},\n",
       "   {'name': 'AudioHandlers', 'value': 0},\n",
       "   {'name': 'Documents', 'value': 3},\n",
       "   {'name': 'Frames', 'value': 1},\n",
       "   {'name': 'JSEventListeners', 'value': 2},\n",
       "   {'name': 'LayoutObjects', 'value': 86},\n",
       "   {'name': 'MediaKeySessions', 'value': 0},\n",
       "   {'name': 'MediaKeys', 'value': 0},\n",
       "   {'name': 'Nodes', 'value': 168},\n",
       "   {'name': 'Resources', 'value': 8},\n",
       "   {'name': 'ScriptPromises', 'value': 0},\n",
       "   {'name': 'PausableObjects', 'value': 8},\n",
       "   {'name': 'V8PerContextDatas', 'value': 1},\n",
       "   {'name': 'WorkerGlobalScopes', 'value': 0},\n",
       "   {'name': 'UACSSResources', 'value': 0},\n",
       "   {'name': 'RTCPeerConnections', 'value': 0},\n",
       "   {'name': 'LayoutCount', 'value': 2},\n",
       "   {'name': 'RecalcStyleCount', 'value': 2},\n",
       "   {'name': 'LayoutDuration', 'value': 0.0240700000431389},\n",
       "   {'name': 'RecalcStyleDuration', 'value': 0.00102600001264364},\n",
       "   {'name': 'ScriptDuration', 'value': 0.0265589999035001},\n",
       "   {'name': 'TaskDuration', 'value': 0.0838680000742897},\n",
       "   {'name': 'JSHeapUsedSize', 'value': 3064488},\n",
       "   {'name': 'JSHeapTotalSize', 'value': 9314304},\n",
       "   {'name': 'FirstMeaningfulPaint', 'value': 0},\n",
       "   {'name': 'DomContentLoaded', 'value': 884980.612679},\n",
       "   {'name': 'NavigationStart', 'value': 884980.244543}]},\n",
       " 'time': 1522174792202}"
      ]
     },
     "execution_count": 3,
     "metadata": {},
     "output_type": "execute_result"
    }
   ],
   "source": [
    "raw[0]"
   ]
  },
  {
   "cell_type": "code",
   "execution_count": 4,
   "metadata": {
    "ExecuteTime": {
     "end_time": "2018-03-27T22:44:22.460606Z",
     "start_time": "2018-03-27T17:44:22.456922-05:00"
    },
    "collapsed": true,
    "deletable": true,
    "editable": true
   },
   "outputs": [],
   "source": [
    "def getDim(name):\n",
    "    return np.array([m['value'] for r in raw for m in r['metrics']['metrics'] if m['name'] == name])"
   ]
  },
  {
   "cell_type": "code",
   "execution_count": 5,
   "metadata": {
    "ExecuteTime": {
     "end_time": "2018-03-27T22:44:22.468392Z",
     "start_time": "2018-03-27T17:44:22.463198-05:00"
    },
    "collapsed": false,
    "deletable": true,
    "editable": true,
    "scrolled": true
   },
   "outputs": [
    {
     "data": {
      "text/plain": [
       "(884980.624148, 884990.57862)"
      ]
     },
     "execution_count": 5,
     "metadata": {},
     "output_type": "execute_result"
    }
   ],
   "source": [
    "np.min(getDim('Timestamp')), np.max(getDim('Timestamp'))"
   ]
  },
  {
   "cell_type": "code",
   "execution_count": 6,
   "metadata": {
    "ExecuteTime": {
     "end_time": "2018-03-27T22:44:22.753173Z",
     "start_time": "2018-03-27T17:44:22.470920-05:00"
    },
    "collapsed": false
   },
   "outputs": [
    {
     "data": {
      "image/png": "[encoded data removed]",
      "text/plain": [
       "<matplotlib.figure.Figure at 0x1040890f0>"
      ]
     },
     "metadata": {},
     "output_type": "display_data"
    }
   ],
   "source": [
    "plt.plot(getDim('ScriptDuration'), label=\"script\")\n",
    "plt.plot(getDim('TaskDuration'), label=\"task\")\n",
    "plt.plot(getDim('ScriptDuration') + getDim('TaskDuration') + getDim('LayoutDuration') + \\\n",
    "         getDim('RecalcStyleDuration'), label=\"sum all\")\n",
    "plt.legend()\n",
    "plt.show()"
   ]
  },
  {
   "cell_type": "code",
   "execution_count": null,
   "metadata": {
    "collapsed": true
   },
   "outputs": [],
   "source": []
  }
 ],
 "metadata": {
  "kernelspec": {
   "display_name": "Python 3",
   "language": "python",
   "name": "python3"
  },
  "language_info": {
   "codemirror_mode": {
    "name": "ipython",
    "version": 3
   },
   "file_extension": ".py",
   "mimetype": "text/x-python",
   "name": "python",
   "nbconvert_exporter": "python",
   "pygments_lexer": "ipython3",
   "version": "3.5.1"
  },
  "toc": {
   "nav_menu": {},
   "number_sections": true,
   "sideBar": true,
   "skip_h1_title": false,
   "toc_cell": false,
   "toc_position": {},
   "toc_section_display": "block",
   "toc_window_display": false
  }
 },
 "nbformat": 4,
 "nbformat_minor": 2
}
