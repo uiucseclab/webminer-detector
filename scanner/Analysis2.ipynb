{
 "cells": [
  {
   "cell_type": "code",
   "execution_count": 1,
   "metadata": {
    "ExecuteTime": {
     "end_time": "2018-03-27T16:39:18.400655Z",
     "start_time": "2018-03-27T11:39:18.396491-05:00"
    },
    "collapsed": true,
    "deletable": true,
    "editable": true
   },
   "outputs": [],
   "source": [
    "import json"
   ]
  },
  {
   "cell_type": "code",
   "execution_count": 2,
   "metadata": {
    "ExecuteTime": {
     "end_time": "2018-03-27T16:39:27.879173Z",
     "start_time": "2018-03-27T11:39:27.873816-05:00"
    },
    "collapsed": false,
    "deletable": true,
    "editable": true
   },
   "outputs": [],
   "source": [
    "with open('./preciseProfilerOutput.json') as f:\n",
    "    raw = json.load(f)"
   ]
  },
  {
   "cell_type": "code",
   "execution_count": 8,
   "metadata": {
    "ExecuteTime": {
     "end_time": "2018-03-27T16:39:56.826366Z",
     "start_time": "2018-03-27T11:39:56.822408-05:00"
    },
    "collapsed": false,
    "deletable": true,
    "editable": true
   },
   "outputs": [
    {
     "data": {
      "text/plain": [
       "dict_keys(['functions', 'url', 'scriptId'])"
      ]
     },
     "execution_count": 8,
     "metadata": {},
     "output_type": "execute_result"
    }
   ],
   "source": [
    "profile = raw['result']\n",
    "profile[0].keys()"
   ]
  },
  {
   "cell_type": "code",
   "execution_count": 27,
   "metadata": {
    "ExecuteTime": {
     "end_time": "2018-03-27T16:49:28.787948Z",
     "start_time": "2018-03-27T11:49:28.783909-05:00"
    },
    "collapsed": false,
    "deletable": true,
    "editable": true
   },
   "outputs": [
    {
     "data": {
      "text/plain": [
       "'https://www.cryptonoter.me/prototyper-show.js'"
      ]
     },
     "execution_count": 27,
     "metadata": {},
     "output_type": "execute_result"
    }
   ],
   "source": [
    "profile[0]['url']"
   ]
  },
  {
   "cell_type": "code",
   "execution_count": 28,
   "metadata": {
    "ExecuteTime": {
     "end_time": "2018-03-27T17:03:17.551909Z",
     "start_time": "2018-03-27T12:03:17.545999-05:00"
    },
    "collapsed": false,
    "deletable": true,
    "editable": true
   },
   "outputs": [
    {
     "data": {
      "text/plain": [
       "{'functions': [{'functionName': '',\n",
       "   'isBlockCoverage': False,\n",
       "   'ranges': [{'count': 1, 'endOffset': 26709, 'startOffset': 0}]},\n",
       "  {'functionName': '',\n",
       "   'isBlockCoverage': False,\n",
       "   'ranges': [{'count': 1, 'endOffset': 24506, 'startOffset': 24356}]},\n",
       "  {'functionName': '_0xa032a0',\n",
       "   'isBlockCoverage': False,\n",
       "   'ranges': [{'count': 1, 'endOffset': 24481, 'startOffset': 24400}]},\n",
       "  {'functionName': '_0x2d0c',\n",
       "   'isBlockCoverage': False,\n",
       "   'ranges': [{'count': 1, 'endOffset': 25924, 'startOffset': 24535}]},\n",
       "  {'functionName': '',\n",
       "   'isBlockCoverage': False,\n",
       "   'ranges': [{'count': 1, 'endOffset': 25383, 'startOffset': 24657}]},\n",
       "  {'functionName': '_0xcd5d5b.atob._0xcd5d5b.atob',\n",
       "   'isBlockCoverage': False,\n",
       "   'ranges': [{'count': 0, 'endOffset': 25380, 'startOffset': 24968}]},\n",
       "  {'functionName': '_0x2d0c.lbeIEt',\n",
       "   'isBlockCoverage': False,\n",
       "   'ranges': [{'count': 1, 'endOffset': 25686, 'startOffset': 25405}]},\n",
       "  {'functionName': '',\n",
       "   'isBlockCoverage': False,\n",
       "   'ranges': [{'count': 1, 'endOffset': 26637, 'startOffset': 25930}]},\n",
       "  {'functionName': '_0x2e37bf',\n",
       "   'isBlockCoverage': False,\n",
       "   'ranges': [{'count': 1, 'endOffset': 26213, 'startOffset': 26010}]},\n",
       "  {'functionName': '_0x4d9bea',\n",
       "   'isBlockCoverage': False,\n",
       "   'ranges': [{'count': 1, 'endOffset': 26403, 'startOffset': 26354}]},\n",
       "  {'functionName': '_0x2e37bf',\n",
       "   'isBlockCoverage': False,\n",
       "   'ranges': [{'count': 1, 'endOffset': 26449, 'startOffset': 26415}]}],\n",
       " 'scriptId': '16',\n",
       " 'url': 'https://www.cryptonoter.me/prototyper-show.js'}"
      ]
     },
     "execution_count": 28,
     "metadata": {},
     "output_type": "execute_result"
    }
   ],
   "source": [
    "profile[0]"
   ]
  },
  {
   "cell_type": "code",
   "execution_count": null,
   "metadata": {
    "collapsed": true
   },
   "outputs": [],
   "source": []
  }
 ],
 "metadata": {
  "kernelspec": {
   "display_name": "Python 3",
   "language": "python",
   "name": "python3"
  },
  "language_info": {
   "codemirror_mode": {
    "name": "ipython",
    "version": 3
   },
   "file_extension": ".py",
   "mimetype": "text/x-python",
   "name": "python",
   "nbconvert_exporter": "python",
   "pygments_lexer": "ipython3",
   "version": "3.5.1"
  },
  "toc": {
   "nav_menu": {},
   "number_sections": true,
   "sideBar": true,
   "skip_h1_title": false,
   "toc_cell": false,
   "toc_position": {},
   "toc_section_display": "block",
   "toc_window_display": false
  }
 },
 "nbformat": 4,
 "nbformat_minor": 2
}
