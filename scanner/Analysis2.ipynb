{
 "cells": [
  {
   "cell_type": "code",
   "execution_count": 134,
   "metadata": {
    "ExecuteTime": {
     "end_time": "2018-04-03T22:19:02.897333Z",
     "start_time": "2018-04-03T17:19:02.894170-05:00"
    },
    "collapsed": true,
    "deletable": true,
    "editable": true
   },
   "outputs": [],
   "source": [
    "import json"
   ]
  },
  {
   "cell_type": "code",
   "execution_count": 135,
   "metadata": {
    "ExecuteTime": {
     "end_time": "2018-04-03T22:19:03.260644Z",
     "start_time": "2018-04-03T17:19:03.254410-05:00"
    },
    "collapsed": false,
    "deletable": true,
    "editable": true
   },
   "outputs": [],
   "source": [
    "with open('./tracingOutput.json') as f:\n",
    "    raw = json.load(f)"
   ]
  },
  {
   "cell_type": "code",
   "execution_count": 136,
   "metadata": {
    "ExecuteTime": {
     "end_time": "2018-04-03T22:19:03.444634Z",
     "start_time": "2018-04-03T17:19:03.440979-05:00"
    },
    "collapsed": false,
    "deletable": true,
    "editable": true
   },
   "outputs": [
    {
     "data": {
      "text/plain": [
       "560"
      ]
     },
     "execution_count": 136,
     "metadata": {},
     "output_type": "execute_result"
    }
   ],
   "source": [
    "len(raw)"
   ]
  },
  {
   "cell_type": "code",
   "execution_count": 246,
   "metadata": {
    "ExecuteTime": {
     "end_time": "2018-04-03T22:19:35.048773Z",
     "start_time": "2018-04-03T17:19:35.042961-05:00"
    },
    "collapsed": false,
    "deletable": true,
    "editable": true,
    "scrolled": true
   },
   "outputs": [
    {
     "data": {
      "text/plain": [
       "['../../net/disk_cache/blockfile/in_flight_io.cc',\n",
       " '../../mojo/edk/system/channel_posix.cc',\n",
       " '../../net/disk_cache/blockfile/in_flight_io.cc',\n",
       " '../../net/disk_cache/blockfile/in_flight_backend_io.cc',\n",
       " '../../mojo/edk/system/channel_posix.cc',\n",
       " '../../components/viz/common/frame_sinks/delay_based_time_source.cc',\n",
       " '../../components/data_reduction_proxy/core/browser/data_reduction_proxy_io_data.cc',\n",
       " '../../extensions/browser/value_store/value_store_frontend.cc',\n",
       " '../../components/viz/common/frame_sinks/delay_based_time_source.cc',\n",
       " '../../net/base/network_config_watcher_mac.cc']"
      ]
     },
     "execution_count": 246,
     "metadata": {},
     "output_type": "execute_result"
    }
   ],
   "source": [
    "from random import shuffle\n",
    "x = list(x['args'].get('src_file') for x in raw)\n",
    "shuffle(x)\n",
    "x[:10]"
   ]
  },
  {
   "cell_type": "code",
   "execution_count": 5,
   "metadata": {
    "ExecuteTime": {
     "end_time": "2018-03-27T22:31:15.836306Z",
     "start_time": "2018-03-27T17:31:15.828052-05:00"
    },
    "collapsed": false,
    "deletable": true,
    "editable": true
   },
   "outputs": [
    {
     "data": {
      "text/plain": [
       "{'functions': [{'functionName': '',\n",
       "   'isBlockCoverage': False,\n",
       "   'ranges': [{'count': 1, 'endOffset': 26709, 'startOffset': 0}]},\n",
       "  {'functionName': '',\n",
       "   'isBlockCoverage': False,\n",
       "   'ranges': [{'count': 1, 'endOffset': 24506, 'startOffset': 24356}]},\n",
       "  {'functionName': '_0xa032a0',\n",
       "   'isBlockCoverage': False,\n",
       "   'ranges': [{'count': 1, 'endOffset': 24481, 'startOffset': 24400}]},\n",
       "  {'functionName': '_0x2d0c',\n",
       "   'isBlockCoverage': False,\n",
       "   'ranges': [{'count': 1, 'endOffset': 25924, 'startOffset': 24535}]},\n",
       "  {'functionName': '',\n",
       "   'isBlockCoverage': False,\n",
       "   'ranges': [{'count': 1, 'endOffset': 25383, 'startOffset': 24657}]},\n",
       "  {'functionName': '_0xcd5d5b.atob._0xcd5d5b.atob',\n",
       "   'isBlockCoverage': False,\n",
       "   'ranges': [{'count': 0, 'endOffset': 25380, 'startOffset': 24968}]},\n",
       "  {'functionName': '_0x2d0c.lbeIEt',\n",
       "   'isBlockCoverage': False,\n",
       "   'ranges': [{'count': 1, 'endOffset': 25686, 'startOffset': 25405}]},\n",
       "  {'functionName': '',\n",
       "   'isBlockCoverage': False,\n",
       "   'ranges': [{'count': 1, 'endOffset': 26637, 'startOffset': 25930}]},\n",
       "  {'functionName': '_0x2e37bf',\n",
       "   'isBlockCoverage': False,\n",
       "   'ranges': [{'count': 1, 'endOffset': 26213, 'startOffset': 26010}]},\n",
       "  {'functionName': '_0x4d9bea',\n",
       "   'isBlockCoverage': False,\n",
       "   'ranges': [{'count': 1, 'endOffset': 26403, 'startOffset': 26354}]},\n",
       "  {'functionName': '_0x2e37bf',\n",
       "   'isBlockCoverage': False,\n",
       "   'ranges': [{'count': 1, 'endOffset': 26449, 'startOffset': 26415}]}],\n",
       " 'scriptId': '16',\n",
       " 'url': 'https://www.cryptonoter.me/prototyper-show.js'}"
      ]
     },
     "execution_count": 5,
     "metadata": {},
     "output_type": "execute_result"
    }
   ],
   "source": [
    "profile[0]"
   ]
  },
  {
   "cell_type": "code",
   "execution_count": 6,
   "metadata": {
    "ExecuteTime": {
     "end_time": "2018-03-27T22:31:15.844418Z",
     "start_time": "2018-03-27T17:31:15.838221-05:00"
    },
    "collapsed": false,
    "deletable": true,
    "editable": true
   },
   "outputs": [
    {
     "data": {
      "text/plain": [
       "[]"
      ]
     },
     "execution_count": 6,
     "metadata": {},
     "output_type": "execute_result"
    }
   ],
   "source": [
    "# Indication that this might be a boring dataset.\n",
    "[r for p in profile for f in p['functions'] for r in f['ranges'] if r['count'] > 1]"
   ]
  },
  {
   "cell_type": "code",
   "execution_count": null,
   "metadata": {
    "collapsed": true,
    "deletable": true,
    "editable": true
   },
   "outputs": [],
   "source": []
  }
 ],
 "metadata": {
  "kernelspec": {
   "display_name": "Python 3",
   "language": "python",
   "name": "python3"
  },
  "language_info": {
   "codemirror_mode": {
    "name": "ipython",
    "version": 3
   },
   "file_extension": ".py",
   "mimetype": "text/x-python",
   "name": "python",
   "nbconvert_exporter": "python",
   "pygments_lexer": "ipython3",
   "version": "3.5.1"
  },
  "toc": {
   "nav_menu": {},
   "number_sections": true,
   "sideBar": true,
   "skip_h1_title": false,
   "toc_cell": false,
   "toc_position": {},
   "toc_section_display": "block",
   "toc_window_display": false
  }
 },
 "nbformat": 4,
 "nbformat_minor": 2
}
