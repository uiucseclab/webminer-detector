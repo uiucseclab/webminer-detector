{
 "cells": [
  {
   "cell_type": "code",
   "execution_count": 1,
   "metadata": {
    "ExecuteTime": {
     "end_time": "2018-04-03T23:35:43.197716Z",
     "start_time": "2018-04-03T18:35:43.193772-05:00"
    },
    "collapsed": true,
    "deletable": true,
    "editable": true
   },
   "outputs": [],
   "source": [
    "import json"
   ]
  },
  {
   "cell_type": "code",
   "execution_count": 2,
   "metadata": {
    "ExecuteTime": {
     "end_time": "2018-04-03T23:35:43.732446Z",
     "start_time": "2018-04-03T18:35:43.406458-05:00"
    },
    "collapsed": false,
    "deletable": true,
    "editable": true
   },
   "outputs": [],
   "source": [
    "with open('./tracingOutput.json') as f:\n",
    "    raw = json.load(f)"
   ]
  },
  {
   "cell_type": "code",
   "execution_count": 3,
   "metadata": {
    "ExecuteTime": {
     "end_time": "2018-04-03T23:35:43.774112Z",
     "start_time": "2018-04-03T18:35:43.760909-05:00"
    },
    "collapsed": false,
    "deletable": true,
    "editable": true
   },
   "outputs": [
    {
     "data": {
      "text/plain": [
       "50505"
      ]
     },
     "execution_count": 3,
     "metadata": {},
     "output_type": "execute_result"
    }
   ],
   "source": [
    "len(raw)"
   ]
  },
  {
   "cell_type": "code",
   "execution_count": 8,
   "metadata": {
    "ExecuteTime": {
     "end_time": "2018-04-03T23:36:34.462852Z",
     "start_time": "2018-04-03T18:36:34.409659-05:00"
    },
    "collapsed": false,
    "deletable": true,
    "editable": true,
    "scrolled": true
   },
   "outputs": [
    {
     "data": {
      "text/plain": [
       "{'args',\n",
       " 'bind_id',\n",
       " 'cat',\n",
       " 'dur',\n",
       " 'flow_in',\n",
       " 'flow_out',\n",
       " 'id',\n",
       " 'id2',\n",
       " 'name',\n",
       " 'ph',\n",
       " 'pid',\n",
       " 's',\n",
       " 'scope',\n",
       " 'tdur',\n",
       " 'tid',\n",
       " 'ts',\n",
       " 'tts'}"
      ]
     },
     "execution_count": 8,
     "metadata": {},
     "output_type": "execute_result"
    }
   ],
   "source": [
    "from random import shuffle\n",
    "set(y for x in raw for y in x.keys())"
   ]
  },
  {
   "cell_type": "code",
   "execution_count": 14,
   "metadata": {
    "ExecuteTime": {
     "end_time": "2018-04-03T23:38:57.377719Z",
     "start_time": "2018-04-03T18:38:57.175964-05:00"
    },
    "collapsed": false
   },
   "outputs": [
    {
     "data": {
      "text/plain": [
       "{'args': {'labels': 'CryptoNoter - In-Browser Javascript Web Miner'},\n",
       " 'cat': '__metadata',\n",
       " 'name': 'process_labels',\n",
       " 'ph': 'M',\n",
       " 'pid': 51151,\n",
       " 'tid': 775,\n",
       " 'ts': 0}"
      ]
     },
     "execution_count": 14,
     "metadata": {},
     "output_type": "execute_result"
    }
   ],
   "source": [
    "next(x for x in raw if 'CryptoNoter - ' in str(x))"
   ]
  },
  {
   "cell_type": "code",
   "execution_count": 37,
   "metadata": {
    "ExecuteTime": {
     "end_time": "2018-04-04T01:17:19.739290Z",
     "start_time": "2018-04-03T20:17:19.510546-05:00"
    },
    "collapsed": false,
    "deletable": true,
    "editable": true
   },
   "outputs": [
    {
     "data": {
      "text/plain": [
       "[{'args': {'src_file': '../../third_party/WebKit/Source/core/dom/Document.cpp',\n",
       "   'src_func': 'CheckLoadEventSoon'},\n",
       "  'cat': 'toplevel',\n",
       "  'dur': 47,\n",
       "  'name': 'TaskQueueManager::ProcessTaskFromWorkQueue',\n",
       "  'ph': 'X',\n",
       "  'pid': 51151,\n",
       "  'tdur': 47,\n",
       "  'tid': 775,\n",
       "  'ts': 100948504742,\n",
       "  'tts': 254505},\n",
       " {'args': {'src_file': '../../third_party/WebKit/Source/core/dom/Document.cpp',\n",
       "   'src_func': 'CheckLoadEventSoon'},\n",
       "  'cat': 'toplevel',\n",
       "  'dur': 49,\n",
       "  'name': 'TaskQueueManager::ProcessTaskFromWorkQueue',\n",
       "  'ph': 'X',\n",
       "  'pid': 51151,\n",
       "  'tdur': 49,\n",
       "  'tid': 775,\n",
       "  'ts': 100948529327,\n",
       "  'tts': 256798}]"
      ]
     },
     "execution_count": 37,
     "metadata": {},
     "output_type": "execute_result"
    }
   ],
   "source": [
    "list(x for x in raw if 'events' in str(x).lower())"
   ]
  },
  {
   "cell_type": "code",
   "execution_count": null,
   "metadata": {
    "collapsed": true
   },
   "outputs": [],
   "source": []
  }
 ],
 "metadata": {
  "kernelspec": {
   "display_name": "Python 3",
   "language": "python",
   "name": "python3"
  },
  "language_info": {
   "codemirror_mode": {
    "name": "ipython",
    "version": 3
   },
   "file_extension": ".py",
   "mimetype": "text/x-python",
   "name": "python",
   "nbconvert_exporter": "python",
   "pygments_lexer": "ipython3",
   "version": "3.5.1"
  },
  "toc": {
   "nav_menu": {},
   "number_sections": true,
   "sideBar": true,
   "skip_h1_title": false,
   "toc_cell": false,
   "toc_position": {},
   "toc_section_display": "block",
   "toc_window_display": false
  }
 },
 "nbformat": 4,
 "nbformat_minor": 2
}
