{
 "cells": [
  {
   "cell_type": "markdown",
   "metadata": {},
   "source": [
    "**This will reflect the algorithm used in analysis.js**"
   ]
  },
  {
   "cell_type": "code",
   "execution_count": 1,
   "metadata": {
    "ExecuteTime": {
     "end_time": "2018-04-29T04:10:38.871539Z",
     "start_time": "2018-04-28T23:10:38.451516-05:00"
    },
    "collapsed": true,
    "deletable": true,
    "editable": true
   },
   "outputs": [],
   "source": [
    "from collections import Counter, namedtuple\n",
    "from matplotlib import pyplot as plt\n",
    "import numpy as np\n",
    "import json\n",
    "import os"
   ]
  },
  {
   "cell_type": "code",
   "execution_count": 2,
   "metadata": {
    "ExecuteTime": {
     "end_time": "2018-04-29T04:10:38.880598Z",
     "start_time": "2018-04-28T23:10:38.873411-05:00"
    },
    "collapsed": false,
    "deletable": true,
    "editable": true
   },
   "outputs": [],
   "source": [
    "def print_counter_top(ct, N):\n",
    "    ans = sorted(ct.items(), key=lambda x:x[1], reverse=True)\n",
    "    for k, v in ans[:N]:\n",
    "        print(v / 1e6, k)\n",
    "def get_counter_top(ct, N):\n",
    "    ans = sorted(ct.items(), key=lambda x:x[1], reverse=True)\n",
    "    for k, v in ans[:N]:\n",
    "        yield k"
   ]
  },
  {
   "cell_type": "code",
   "execution_count": 3,
   "metadata": {
    "ExecuteTime": {
     "end_time": "2018-04-29T04:10:38.908577Z",
     "start_time": "2018-04-28T23:10:38.882710-05:00"
    },
    "collapsed": true,
    "deletable": true,
    "editable": true
   },
   "outputs": [],
   "source": [
    "def getFcallsInfo(fname, verbose=False):\n",
    "    vprint = print if verbose else lambda *_,**__: None\n",
    "    \n",
    "    with open(fname) as f:\n",
    "        raw = json.load(f)\n",
    "\n",
    "    # Find all JS function calls\n",
    "    fcalls = [x for x in raw if x['name'] == 'FunctionCall']\n",
    "    fcalls_by_ids = {}\n",
    "    for c in fcalls:\n",
    "        key = '{}-{}'.format(c['pid'], c['tid'])\n",
    "        fcalls_by_ids.setdefault(key, []).append(c)\n",
    "\n",
    "    for k, v in fcalls_by_ids.items():\n",
    "        # See https://docs.google.com/document/d/1CvAClvFfyA5R-PhYUmn5OOQtYMH4h6I0nSsKchNAySU/preview\n",
    "        # It mentioned how  Duration Events work.\n",
    "        # But it never confirmed that 'FunctionCall' events do not nest when pid&tid do not change\n",
    "        # This confirms that they do not nest\n",
    "        vprint('Checking sanity of', k)\n",
    "        assert('BB' not in ''.join(x['ph'] for x in v))\n",
    "        assert('EE' not in ''.join(x['ph'] for x in v))\n",
    "        if v[0]['ph'] =='B':\n",
    "            assert ''.join(x['ph'] for x in v[:2*(len(v)//2)]) == 'BE' * (len(v)//2)\n",
    "        if v[0]['ph'] =='E':\n",
    "            assert ''.join(x['ph'] for x in v[1:2*(len(v)//2 + 1) - 1]) == 'BE' * (len(v)//2)\n",
    "        vprint(' + this thread checks out')\n",
    "        if len(v) %2 != 0:\n",
    "            vprint(' * remaining event: ', v[-1]['ph'])\n",
    "    vprint('OK')\n",
    "    return fcalls_by_ids"
   ]
  },
  {
   "cell_type": "code",
   "execution_count": 4,
   "metadata": {
    "ExecuteTime": {
     "end_time": "2018-04-29T04:10:38.916224Z",
     "start_time": "2018-04-28T23:10:38.910253-05:00"
    },
    "collapsed": true,
    "deletable": true,
    "editable": true
   },
   "outputs": [],
   "source": [
    "def fcall_time_range(fcalls, timestamp_key='ts'):\n",
    "    _min = min(\n",
    "        int(y.get(timestamp_key))\n",
    "        for x in fcalls.values()\n",
    "        for y in x\n",
    "        if y.get(timestamp_key) is not None\n",
    "    )\n",
    "    _max = max(\n",
    "        int(y.get(timestamp_key))\n",
    "        for x in fcalls.values()\n",
    "        for y in x\n",
    "        if y.get(timestamp_key) is not None\n",
    "    )\n",
    "    return _min, _max"
   ]
  },
  {
   "cell_type": "code",
   "execution_count": 5,
   "metadata": {
    "ExecuteTime": {
     "end_time": "2018-04-29T04:10:38.962336Z",
     "start_time": "2018-04-28T23:10:38.918287-05:00"
    },
    "collapsed": true,
    "deletable": true,
    "editable": true
   },
   "outputs": [],
   "source": [
    "def getCounters(fcalls_by_ids, time_slice_size=None):\n",
    "    # Aggregate info about JS Function calls\n",
    "    start_time, end_time = fcall_time_range(\n",
    "        fcalls_by_ids, \n",
    "        timestamp_key='ts'\n",
    "    )\n",
    "    num_time_slice = (end_time-start_time)//time_slice_size + 1 if time_slice_size else 1\n",
    "    \n",
    "    callFrames = [Counter() for _ in range(num_time_slice)]\n",
    "    callFunctionNames = [Counter() for _ in range(num_time_slice)]\n",
    "    callURLs = [Counter() for _ in range(num_time_slice)]\n",
    "\n",
    "    for k, v in fcalls_by_ids.items(): \n",
    "        if v[0]['ph'] == 'E':\n",
    "            if len(v) < 2:\n",
    "                return None\n",
    "            assert v[1]['ph'] == 'B'\n",
    "            v = v[1:]\n",
    "        bs = [x for i, x in enumerate(v) if i % 2 == 0]\n",
    "        es = [x for i, x in enumerate(v) if i % 2 != 0]\n",
    "        for b, e in zip(bs, es):\n",
    "            assert b['ph'] == 'B'\n",
    "            assert e['ph'] == 'E'\n",
    "            info = b.get('args', {}).get('data', {})\n",
    "            info2 = e.get('args', {}).get('data', {})\n",
    "            assert info.get('functionName') == info2.get('functionName') \\\n",
    "                or (not info2.get('functionName'))\n",
    "            info.update(info2)\n",
    "            duration = e.get('tts') - b.get('tts')\n",
    "            if not info: continue\n",
    "            if type(duration) is not int: continue\n",
    "                \n",
    "            frame = info.get('frame')\n",
    "            funcName = info.get('functionName')\n",
    "            url = info.get('url')\n",
    "            ts = b.get('ts')\n",
    "            slice_id = (ts - start_time) // time_slice_size if time_slice_size else 0\n",
    "            \n",
    "            callFrames[slice_id][frame] += duration\n",
    "            callFunctionNames[slice_id][funcName] += duration\n",
    "            callURLs[slice_id][url] += duration\n",
    "\n",
    "    if time_slice_size:\n",
    "        return callFrames, callFunctionNames, callURLs\n",
    "    return callFrames[0], callFunctionNames[0], callURLs[0]"
   ]
  },
  {
   "cell_type": "code",
   "execution_count": 6,
   "metadata": {
    "ExecuteTime": {
     "end_time": "2018-04-29T04:10:38.967961Z",
     "start_time": "2018-04-28T23:10:38.964311-05:00"
    },
    "collapsed": true
   },
   "outputs": [],
   "source": [
    "# cpus: list of cpu usages\n",
    "AnalysisCtx = namedtuple('AnalysisCtx', ['cpus', 'time_slice_size'])"
   ]
  },
  {
   "cell_type": "code",
   "execution_count": 7,
   "metadata": {
    "ExecuteTime": {
     "end_time": "2018-04-29T04:10:38.977505Z",
     "start_time": "2018-04-28T23:10:38.970217-05:00"
    },
    "collapsed": true
   },
   "outputs": [],
   "source": [
    "def get_timeline_for(counters, key, _ctx):\n",
    "    data = []\n",
    "    tlen = len(counters)\n",
    "    for tid, c in enumerate(counters):\n",
    "        curr_cpu = _ctx.cpus[len(_ctx.cpus) * tid // tlen]\n",
    "        if c is None:\n",
    "            data.append(0)\n",
    "            continue\n",
    "        data.append(c.get(key, 0) / _ctx.time_slice_size / curr_cpu)\n",
    "    return np.array(data)"
   ]
  },
  {
   "cell_type": "code",
   "execution_count": 8,
   "metadata": {
    "ExecuteTime": {
     "end_time": "2018-04-29T04:10:38.988868Z",
     "start_time": "2018-04-28T23:10:38.979639-05:00"
    },
    "collapsed": true
   },
   "outputs": [],
   "source": [
    "def plot_counters(sliced_counters, full_counters, _ctx):\n",
    "    configs = [\n",
    "        (0, \"by frame\"),\n",
    "        (1, \"by func name\"),\n",
    "        (2, \"by url\"),\n",
    "    ]\n",
    "    for info_idx, plot_name in configs:\n",
    "        for k in get_counter_top(full_counters[info_idx], 5):\n",
    "            data = get_timeline_for(sliced_counters[info_idx], k, _ctx)\n",
    "            label = str(k)[:50]\n",
    "            if not label:\n",
    "                label = \"(empty string)\"\n",
    "            plt.plot(data, label=label)\n",
    "\n",
    "        plt.legend()\n",
    "        plt.title(plot_name)\n",
    "        plt.ylabel(\"JS CPU%, divided by curr process CPU%\")\n",
    "        plt.show()"
   ]
  },
  {
   "cell_type": "code",
   "execution_count": 9,
   "metadata": {
    "ExecuteTime": {
     "end_time": "2018-04-29T04:10:39.040696Z",
     "start_time": "2018-04-28T23:10:38.990814-05:00"
    },
    "collapsed": false,
    "deletable": true,
    "editable": true
   },
   "outputs": [],
   "source": [
    "epsilon = 1e-5\n",
    "\n",
    "def analyze(fname_prefix, N_top_result=5, time_resolution=int(2e5), verbose=False):\n",
    "    with open(fname_prefix+'-usage.json') as f:\n",
    "        usages = json.load(f)\n",
    "        cpus = [x['cpu'] for x in usages]\n",
    "    fcalls_by_ids = getFcallsInfo(fname_prefix+'-tracing.json', verbose=verbose)\n",
    "    counters = getCounters(fcalls_by_ids, time_slice_size=time_resolution)\n",
    "    full_counters = getCounters(fcalls_by_ids)\n",
    "    \n",
    "    ctx = AnalysisCtx(cpus=cpus, time_slice_size=time_resolution)\n",
    "    \n",
    "    # Generate basic plots\n",
    "    # plot_counters(counters, full_counters, ctx)\n",
    "    \n",
    "    # Pay special attention to None frames\n",
    "    none_frame = get_timeline_for(counters[0], None, ctx)\n",
    "    none_frame = sum(none_frame > 0.02) / len(none_frame)\n",
    "    print(\"NONE FRAME SCORE:\", none_frame)\n",
    "    if none_frame >= 0.2:\n",
    "        print('RESULT: Malicious.')\n",
    "        return 1\n",
    "    if none_frame >= 0.05:\n",
    "        print('RESULT: SUSPICIOUS.')\n",
    "        return 2\n",
    "    \n",
    "    # General predictions based on JS CPU usages\n",
    "    # (if one function/url uses CPU for \n",
    "    #  a percentage of time, consistently,\n",
    "    #  then suspicous)\n",
    "    fnames = {}\n",
    "    urls = {}\n",
    "    for ans, isrc in [(fnames, 1), (urls, 2)]:\n",
    "        for key in full_counters[isrc].keys():\n",
    "            timeline = get_timeline_for(\n",
    "                counters[isrc], key, ctx\n",
    "            )\n",
    "            ans[key] = sum(timeline > 0.05) / len(timeline)\n",
    "    \n",
    "    # You can choose to show a histogram here, for debugging\n",
    "    if False:\n",
    "        plt.hist(list(fnames.values()), label=\"based on fnames\")\n",
    "        plt.hist(list(urls.values()), label=\"based on urls\")\n",
    "        plt.title(\"Histogram of scores\")\n",
    "        plt.legend()\n",
    "        plt.show()\n",
    "    \n",
    "    indicator = [x for x in fnames.values()] + [y for y in urls.values()]\n",
    "    print(\"MAX SUSPICION INDICATOR SCORE: \", max(indicator))\n",
    "    indicator = [x for x in indicator if x > 0.05]\n",
    "    if indicator:\n",
    "        print(\"RESULT: SUSPICIOUS\")\n",
    "        return 2\n",
    "    \n",
    "    print(\"RESULT: SAFE\")\n",
    "    return 3"
   ]
  },
  {
   "cell_type": "code",
   "execution_count": 10,
   "metadata": {
    "ExecuteTime": {
     "end_time": "2018-04-29T04:10:39.048555Z",
     "start_time": "2018-04-28T23:10:39.042661-05:00"
    },
    "collapsed": false
   },
   "outputs": [],
   "source": [
    "def basename(x, y):\n",
    "    if x.endswith(y):\n",
    "        return x[:-len(y)]\n",
    "    return x\n",
    "\n",
    "def all_logs_in(folder):\n",
    "    all_names = [os.path.join(folder,x) for x in os.listdir(folder)]\n",
    "    all_names = [\n",
    "        basename(basename(x, '-tracing.json'), '-usage.json')\n",
    "        for x in all_names\n",
    "    ]\n",
    "    return sorted(set(all_names))"
   ]
  },
  {
   "cell_type": "code",
   "execution_count": 11,
   "metadata": {
    "ExecuteTime": {
     "end_time": "2018-04-29T04:10:42.707094Z",
     "start_time": "2018-04-28T23:10:39.050268-05:00"
    },
    "collapsed": false
   },
   "outputs": [
    {
     "name": "stdout",
     "output_type": "stream",
     "text": [
      "mbp-normal/1-mal-1524968494\n",
      "NONE FRAME SCORE: 0.8181818181818182\n",
      "MAX SUSPICION INDICATOR SCORE:  0.7272727272727273\n",
      "RESULT: SUSPICIOUS\n",
      "mbp-normal/10-mal-1524968494\n",
      "NONE FRAME SCORE: 0.7\n",
      "MAX SUSPICION INDICATOR SCORE:  0.7\n",
      "RESULT: SUSPICIOUS\n",
      "mbp-normal/2-mal-1524968494\n",
      "NONE FRAME SCORE: 0.1\n",
      "MAX SUSPICION INDICATOR SCORE:  0.1\n",
      "RESULT: SUSPICIOUS\n",
      "mbp-normal/3-good-1524968494\n",
      "NONE FRAME SCORE: 0.0\n",
      "MAX SUSPICION INDICATOR SCORE:  0.0\n",
      "RESULT: SAFE\n",
      "mbp-normal/4-good-vid-1524968494\n",
      "NONE FRAME SCORE: 0.0\n",
      "MAX SUSPICION INDICATOR SCORE:  0.0\n",
      "RESULT: SAFE\n",
      "mbp-normal/5-good-ad-1524968494\n",
      "NONE FRAME SCORE: 0.0\n",
      "MAX SUSPICION INDICATOR SCORE:  0.0\n",
      "RESULT: SAFE\n",
      "mbp-normal/6-good-ui-1524968494\n",
      "NONE FRAME SCORE: 0.0\n",
      "MAX SUSPICION INDICATOR SCORE:  0.0\n",
      "RESULT: SAFE\n",
      "mbp-normal/7-good-1524968494\n",
      "NONE FRAME SCORE: 0.0\n",
      "MAX SUSPICION INDICATOR SCORE:  0.0\n",
      "RESULT: SAFE\n",
      "mbp-normal/8-good-1524968494\n",
      "NONE FRAME SCORE: 0.0\n",
      "MAX SUSPICION INDICATOR SCORE:  0.09090909090909091\n",
      "RESULT: SUSPICIOUS\n",
      "mbp-normal/9-mal-1524968494\n",
      "NONE FRAME SCORE: 0.1\n",
      "MAX SUSPICION INDICATOR SCORE:  0.1\n",
      "RESULT: SUSPICIOUS\n"
     ]
    }
   ],
   "source": [
    "for log in all_logs_in('mbp-normal/'):\n",
    "    print(log)\n",
    "    analyze(log)"
   ]
  },
  {
   "cell_type": "code",
   "execution_count": 12,
   "metadata": {
    "ExecuteTime": {
     "end_time": "2018-04-29T04:10:46.639748Z",
     "start_time": "2018-04-28T23:10:42.708798-05:00"
    },
    "collapsed": false,
    "deletable": true,
    "editable": true,
    "scrolled": true
   },
   "outputs": [
    {
     "name": "stdout",
     "output_type": "stream",
     "text": [
      "deploy-1vpu-1G-normal/1-mal-1524970581\n",
      "NONE FRAME SCORE: 0.8846153846153846\n",
      "MAX SUSPICION INDICATOR SCORE:  0.6538461538461539\n",
      "RESULT: SUSPICIOUS\n",
      "deploy-1vpu-1G-normal/2-mal-1524970581\n",
      "NONE FRAME SCORE: 0.16\n",
      "MAX SUSPICION INDICATOR SCORE:  0.16\n",
      "RESULT: SUSPICIOUS\n",
      "deploy-1vpu-1G-normal/3-good-1524970581\n",
      "NONE FRAME SCORE: 0.0\n",
      "MAX SUSPICION INDICATOR SCORE:  0.0\n",
      "RESULT: SAFE\n",
      "deploy-1vpu-1G-normal/4-good-vid-1524970581\n",
      "NONE FRAME SCORE: 0.0\n",
      "MAX SUSPICION INDICATOR SCORE:  0.0\n",
      "RESULT: SAFE\n",
      "deploy-1vpu-1G-normal/5-good-ad-1524970581\n",
      "NONE FRAME SCORE: 0.0\n",
      "MAX SUSPICION INDICATOR SCORE:  0.0\n",
      "RESULT: SAFE\n",
      "deploy-1vpu-1G-normal/6-good-ui-1524970581\n",
      "NONE FRAME SCORE: 0.0\n",
      "MAX SUSPICION INDICATOR SCORE:  0.16\n",
      "RESULT: SUSPICIOUS\n",
      "deploy-1vpu-1G-normal/7-good-1524970581\n",
      "NONE FRAME SCORE: 0.0\n",
      "MAX SUSPICION INDICATOR SCORE:  0.0\n",
      "RESULT: SAFE\n",
      "deploy-1vpu-1G-normal/8-good-1524970581\n",
      "NONE FRAME SCORE: 0.0\n",
      "MAX SUSPICION INDICATOR SCORE:  0.04\n",
      "RESULT: SAFE\n",
      "deploy-1vpu-1G-normal/9-mal-1524970581\n",
      "NONE FRAME SCORE: 0.16\n",
      "MAX SUSPICION INDICATOR SCORE:  0.16\n",
      "RESULT: SUSPICIOUS\n"
     ]
    }
   ],
   "source": [
    "for log in all_logs_in('deploy-1vpu-1G-normal/'):\n",
    "    print(log)\n",
    "    analyze(log)"
   ]
  },
  {
   "cell_type": "code",
   "execution_count": null,
   "metadata": {
    "collapsed": true,
    "deletable": true,
    "editable": true
   },
   "outputs": [],
   "source": []
  }
 ],
 "metadata": {
  "kernelspec": {
   "display_name": "Python 3",
   "language": "python",
   "name": "python3"
  },
  "language_info": {
   "codemirror_mode": {
    "name": "ipython",
    "version": 3
   },
   "file_extension": ".py",
   "mimetype": "text/x-python",
   "name": "python",
   "nbconvert_exporter": "python",
   "pygments_lexer": "ipython3",
   "version": "3.5.1"
  },
  "toc": {
   "nav_menu": {},
   "number_sections": true,
   "sideBar": true,
   "skip_h1_title": false,
   "toc_cell": false,
   "toc_position": {},
   "toc_section_display": "block",
   "toc_window_display": false
  }
 },
 "nbformat": 4,
 "nbformat_minor": 2
}
