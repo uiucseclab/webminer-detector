{
 "cells": [
  {
   "cell_type": "markdown",
   "metadata": {
    "deletable": true,
    "editable": true
   },
   "source": [
    "**This will reflect the algorithm used in analysis.js**"
   ]
  },
  {
   "cell_type": "code",
   "execution_count": 1,
   "metadata": {
    "ExecuteTime": {
     "end_time": "2018-04-29T17:07:34.128336Z",
     "start_time": "2018-04-29T12:07:33.810939-05:00"
    },
    "collapsed": true,
    "deletable": true,
    "editable": true
   },
   "outputs": [],
   "source": [
    "from collections import Counter, namedtuple\n",
    "from matplotlib import pyplot as plt\n",
    "import numpy as np\n",
    "import json\n",
    "import os\n",
    "import re"
   ]
  },
  {
   "cell_type": "code",
   "execution_count": 2,
   "metadata": {
    "ExecuteTime": {
     "end_time": "2018-04-29T17:07:34.135591Z",
     "start_time": "2018-04-29T12:07:34.130271-05:00"
    },
    "collapsed": false,
    "deletable": true,
    "editable": true
   },
   "outputs": [],
   "source": [
    "def print_counter_top(ct, N):\n",
    "    ans = sorted(ct.items(), key=lambda x:x[1], reverse=True)\n",
    "    for k, v in ans[:N]:\n",
    "        print(v / 1e6, k)\n",
    "def get_counter_top(ct, N):\n",
    "    ans = sorted(ct.items(), key=lambda x:x[1], reverse=True)\n",
    "    for k, v in ans[:N]:\n",
    "        yield k"
   ]
  },
  {
   "cell_type": "code",
   "execution_count": 3,
   "metadata": {
    "ExecuteTime": {
     "end_time": "2018-04-29T17:07:34.159251Z",
     "start_time": "2018-04-29T12:07:34.137593-05:00"
    },
    "collapsed": true,
    "deletable": true,
    "editable": true
   },
   "outputs": [],
   "source": [
    "def getFcallsInfo(fname, verbose=False):\n",
    "    vprint = print if verbose else lambda *_,**__: None\n",
    "    \n",
    "    with open(fname) as f:\n",
    "        raw = json.load(f)\n",
    "\n",
    "    # Find all JS function calls\n",
    "    fcalls = [x for x in raw if x['name'] == 'FunctionCall']\n",
    "    fcalls_by_ids = {}\n",
    "    for c in fcalls:\n",
    "        key = '{}-{}'.format(c['pid'], c['tid'])\n",
    "        fcalls_by_ids.setdefault(key, []).append(c)\n",
    "\n",
    "    for k, v in fcalls_by_ids.items():\n",
    "        # See https://docs.google.com/document/d/1CvAClvFfyA5R-PhYUmn5OOQtYMH4h6I0nSsKchNAySU/preview\n",
    "        # It mentioned how  Duration Events work.\n",
    "        # But it never confirmed that 'FunctionCall' events do not nest when pid&tid do not change\n",
    "        # This confirms that they do not nest\n",
    "        vprint('Checking sanity of', k)\n",
    "        assert('BB' not in ''.join(x['ph'] for x in v))\n",
    "        assert('EE' not in ''.join(x['ph'] for x in v))\n",
    "        if v[0]['ph'] =='B':\n",
    "            assert ''.join(x['ph'] for x in v[:2*(len(v)//2)]) == 'BE' * (len(v)//2)\n",
    "        if v[0]['ph'] =='E':\n",
    "            assert ''.join(x['ph'] for x in v[1:2*(len(v)//2 + 1) - 1]) == 'BE' * (len(v)//2)\n",
    "        vprint(' + this thread checks out')\n",
    "        if len(v) %2 != 0:\n",
    "            vprint(' * remaining event: ', v[-1]['ph'])\n",
    "    vprint('OK')\n",
    "    return fcalls_by_ids"
   ]
  },
  {
   "cell_type": "code",
   "execution_count": 4,
   "metadata": {
    "ExecuteTime": {
     "end_time": "2018-04-29T17:07:34.166914Z",
     "start_time": "2018-04-29T12:07:34.161543-05:00"
    },
    "collapsed": true,
    "deletable": true,
    "editable": true
   },
   "outputs": [],
   "source": [
    "def fcall_time_range(fcalls, timestamp_key='ts'):\n",
    "    _min = min(\n",
    "        int(y.get(timestamp_key))\n",
    "        for x in fcalls.values()\n",
    "        for y in x\n",
    "        if y.get(timestamp_key) is not None\n",
    "    )\n",
    "    _max = max(\n",
    "        int(y.get(timestamp_key))\n",
    "        for x in fcalls.values()\n",
    "        for y in x\n",
    "        if y.get(timestamp_key) is not None\n",
    "    )\n",
    "    return _min, _max"
   ]
  },
  {
   "cell_type": "code",
   "execution_count": 5,
   "metadata": {
    "ExecuteTime": {
     "end_time": "2018-04-29T17:07:34.222963Z",
     "start_time": "2018-04-29T12:07:34.168570-05:00"
    },
    "collapsed": true,
    "deletable": true,
    "editable": true
   },
   "outputs": [],
   "source": [
    "def getCounters(fcalls_by_ids, time_slice_size=None):\n",
    "    # Aggregate info about JS Function calls\n",
    "    start_time, end_time = fcall_time_range(\n",
    "        fcalls_by_ids, \n",
    "        timestamp_key='ts'\n",
    "    )\n",
    "    num_time_slice = (end_time-start_time)//time_slice_size + 1 if time_slice_size else 1\n",
    "    \n",
    "    callFrames = [Counter() for _ in range(num_time_slice)]\n",
    "    callFunctionNames = [Counter() for _ in range(num_time_slice)]\n",
    "    callURLs = [Counter() for _ in range(num_time_slice)]\n",
    "\n",
    "    for k, v in fcalls_by_ids.items(): \n",
    "        if v[0]['ph'] == 'E':\n",
    "            if len(v) < 2:\n",
    "                return None\n",
    "            assert v[1]['ph'] == 'B'\n",
    "            v = v[1:]\n",
    "        bs = [x for i, x in enumerate(v) if i % 2 == 0]\n",
    "        es = [x for i, x in enumerate(v) if i % 2 != 0]\n",
    "        for b, e in zip(bs, es):\n",
    "            assert b['ph'] == 'B'\n",
    "            assert e['ph'] == 'E'\n",
    "            info = b.get('args', {}).get('data', {})\n",
    "            info2 = e.get('args', {}).get('data', {})\n",
    "            assert info.get('functionName') == info2.get('functionName') \\\n",
    "                or (not info2.get('functionName'))\n",
    "            info.update(info2)\n",
    "            if not info: continue\n",
    "                \n",
    "            frame = info.get('frame')\n",
    "            funcName = info.get('functionName')\n",
    "            url = info.get('url')\n",
    "            \n",
    "            bts = b.get('ts')\n",
    "            ets = e.get('ts')\n",
    "            if time_slice_size:\n",
    "                ts = bts\n",
    "                while ts < ets:\n",
    "                    slice_id = (ts - start_time) // time_slice_size\n",
    "\n",
    "                    duration = min(ets, start_time + (slice_id + 1) * time_slice_size - 1) - ts\n",
    "                    callFrames[slice_id][frame] += duration\n",
    "                    callFunctionNames[slice_id][funcName] += duration\n",
    "                    callURLs[slice_id][url] += duration\n",
    "                    ts = start_time + (slice_id + 1) * time_slice_size\n",
    "            else:\n",
    "                callFrames[0][frame] += ets - bts\n",
    "                callFunctionNames[0][funcName] += ets - bts\n",
    "                callURLs[0][url] += ets - bts\n",
    "\n",
    "    if time_slice_size:\n",
    "        return callFrames, callFunctionNames, callURLs\n",
    "    return callFrames[0], callFunctionNames[0], callURLs[0]"
   ]
  },
  {
   "cell_type": "code",
   "execution_count": 6,
   "metadata": {
    "ExecuteTime": {
     "end_time": "2018-04-29T17:07:34.228136Z",
     "start_time": "2018-04-29T12:07:34.224807-05:00"
    },
    "collapsed": true,
    "deletable": true,
    "editable": true
   },
   "outputs": [],
   "source": [
    "# cpus: list of cpu usages\n",
    "AnalysisCtx = namedtuple('AnalysisCtx', ['cpus', 'time_slice_size'])"
   ]
  },
  {
   "cell_type": "code",
   "execution_count": 7,
   "metadata": {
    "ExecuteTime": {
     "end_time": "2018-04-29T17:07:34.238332Z",
     "start_time": "2018-04-29T12:07:34.230157-05:00"
    },
    "collapsed": true,
    "deletable": true,
    "editable": true
   },
   "outputs": [],
   "source": [
    "def get_timeline_for(counters, key, _ctx):\n",
    "    data = []\n",
    "    tlen = len(counters)\n",
    "    for tid, c in enumerate(counters):\n",
    "        curr_cpu = _ctx.cpus[len(_ctx.cpus) * tid // tlen]\n",
    "        \n",
    "        # !!! DEBUG ONLY\n",
    "        # curr_cpu = np.average(_ctx.cpus)\n",
    "        \n",
    "        if c is None:\n",
    "            data.append(0)\n",
    "            continue\n",
    "        data.append(c.get(key, 0) / _ctx.time_slice_size / curr_cpu)\n",
    "    return np.array(data)"
   ]
  },
  {
   "cell_type": "code",
   "execution_count": 8,
   "metadata": {
    "ExecuteTime": {
     "end_time": "2018-04-29T17:07:34.249823Z",
     "start_time": "2018-04-29T12:07:34.240418-05:00"
    },
    "collapsed": true,
    "deletable": true,
    "editable": true
   },
   "outputs": [],
   "source": [
    "def plot_counters(sliced_counters, full_counters, _ctx, *, config_selection=slice(None)):\n",
    "    configs = [\n",
    "        (0, \"by frame\"),\n",
    "        (1, \"by func name\"),\n",
    "        (2, \"by url\"),\n",
    "    ]\n",
    "    for info_idx, plot_name in configs[config_selection]:\n",
    "        for k in get_counter_top(full_counters[info_idx], 5):\n",
    "            data = get_timeline_for(sliced_counters[info_idx], k, _ctx)\n",
    "            label = str(k)[:50]\n",
    "            if not label:\n",
    "                label = \"(empty string)\"\n",
    "            plt.plot(data, label=label)\n",
    "\n",
    "        plt.legend()\n",
    "        plt.title(plot_name)\n",
    "        plt.ylabel(\"JS CPU%, divided by curr process CPU%\")\n",
    "        plt.show()"
   ]
  },
  {
   "cell_type": "code",
   "execution_count": 9,
   "metadata": {
    "ExecuteTime": {
     "end_time": "2018-04-29T17:07:34.256026Z",
     "start_time": "2018-04-29T12:07:34.251918-05:00"
    },
    "collapsed": true,
    "deletable": true,
    "editable": true
   },
   "outputs": [],
   "source": [
    "whitelist=[\n",
    "    #'^http(s)?://[a-zA-Z0-9\\-_]+\\.googleapis.com/',\n",
    "    #'^http(s)?://[a-zA-Z0-9\\-_]+\\.googlesyndication.com/',\n",
    "    #'^http(s)?://[a-zA-Z0-9\\-_]+\\.addthis.com/',   # By Oracle\n",
    "    #'^http(s)?://[a-zA-Z0-9\\-_]+\\.ytimg.com/',     # By Google\n",
    "]\n",
    "\n",
    "def in_whitelist(url):\n",
    "    for x in whitelist:\n",
    "        if re.match(x, url, flags=re.IGNORECASE):\n",
    "            return True\n",
    "    return False"
   ]
  },
  {
   "cell_type": "code",
   "execution_count": 10,
   "metadata": {
    "ExecuteTime": {
     "end_time": "2018-04-29T17:07:34.340941Z",
     "start_time": "2018-04-29T12:07:34.257841-05:00"
    },
    "collapsed": false,
    "deletable": true,
    "editable": true
   },
   "outputs": [],
   "source": [
    "epsilon = 1e-5\n",
    "\n",
    "def analyze(fname_prefix, N_top_result=5, time_resolution=int(1e4), verbose=False, show_hist=False, show_plot=False, plot_config_selection=slice(None)):\n",
    "    vprint = print if verbose else lambda *_,**__: None\n",
    "    with open(fname_prefix+'-usage.json') as f:\n",
    "        usages = json.load(f)\n",
    "        cpus = [x['cpu'] for x in usages]\n",
    "        avg_cpu = np.average(cpus)\n",
    "    vprint(\"AVERAGE CPU (INFO ONLY):\", avg_cpu)\n",
    "    fcalls_by_ids = getFcallsInfo(fname_prefix+'-tracing.json', verbose=verbose)\n",
    "    counters = getCounters(fcalls_by_ids, time_slice_size=time_resolution)\n",
    "    full_counters = getCounters(fcalls_by_ids)\n",
    "    \n",
    "    ctx = AnalysisCtx(cpus=cpus, time_slice_size=time_resolution)\n",
    "    \n",
    "    # Generate basic plots\n",
    "    if show_plot:\n",
    "        plot_counters(counters, full_counters, ctx, config_selection=plot_config_selection)\n",
    "    \n",
    "    # Pay special attention to None frames\n",
    "    none_frame = get_timeline_for(counters[0], None, ctx)\n",
    "    none_frame = sum(none_frame > 0.02) / len(none_frame)\n",
    "    vprint(\"NONE FRAME SCORE:\", none_frame)\n",
    "    if none_frame >= 0.2:\n",
    "        pass\n",
    "        #vprint('RESULT: Malicious.')\n",
    "        #return 1\n",
    "    if none_frame >= 0.01:\n",
    "        pass\n",
    "        #vprint('RESULT: SUSPICIOUS.')\n",
    "        #return 2\n",
    "    \n",
    "    # General predictions based on JS CPU usages\n",
    "    # (if one function/url uses CPU for \n",
    "    #  a percentage of time, consistently,\n",
    "    #  then suspicous)\n",
    "    fnames = {}\n",
    "    urls = {}\n",
    "    for ans, isrc in [(fnames, 1), (urls, 2)]:\n",
    "        for key in full_counters[isrc].keys():\n",
    "            timeline = get_timeline_for(\n",
    "                counters[isrc], key, ctx\n",
    "            )\n",
    "            # This is percentage of time where there is CPU usage\n",
    "            # ans[key] = sum(timeline > 0.05) / len(timeline)\n",
    "            \n",
    "            # This is CPU usage, only if the usage is continuously high\n",
    "            # ( we need to divide time, otherwise it's sum of CPU seconds)\n",
    "            _sum = 0\n",
    "            TIMELINE_THRESHOLD = 0.01\n",
    "            prev_high = False\n",
    "            for x in timeline:\n",
    "                if prev_high and x > TIMELINE_THRESHOLD:\n",
    "                    _sum += x\n",
    "                prev_high = x > TIMELINE_THRESHOLD\n",
    "            ans[key] = _sum / len(timeline)\n",
    "    \n",
    "    # You can choose to show a histogram here, for debugging\n",
    "    if show_hist:\n",
    "        plt.hist(list(fnames.values()), label=\"based on fnames\")\n",
    "        plt.hist(list(urls.values()), label=\"based on urls\")\n",
    "        plt.title(\"Histogram of scores\")\n",
    "        plt.legend()\n",
    "        plt.show()\n",
    "    \n",
    "    indicator = [(y, u) for u, y in urls.items() if not in_whitelist(u)]\n",
    "    vprint(\"MAX SUSPICION INDICATOR SCORE: \", max(indicator, key=lambda x:x[0]))\n",
    "    \n",
    "    # Report suspicious only if it uses more than 5% of CPU resource given to the process\n",
    "    # There WILL be false negatives, only if the malware waits a while before mining\n",
    "    # This can be fixed by running the profiler WITHIN users' browser\n",
    "    indicator = [(x, n) for x, n in indicator if x > 0.05]\n",
    "    if indicator:\n",
    "        vprint(\"RESULT: SUSPICIOUS\")\n",
    "        return 2\n",
    "    \n",
    "    vprint(\"RESULT: SAFE\")\n",
    "    return 3"
   ]
  },
  {
   "cell_type": "code",
   "execution_count": 11,
   "metadata": {
    "ExecuteTime": {
     "end_time": "2018-04-29T17:07:34.348535Z",
     "start_time": "2018-04-29T12:07:34.342723-05:00"
    },
    "collapsed": false,
    "deletable": true,
    "editable": true
   },
   "outputs": [],
   "source": [
    "def basename(x, y):\n",
    "    if x.endswith(y):\n",
    "        return x[:-len(y)]\n",
    "    return x\n",
    "\n",
    "def all_logs_in(folder):\n",
    "    all_names = [os.path.join(folder,x) for x in os.listdir(folder)]\n",
    "    all_names = [\n",
    "        basename(basename(x, '-tracing.json'), '-usage.json')\n",
    "        for x in all_names\n",
    "    ]\n",
    "    return sorted(set(all_names))"
   ]
  },
  {
   "cell_type": "code",
   "execution_count": 12,
   "metadata": {
    "ExecuteTime": {
     "end_time": "2018-04-29T17:07:36.279028Z",
     "start_time": "2018-04-29T12:07:34.350073-05:00"
    },
    "collapsed": false,
    "deletable": true,
    "editable": true
   },
   "outputs": [
    {
     "data": {
      "image/png": "[encoded data removed]",
      "text/plain": [
       "<matplotlib.figure.Figure at 0x11298f4a8>"
      ]
     },
     "metadata": {},
     "output_type": "display_data"
    },
    {
     "data": {
      "image/png": "[encoded data removed]",
      "text/plain": [
       "<matplotlib.figure.Figure at 0x112feb4e0>"
      ]
     },
     "metadata": {},
     "output_type": "display_data"
    },
    {
     "data": {
      "image/png": "[encoded data removed]",
      "text/plain": [
       "<matplotlib.figure.Figure at 0x1112409b0>"
      ]
     },
     "metadata": {},
     "output_type": "display_data"
    },
    {
     "data": {
      "image/png": "[encoded data removed]",
      "text/plain": [
       "<matplotlib.figure.Figure at 0x112e3e940>"
      ]
     },
     "metadata": {},
     "output_type": "display_data"
    },
    {
     "data": {
      "image/png": "[encoded data removed]",
      "text/plain": [
       "<matplotlib.figure.Figure at 0x113065f28>"
      ]
     },
     "metadata": {},
     "output_type": "display_data"
    },
    {
     "data": {
      "image/png": "[encoded data removed]",
      "text/plain": [
       "<matplotlib.figure.Figure at 0x113065470>"
      ]
     },
     "metadata": {},
     "output_type": "display_data"
    },
    {
     "data": {
      "text/plain": [
       "3"
      ]
     },
     "execution_count": 12,
     "metadata": {},
     "output_type": "execute_result"
    }
   ],
   "source": [
    "# Analysis of Malicious sites\n",
    "analyze('mbp-normal/2-mal-1524968494', show_hist=True)\n",
    "analyze('deploy-1vpu-1G-normal/2-mal-1524970581', show_hist=True)\n",
    "analyze('deploy-1vpu-1G-5threads/2-mal-1524975537', show_hist=True)\n",
    "analyze('deploy-1vpu-1G-continous/2-mal-1524977563', show_hist=True)\n",
    "\n",
    "# This one is special: mining didn't start during the profiling duration \n",
    "# (This is why the user should really run the browser with profiler, instead of relying on ours)\n",
    "analyze('deploy-1vpu-1G-5threads/9-mal-1524975539', show_hist=True, show_plot=True, plot_config_selection=slice(0,1))"
   ]
  },
  {
   "cell_type": "code",
   "execution_count": 13,
   "metadata": {
    "ExecuteTime": {
     "end_time": "2018-04-29T17:07:39.138677Z",
     "start_time": "2018-04-29T12:07:36.280719-05:00"
    },
    "collapsed": false,
    "deletable": true,
    "editable": true
   },
   "outputs": [
    {
     "data": {
      "image/png": "[encoded data removed]",
      "text/plain": [
       "<matplotlib.figure.Figure at 0x112f9ff28>"
      ]
     },
     "metadata": {},
     "output_type": "display_data"
    },
    {
     "data": {
      "image/png": "[encoded data removed]",
      "text/plain": [
       "<matplotlib.figure.Figure at 0x111304dd8>"
      ]
     },
     "metadata": {},
     "output_type": "display_data"
    },
    {
     "data": {
      "image/png": "[encoded data removed]",
      "text/plain": [
       "<matplotlib.figure.Figure at 0x112e3ef28>"
      ]
     },
     "metadata": {},
     "output_type": "display_data"
    },
    {
     "data": {
      "image/png": "[encoded data removed]",
      "text/plain": [
       "<matplotlib.figure.Figure at 0x111e14630>"
      ]
     },
     "metadata": {},
     "output_type": "display_data"
    },
    {
     "data": {
      "text/plain": [
       "3"
      ]
     },
     "execution_count": 13,
     "metadata": {},
     "output_type": "execute_result"
    }
   ],
   "source": [
    "# Analysis of animation-heavy website shows that if CPU is too busy, \n",
    "# animations can be wrongly accused as suspicious.\n",
    "analyze('deploy-1vpu-1G-5threads/4-good-vid-1524975535', show_hist=True)\n",
    "analyze('deploy-1vpu-1G-normal/4-good-vid-1524970581', show_hist=True)\n",
    "analyze('deploy-1vpu-1G-continous/4-good-vid-1524978289', show_hist=True)\n",
    "analyze('mbp-normal/4-good-vid-1524968494', show_hist=True)"
   ]
  },
  {
   "cell_type": "code",
   "execution_count": 14,
   "metadata": {
    "ExecuteTime": {
     "end_time": "2018-04-29T17:07:42.865492Z",
     "start_time": "2018-04-29T12:07:39.140437-05:00"
    },
    "collapsed": false,
    "deletable": true,
    "editable": true
   },
   "outputs": [
    {
     "name": "stdout",
     "output_type": "stream",
     "text": [
      "2 mbp-normal/1-mal-1524968494\n",
      "2 mbp-normal/10-mal-1524968494\n",
      "2 mbp-normal/2-mal-1524968494\n",
      "3 mbp-normal/3-good-1524968494\n",
      "3 mbp-normal/4-good-vid-1524968494\n",
      "3 mbp-normal/5-good-ad-1524968494\n",
      "3 mbp-normal/6-good-ui-1524968494\n",
      "3 mbp-normal/7-good-1524968494\n",
      "3 mbp-normal/8-good-1524968494\n",
      "2 mbp-normal/9-mal-1524968494\n"
     ]
    }
   ],
   "source": [
    "for log in all_logs_in('mbp-normal/'):\n",
    "    print(analyze(log), log)"
   ]
  },
  {
   "cell_type": "code",
   "execution_count": 15,
   "metadata": {
    "ExecuteTime": {
     "end_time": "2018-04-29T17:07:46.684140Z",
     "start_time": "2018-04-29T12:07:42.867773-05:00"
    },
    "collapsed": false,
    "deletable": true,
    "editable": true,
    "scrolled": true
   },
   "outputs": [
    {
     "name": "stdout",
     "output_type": "stream",
     "text": [
      "2 deploy-1vpu-1G-normal/1-mal-1524970581\n",
      "2 deploy-1vpu-1G-normal/2-mal-1524970581\n",
      "3 deploy-1vpu-1G-normal/3-good-1524970581\n",
      "3 deploy-1vpu-1G-normal/4-good-vid-1524970581\n",
      "3 deploy-1vpu-1G-normal/5-good-ad-1524970581\n",
      "3 deploy-1vpu-1G-normal/6-good-ui-1524970581\n",
      "3 deploy-1vpu-1G-normal/7-good-1524970581\n",
      "3 deploy-1vpu-1G-normal/8-good-1524970581\n",
      "2 deploy-1vpu-1G-normal/9-mal-1524970581\n"
     ]
    }
   ],
   "source": [
    "for log in all_logs_in('deploy-1vpu-1G-normal/'):\n",
    "    print(analyze(log), log)"
   ]
  },
  {
   "cell_type": "code",
   "execution_count": 16,
   "metadata": {
    "ExecuteTime": {
     "end_time": "2018-04-29T17:07:57.591941Z",
     "start_time": "2018-04-29T12:07:46.686186-05:00"
    },
    "collapsed": false,
    "deletable": true,
    "editable": true
   },
   "outputs": [
    {
     "name": "stdout",
     "output_type": "stream",
     "text": [
      "2 deploy-1vpu-1G-5threads/1-mal-1524975535\n",
      "2 deploy-1vpu-1G-5threads/1-mal-1524975537\n",
      "2 deploy-1vpu-1G-5threads/1-mal-1524975539\n",
      "2 deploy-1vpu-1G-5threads/1-mal-1524975541\n",
      "2 deploy-1vpu-1G-5threads/1-mal-1524975543\n",
      "2 deploy-1vpu-1G-5threads/2-mal-1524975535\n",
      "2 deploy-1vpu-1G-5threads/2-mal-1524975537\n",
      "2 deploy-1vpu-1G-5threads/2-mal-1524975539\n",
      "2 deploy-1vpu-1G-5threads/2-mal-1524975541\n",
      "2 deploy-1vpu-1G-5threads/2-mal-1524975543\n",
      "***ERR*** deploy-1vpu-1G-5threads/3-good-1524975535\n",
      "***ERR*** deploy-1vpu-1G-5threads/3-good-1524975537\n",
      "***ERR*** deploy-1vpu-1G-5threads/3-good-1524975539\n",
      "***ERR*** deploy-1vpu-1G-5threads/3-good-1524975541\n",
      "***ERR*** deploy-1vpu-1G-5threads/3-good-1524975543\n",
      "2 deploy-1vpu-1G-5threads/4-good-vid-1524975535\n",
      "2 deploy-1vpu-1G-5threads/4-good-vid-1524975537\n",
      "2 deploy-1vpu-1G-5threads/4-good-vid-1524975539\n",
      "2 deploy-1vpu-1G-5threads/4-good-vid-1524975541\n",
      "2 deploy-1vpu-1G-5threads/4-good-vid-1524975543\n",
      "2 deploy-1vpu-1G-5threads/5-good-ad-1524975535\n",
      "2 deploy-1vpu-1G-5threads/5-good-ad-1524975537\n",
      "2 deploy-1vpu-1G-5threads/5-good-ad-1524975539\n",
      "2 deploy-1vpu-1G-5threads/5-good-ad-1524975541\n",
      "2 deploy-1vpu-1G-5threads/5-good-ad-1524975543\n",
      "2 deploy-1vpu-1G-5threads/6-good-ui-1524975535\n",
      "2 deploy-1vpu-1G-5threads/6-good-ui-1524975537\n",
      "2 deploy-1vpu-1G-5threads/6-good-ui-1524975539\n",
      "2 deploy-1vpu-1G-5threads/6-good-ui-1524975541\n",
      "2 deploy-1vpu-1G-5threads/6-good-ui-1524975543\n",
      "3 deploy-1vpu-1G-5threads/7-good-1524975535\n",
      "3 deploy-1vpu-1G-5threads/7-good-1524975537\n",
      "3 deploy-1vpu-1G-5threads/7-good-1524975539\n",
      "3 deploy-1vpu-1G-5threads/7-good-1524975541\n",
      "3 deploy-1vpu-1G-5threads/7-good-1524975543\n",
      "2 deploy-1vpu-1G-5threads/8-good-1524975535\n",
      "2 deploy-1vpu-1G-5threads/8-good-1524975537\n",
      "2 deploy-1vpu-1G-5threads/8-good-1524975539\n",
      "2 deploy-1vpu-1G-5threads/8-good-1524975541\n",
      "2 deploy-1vpu-1G-5threads/8-good-1524975543\n",
      "2 deploy-1vpu-1G-5threads/9-mal-1524975535\n",
      "2 deploy-1vpu-1G-5threads/9-mal-1524975537\n",
      "3 deploy-1vpu-1G-5threads/9-mal-1524975539\n",
      "2 deploy-1vpu-1G-5threads/9-mal-1524975541\n",
      "2 deploy-1vpu-1G-5threads/9-mal-1524975543\n"
     ]
    }
   ],
   "source": [
    "\n",
    "for log in all_logs_in('deploy-1vpu-1G-5threads/'):\n",
    "    try:\n",
    "        print(analyze(log), log)\n",
    "    except:\n",
    "        print(\"***ERR***\", log)"
   ]
  },
  {
   "cell_type": "code",
   "execution_count": 17,
   "metadata": {
    "ExecuteTime": {
     "end_time": "2018-04-29T17:08:13.980330Z",
     "start_time": "2018-04-29T12:07:57.593683-05:00"
    },
    "collapsed": false,
    "deletable": true,
    "editable": true
   },
   "outputs": [
    {
     "name": "stdout",
     "output_type": "stream",
     "text": [
      "2 deploy-1vpu-1G-continous/1-mal-1524977543\n",
      "2 deploy-1vpu-1G-continous/1-mal-1524977563\n",
      "2 deploy-1vpu-1G-continous/1-mal-1524978269\n",
      "2 deploy-1vpu-1G-continous/1-mal-1524978289\n",
      "2 deploy-1vpu-1G-continous/1-mal-1524979027\n",
      "2 deploy-1vpu-1G-continous/1-mal-1524979047\n",
      "2 deploy-1vpu-1G-continous/2-mal-1524977543\n",
      "2 deploy-1vpu-1G-continous/2-mal-1524977563\n",
      "2 deploy-1vpu-1G-continous/2-mal-1524978269\n",
      "2 deploy-1vpu-1G-continous/2-mal-1524978289\n",
      "2 deploy-1vpu-1G-continous/2-mal-1524979027\n",
      "2 deploy-1vpu-1G-continous/2-mal-1524979047\n",
      "3 deploy-1vpu-1G-continous/3-good-1524977543\n",
      "3 deploy-1vpu-1G-continous/3-good-1524977563\n",
      "3 deploy-1vpu-1G-continous/3-good-1524978269\n",
      "3 deploy-1vpu-1G-continous/3-good-1524978289\n",
      "3 deploy-1vpu-1G-continous/3-good-1524979027\n",
      "3 deploy-1vpu-1G-continous/3-good-1524979047\n",
      "3 deploy-1vpu-1G-continous/4-good-vid-1524977543\n",
      "3 deploy-1vpu-1G-continous/4-good-vid-1524977563\n",
      "3 deploy-1vpu-1G-continous/4-good-vid-1524978269\n",
      "3 deploy-1vpu-1G-continous/4-good-vid-1524978289\n",
      "3 deploy-1vpu-1G-continous/4-good-vid-1524979027\n",
      "3 deploy-1vpu-1G-continous/4-good-vid-1524979047\n",
      "3 deploy-1vpu-1G-continous/5-good-ad-1524977543\n",
      "3 deploy-1vpu-1G-continous/5-good-ad-1524977563\n",
      "3 deploy-1vpu-1G-continous/5-good-ad-1524978269\n",
      "3 deploy-1vpu-1G-continous/5-good-ad-1524978289\n",
      "3 deploy-1vpu-1G-continous/5-good-ad-1524979027\n",
      "3 deploy-1vpu-1G-continous/5-good-ad-1524979047\n",
      "3 deploy-1vpu-1G-continous/6-good-ui-1524977543\n",
      "3 deploy-1vpu-1G-continous/6-good-ui-1524977563\n",
      "3 deploy-1vpu-1G-continous/6-good-ui-1524978269\n",
      "3 deploy-1vpu-1G-continous/6-good-ui-1524978289\n",
      "3 deploy-1vpu-1G-continous/6-good-ui-1524979027\n",
      "3 deploy-1vpu-1G-continous/6-good-ui-1524979047\n",
      "3 deploy-1vpu-1G-continous/7-good-1524977543\n",
      "3 deploy-1vpu-1G-continous/7-good-1524977563\n",
      "3 deploy-1vpu-1G-continous/7-good-1524978269\n",
      "3 deploy-1vpu-1G-continous/7-good-1524978289\n",
      "3 deploy-1vpu-1G-continous/7-good-1524979027\n",
      "3 deploy-1vpu-1G-continous/7-good-1524979047\n",
      "3 deploy-1vpu-1G-continous/8-good-1524977543\n",
      "3 deploy-1vpu-1G-continous/8-good-1524977563\n",
      "3 deploy-1vpu-1G-continous/8-good-1524978269\n",
      "3 deploy-1vpu-1G-continous/8-good-1524978289\n",
      "3 deploy-1vpu-1G-continous/8-good-1524979027\n",
      "2 deploy-1vpu-1G-continous/9-mal-1524977543\n",
      "2 deploy-1vpu-1G-continous/9-mal-1524977563\n",
      "2 deploy-1vpu-1G-continous/9-mal-1524978269\n",
      "2 deploy-1vpu-1G-continous/9-mal-1524978289\n",
      "2 deploy-1vpu-1G-continous/9-mal-1524979027\n"
     ]
    }
   ],
   "source": [
    "\n",
    "for log in all_logs_in('deploy-1vpu-1G-continous/'):\n",
    "    try:\n",
    "        print(analyze(log), log)\n",
    "    except:\n",
    "        print(\"***ERR***\")"
   ]
  },
  {
   "cell_type": "code",
   "execution_count": null,
   "metadata": {
    "collapsed": true,
    "deletable": true,
    "editable": true
   },
   "outputs": [],
   "source": []
  },
  {
   "cell_type": "code",
   "execution_count": null,
   "metadata": {
    "collapsed": true,
    "deletable": true,
    "editable": true
   },
   "outputs": [],
   "source": []
  }
 ],
 "metadata": {
  "kernelspec": {
   "display_name": "Python 3",
   "language": "python",
   "name": "python3"
  },
  "language_info": {
   "codemirror_mode": {
    "name": "ipython",
    "version": 3
   },
   "file_extension": ".py",
   "mimetype": "text/x-python",
   "name": "python",
   "nbconvert_exporter": "python",
   "pygments_lexer": "ipython3",
   "version": "3.5.1"
  },
  "toc": {
   "nav_menu": {},
   "number_sections": true,
   "sideBar": true,
   "skip_h1_title": false,
   "toc_cell": false,
   "toc_position": {},
   "toc_section_display": "block",
   "toc_window_display": false
  }
 },
 "nbformat": 4,
 "nbformat_minor": 2
}
