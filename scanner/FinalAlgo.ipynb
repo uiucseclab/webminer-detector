{
 "cells": [
  {
   "cell_type": "markdown",
   "metadata": {},
   "source": [
    "**This will reflect the algorithm used in analysis.js**"
   ]
  },
  {
   "cell_type": "code",
   "execution_count": 1,
   "metadata": {
    "ExecuteTime": {
     "end_time": "2018-04-29T04:11:48.269005Z",
     "start_time": "2018-04-28T23:11:47.865804-05:00"
    },
    "collapsed": true,
    "deletable": true,
    "editable": true
   },
   "outputs": [],
   "source": [
    "from collections import Counter, namedtuple\n",
    "from matplotlib import pyplot as plt\n",
    "import numpy as np\n",
    "import json\n",
    "import os"
   ]
  },
  {
   "cell_type": "code",
   "execution_count": 2,
   "metadata": {
    "ExecuteTime": {
     "end_time": "2018-04-29T04:11:48.276121Z",
     "start_time": "2018-04-28T23:11:48.270787-05:00"
    },
    "collapsed": false,
    "deletable": true,
    "editable": true
   },
   "outputs": [],
   "source": [
    "def print_counter_top(ct, N):\n",
    "    ans = sorted(ct.items(), key=lambda x:x[1], reverse=True)\n",
    "    for k, v in ans[:N]:\n",
    "        print(v / 1e6, k)\n",
    "def get_counter_top(ct, N):\n",
    "    ans = sorted(ct.items(), key=lambda x:x[1], reverse=True)\n",
    "    for k, v in ans[:N]:\n",
    "        yield k"
   ]
  },
  {
   "cell_type": "code",
   "execution_count": 3,
   "metadata": {
    "ExecuteTime": {
     "end_time": "2018-04-29T04:11:48.301583Z",
     "start_time": "2018-04-28T23:11:48.278068-05:00"
    },
    "collapsed": true,
    "deletable": true,
    "editable": true
   },
   "outputs": [],
   "source": [
    "def getFcallsInfo(fname, verbose=False):\n",
    "    vprint = print if verbose else lambda *_,**__: None\n",
    "    \n",
    "    with open(fname) as f:\n",
    "        raw = json.load(f)\n",
    "\n",
    "    # Find all JS function calls\n",
    "    fcalls = [x for x in raw if x['name'] == 'FunctionCall']\n",
    "    fcalls_by_ids = {}\n",
    "    for c in fcalls:\n",
    "        key = '{}-{}'.format(c['pid'], c['tid'])\n",
    "        fcalls_by_ids.setdefault(key, []).append(c)\n",
    "\n",
    "    for k, v in fcalls_by_ids.items():\n",
    "        # See https://docs.google.com/document/d/1CvAClvFfyA5R-PhYUmn5OOQtYMH4h6I0nSsKchNAySU/preview\n",
    "        # It mentioned how  Duration Events work.\n",
    "        # But it never confirmed that 'FunctionCall' events do not nest when pid&tid do not change\n",
    "        # This confirms that they do not nest\n",
    "        vprint('Checking sanity of', k)\n",
    "        assert('BB' not in ''.join(x['ph'] for x in v))\n",
    "        assert('EE' not in ''.join(x['ph'] for x in v))\n",
    "        if v[0]['ph'] =='B':\n",
    "            assert ''.join(x['ph'] for x in v[:2*(len(v)//2)]) == 'BE' * (len(v)//2)\n",
    "        if v[0]['ph'] =='E':\n",
    "            assert ''.join(x['ph'] for x in v[1:2*(len(v)//2 + 1) - 1]) == 'BE' * (len(v)//2)\n",
    "        vprint(' + this thread checks out')\n",
    "        if len(v) %2 != 0:\n",
    "            vprint(' * remaining event: ', v[-1]['ph'])\n",
    "    vprint('OK')\n",
    "    return fcalls_by_ids"
   ]
  },
  {
   "cell_type": "code",
   "execution_count": 4,
   "metadata": {
    "ExecuteTime": {
     "end_time": "2018-04-29T04:11:48.309485Z",
     "start_time": "2018-04-28T23:11:48.303566-05:00"
    },
    "collapsed": true,
    "deletable": true,
    "editable": true
   },
   "outputs": [],
   "source": [
    "def fcall_time_range(fcalls, timestamp_key='ts'):\n",
    "    _min = min(\n",
    "        int(y.get(timestamp_key))\n",
    "        for x in fcalls.values()\n",
    "        for y in x\n",
    "        if y.get(timestamp_key) is not None\n",
    "    )\n",
    "    _max = max(\n",
    "        int(y.get(timestamp_key))\n",
    "        for x in fcalls.values()\n",
    "        for y in x\n",
    "        if y.get(timestamp_key) is not None\n",
    "    )\n",
    "    return _min, _max"
   ]
  },
  {
   "cell_type": "code",
   "execution_count": 5,
   "metadata": {
    "ExecuteTime": {
     "end_time": "2018-04-29T04:11:48.356189Z",
     "start_time": "2018-04-28T23:11:48.311700-05:00"
    },
    "collapsed": true,
    "deletable": true,
    "editable": true
   },
   "outputs": [],
   "source": [
    "def getCounters(fcalls_by_ids, time_slice_size=None):\n",
    "    # Aggregate info about JS Function calls\n",
    "    start_time, end_time = fcall_time_range(\n",
    "        fcalls_by_ids, \n",
    "        timestamp_key='ts'\n",
    "    )\n",
    "    num_time_slice = (end_time-start_time)//time_slice_size + 1 if time_slice_size else 1\n",
    "    \n",
    "    callFrames = [Counter() for _ in range(num_time_slice)]\n",
    "    callFunctionNames = [Counter() for _ in range(num_time_slice)]\n",
    "    callURLs = [Counter() for _ in range(num_time_slice)]\n",
    "\n",
    "    for k, v in fcalls_by_ids.items(): \n",
    "        if v[0]['ph'] == 'E':\n",
    "            if len(v) < 2:\n",
    "                return None\n",
    "            assert v[1]['ph'] == 'B'\n",
    "            v = v[1:]\n",
    "        bs = [x for i, x in enumerate(v) if i % 2 == 0]\n",
    "        es = [x for i, x in enumerate(v) if i % 2 != 0]\n",
    "        for b, e in zip(bs, es):\n",
    "            assert b['ph'] == 'B'\n",
    "            assert e['ph'] == 'E'\n",
    "            info = b.get('args', {}).get('data', {})\n",
    "            info2 = e.get('args', {}).get('data', {})\n",
    "            assert info.get('functionName') == info2.get('functionName') \\\n",
    "                or (not info2.get('functionName'))\n",
    "            info.update(info2)\n",
    "            duration = e.get('tts') - b.get('tts')\n",
    "            if not info: continue\n",
    "            if type(duration) is not int: continue\n",
    "                \n",
    "            frame = info.get('frame')\n",
    "            funcName = info.get('functionName')\n",
    "            url = info.get('url')\n",
    "            ts = b.get('ts')\n",
    "            slice_id = (ts - start_time) // time_slice_size if time_slice_size else 0\n",
    "            \n",
    "            callFrames[slice_id][frame] += duration\n",
    "            callFunctionNames[slice_id][funcName] += duration\n",
    "            callURLs[slice_id][url] += duration\n",
    "\n",
    "    if time_slice_size:\n",
    "        return callFrames, callFunctionNames, callURLs\n",
    "    return callFrames[0], callFunctionNames[0], callURLs[0]"
   ]
  },
  {
   "cell_type": "code",
   "execution_count": 6,
   "metadata": {
    "ExecuteTime": {
     "end_time": "2018-04-29T04:11:48.361350Z",
     "start_time": "2018-04-28T23:11:48.358007-05:00"
    },
    "collapsed": true
   },
   "outputs": [],
   "source": [
    "# cpus: list of cpu usages\n",
    "AnalysisCtx = namedtuple('AnalysisCtx', ['cpus', 'time_slice_size'])"
   ]
  },
  {
   "cell_type": "code",
   "execution_count": 7,
   "metadata": {
    "ExecuteTime": {
     "end_time": "2018-04-29T04:11:48.370134Z",
     "start_time": "2018-04-28T23:11:48.363359-05:00"
    },
    "collapsed": true
   },
   "outputs": [],
   "source": [
    "def get_timeline_for(counters, key, _ctx):\n",
    "    data = []\n",
    "    tlen = len(counters)\n",
    "    for tid, c in enumerate(counters):\n",
    "        curr_cpu = _ctx.cpus[len(_ctx.cpus) * tid // tlen]\n",
    "        if c is None:\n",
    "            data.append(0)\n",
    "            continue\n",
    "        data.append(c.get(key, 0) / _ctx.time_slice_size / curr_cpu)\n",
    "    return np.array(data)"
   ]
  },
  {
   "cell_type": "code",
   "execution_count": 8,
   "metadata": {
    "ExecuteTime": {
     "end_time": "2018-04-29T04:11:48.381439Z",
     "start_time": "2018-04-28T23:11:48.371826-05:00"
    },
    "collapsed": true
   },
   "outputs": [],
   "source": [
    "def plot_counters(sliced_counters, full_counters, _ctx):\n",
    "    configs = [\n",
    "        (0, \"by frame\"),\n",
    "        (1, \"by func name\"),\n",
    "        (2, \"by url\"),\n",
    "    ]\n",
    "    for info_idx, plot_name in configs:\n",
    "        for k in get_counter_top(full_counters[info_idx], 5):\n",
    "            data = get_timeline_for(sliced_counters[info_idx], k, _ctx)\n",
    "            label = str(k)[:50]\n",
    "            if not label:\n",
    "                label = \"(empty string)\"\n",
    "            plt.plot(data, label=label)\n",
    "\n",
    "        plt.legend()\n",
    "        plt.title(plot_name)\n",
    "        plt.ylabel(\"JS CPU%, divided by curr process CPU%\")\n",
    "        plt.show()"
   ]
  },
  {
   "cell_type": "code",
   "execution_count": 39,
   "metadata": {
    "ExecuteTime": {
     "end_time": "2018-04-29T04:43:36.241311Z",
     "start_time": "2018-04-28T23:43:36.190816-05:00"
    },
    "collapsed": false,
    "deletable": true,
    "editable": true
   },
   "outputs": [],
   "source": [
    "epsilon = 1e-5\n",
    "\n",
    "def analyze(fname_prefix, N_top_result=5, time_resolution=int(2e5), verbose=False):\n",
    "    with open(fname_prefix+'-usage.json') as f:\n",
    "        usages = json.load(f)\n",
    "        cpus = [x['cpu'] for x in usages]\n",
    "        avg_cpu = np.average(cpus)\n",
    "    print(\"AVERAGE CPU (INFO ONLY):\", avg_cpu)\n",
    "    fcalls_by_ids = getFcallsInfo(fname_prefix+'-tracing.json', verbose=verbose)\n",
    "    counters = getCounters(fcalls_by_ids, time_slice_size=time_resolution)\n",
    "    full_counters = getCounters(fcalls_by_ids)\n",
    "    \n",
    "    ctx = AnalysisCtx(cpus=cpus, time_slice_size=time_resolution)\n",
    "    \n",
    "    # Generate basic plots\n",
    "    # plot_counters(counters, full_counters, ctx)\n",
    "    \n",
    "    # Pay special attention to None frames\n",
    "    none_frame = get_timeline_for(counters[0], None, ctx)\n",
    "    none_frame = sum(none_frame > 0.02) / len(none_frame)\n",
    "    print(\"NONE FRAME SCORE:\", none_frame)\n",
    "    if none_frame >= 0.2:\n",
    "        print('RESULT: Malicious.')\n",
    "        return 1\n",
    "    if none_frame >= 0.01:\n",
    "        print('RESULT: SUSPICIOUS.')\n",
    "        return 2\n",
    "    \n",
    "    # General predictions based on JS CPU usages\n",
    "    # (if one function/url uses CPU for \n",
    "    #  a percentage of time, consistently,\n",
    "    #  then suspicous)\n",
    "    fnames = {}\n",
    "    urls = {}\n",
    "    for ans, isrc in [(fnames, 1), (urls, 2)]:\n",
    "        for key in full_counters[isrc].keys():\n",
    "            timeline = get_timeline_for(\n",
    "                counters[isrc], key, ctx\n",
    "            )\n",
    "            ans[key] = sum(timeline > 0.05) / len(timeline)\n",
    "    \n",
    "    # You can choose to show a histogram here, for debugging\n",
    "    if False:\n",
    "        plt.hist(list(fnames.values()), label=\"based on fnames\")\n",
    "        plt.hist(list(urls.values()), label=\"based on urls\")\n",
    "        plt.title(\"Histogram of scores\")\n",
    "        plt.legend()\n",
    "        plt.show()\n",
    "    \n",
    "    indicator = [x for x in fnames.values()] + [y for y in urls.values()]\n",
    "    print(\"MAX SUSPICION INDICATOR SCORE: \", max(indicator))\n",
    "    indicator = [x for x in indicator if x > 0]\n",
    "    if indicator:\n",
    "        print(\"RESULT: SUSPICIOUS\")\n",
    "        return 2\n",
    "    \n",
    "    print(\"RESULT: SAFE\")\n",
    "    return 3"
   ]
  },
  {
   "cell_type": "code",
   "execution_count": 40,
   "metadata": {
    "ExecuteTime": {
     "end_time": "2018-04-29T04:43:37.477584Z",
     "start_time": "2018-04-28T23:43:37.471143-05:00"
    },
    "collapsed": false
   },
   "outputs": [],
   "source": [
    "def basename(x, y):\n",
    "    if x.endswith(y):\n",
    "        return x[:-len(y)]\n",
    "    return x\n",
    "\n",
    "def all_logs_in(folder):\n",
    "    all_names = [os.path.join(folder,x) for x in os.listdir(folder)]\n",
    "    all_names = [\n",
    "        basename(basename(x, '-tracing.json'), '-usage.json')\n",
    "        for x in all_names\n",
    "    ]\n",
    "    return sorted(set(all_names))"
   ]
  },
  {
   "cell_type": "code",
   "execution_count": 41,
   "metadata": {
    "ExecuteTime": {
     "end_time": "2018-04-29T04:43:41.220335Z",
     "start_time": "2018-04-28T23:43:37.788100-05:00"
    },
    "collapsed": false
   },
   "outputs": [
    {
     "name": "stdout",
     "output_type": "stream",
     "text": [
      "mbp-normal/1-mal-1524968494\n",
      "AVERAGE CPU (INFO ONLY): 13.5\n",
      "NONE FRAME SCORE: 0.8181818181818182\n",
      "RESULT: Malicious.\n",
      "mbp-normal/10-mal-1524968494\n",
      "AVERAGE CPU (INFO ONLY): 13.155555555555555\n",
      "NONE FRAME SCORE: 0.7\n",
      "RESULT: Malicious.\n",
      "mbp-normal/2-mal-1524968494\n",
      "AVERAGE CPU (INFO ONLY): 15.58888888888889\n",
      "NONE FRAME SCORE: 0.1\n",
      "RESULT: SUSPICIOUS.\n",
      "mbp-normal/3-good-1524968494\n",
      "AVERAGE CPU (INFO ONLY): 5.0888888888888895\n",
      "NONE FRAME SCORE: 0.0\n",
      "MAX SUSPICION INDICATOR SCORE:  0.0\n",
      "RESULT: SAFE\n",
      "mbp-normal/4-good-vid-1524968494\n",
      "AVERAGE CPU (INFO ONLY): 25.3\n",
      "NONE FRAME SCORE: 0.0\n",
      "MAX SUSPICION INDICATOR SCORE:  0.0\n",
      "RESULT: SAFE\n",
      "mbp-normal/5-good-ad-1524968494\n",
      "AVERAGE CPU (INFO ONLY): 31.88888888888889\n",
      "NONE FRAME SCORE: 0.0\n",
      "MAX SUSPICION INDICATOR SCORE:  0.0\n",
      "RESULT: SAFE\n",
      "mbp-normal/6-good-ui-1524968494\n",
      "AVERAGE CPU (INFO ONLY): 16.72222222222222\n",
      "NONE FRAME SCORE: 0.0\n",
      "MAX SUSPICION INDICATOR SCORE:  0.0\n",
      "RESULT: SAFE\n",
      "mbp-normal/7-good-1524968494\n",
      "AVERAGE CPU (INFO ONLY): 15.377777777777782\n",
      "NONE FRAME SCORE: 0.0\n",
      "MAX SUSPICION INDICATOR SCORE:  0.0\n",
      "RESULT: SAFE\n",
      "mbp-normal/8-good-1524968494\n",
      "AVERAGE CPU (INFO ONLY): 11.555555555555555\n",
      "NONE FRAME SCORE: 0.0\n",
      "MAX SUSPICION INDICATOR SCORE:  0.09090909090909091\n",
      "RESULT: SUSPICIOUS\n",
      "mbp-normal/9-mal-1524968494\n",
      "AVERAGE CPU (INFO ONLY): 13.31111111111111\n",
      "NONE FRAME SCORE: 0.1\n",
      "RESULT: SUSPICIOUS.\n"
     ]
    }
   ],
   "source": [
    "for log in all_logs_in('mbp-normal/'):\n",
    "    print(log)\n",
    "    analyze(log)"
   ]
  },
  {
   "cell_type": "code",
   "execution_count": 42,
   "metadata": {
    "ExecuteTime": {
     "end_time": "2018-04-29T04:43:44.858130Z",
     "start_time": "2018-04-28T23:43:41.222025-05:00"
    },
    "collapsed": false,
    "deletable": true,
    "editable": true,
    "scrolled": true
   },
   "outputs": [
    {
     "name": "stdout",
     "output_type": "stream",
     "text": [
      "deploy-1vpu-1G-normal/1-mal-1524970581\n",
      "AVERAGE CPU (INFO ONLY): 8.424999999999999\n",
      "NONE FRAME SCORE: 0.8846153846153846\n",
      "RESULT: Malicious.\n",
      "deploy-1vpu-1G-normal/2-mal-1524970581\n",
      "AVERAGE CPU (INFO ONLY): 8.095833333333333\n",
      "NONE FRAME SCORE: 0.16\n",
      "RESULT: SUSPICIOUS.\n",
      "deploy-1vpu-1G-normal/3-good-1524970581\n",
      "AVERAGE CPU (INFO ONLY): 10.854166666666666\n",
      "NONE FRAME SCORE: 0.0\n",
      "MAX SUSPICION INDICATOR SCORE:  0.0\n",
      "RESULT: SAFE\n",
      "deploy-1vpu-1G-normal/4-good-vid-1524970581\n",
      "AVERAGE CPU (INFO ONLY): 14.075000000000001\n",
      "NONE FRAME SCORE: 0.0\n",
      "MAX SUSPICION INDICATOR SCORE:  0.0\n",
      "RESULT: SAFE\n",
      "deploy-1vpu-1G-normal/5-good-ad-1524970581\n",
      "AVERAGE CPU (INFO ONLY): 16.712500000000002\n",
      "NONE FRAME SCORE: 0.0\n",
      "MAX SUSPICION INDICATOR SCORE:  0.0\n",
      "RESULT: SAFE\n",
      "deploy-1vpu-1G-normal/6-good-ui-1524970581\n",
      "AVERAGE CPU (INFO ONLY): 8.875\n",
      "NONE FRAME SCORE: 0.0\n",
      "MAX SUSPICION INDICATOR SCORE:  0.16\n",
      "RESULT: SUSPICIOUS\n",
      "deploy-1vpu-1G-normal/7-good-1524970581\n",
      "AVERAGE CPU (INFO ONLY): 11.954166666666666\n",
      "NONE FRAME SCORE: 0.0\n",
      "MAX SUSPICION INDICATOR SCORE:  0.0\n",
      "RESULT: SAFE\n",
      "deploy-1vpu-1G-normal/8-good-1524970581\n",
      "AVERAGE CPU (INFO ONLY): 17.73478260869565\n",
      "NONE FRAME SCORE: 0.0\n",
      "MAX SUSPICION INDICATOR SCORE:  0.04\n",
      "RESULT: SUSPICIOUS\n",
      "deploy-1vpu-1G-normal/9-mal-1524970581\n",
      "AVERAGE CPU (INFO ONLY): 5.5375000000000005\n",
      "NONE FRAME SCORE: 0.16\n",
      "RESULT: SUSPICIOUS.\n"
     ]
    }
   ],
   "source": [
    "for log in all_logs_in('deploy-1vpu-1G-normal/'):\n",
    "    print(log)\n",
    "    analyze(log)"
   ]
  },
  {
   "cell_type": "code",
   "execution_count": 43,
   "metadata": {
    "ExecuteTime": {
     "end_time": "2018-04-29T04:43:55.278341Z",
     "start_time": "2018-04-28T23:43:44.859947-05:00"
    },
    "collapsed": false,
    "deletable": true,
    "editable": true
   },
   "outputs": [
    {
     "name": "stdout",
     "output_type": "stream",
     "text": [
      "deploy-1vpu-1G-5threads/1-mal-1524975535\n",
      "AVERAGE CPU (INFO ONLY): 3.55\n",
      "NONE FRAME SCORE: 0.04\n",
      "RESULT: SUSPICIOUS.\n",
      "deploy-1vpu-1G-5threads/1-mal-1524975537\n",
      "AVERAGE CPU (INFO ONLY): 4.245454545454544\n",
      "NONE FRAME SCORE: 0.08\n",
      "RESULT: SUSPICIOUS.\n",
      "deploy-1vpu-1G-5threads/1-mal-1524975539\n",
      "AVERAGE CPU (INFO ONLY): 2.804347826086957\n",
      "NONE FRAME SCORE: 0.04\n",
      "RESULT: SUSPICIOUS.\n",
      "deploy-1vpu-1G-5threads/1-mal-1524975541\n",
      "AVERAGE CPU (INFO ONLY): 2.954545454545455\n",
      "NONE FRAME SCORE: 0.04\n",
      "RESULT: SUSPICIOUS.\n",
      "deploy-1vpu-1G-5threads/1-mal-1524975543\n",
      "AVERAGE CPU (INFO ONLY): 3.277272727272727\n",
      "NONE FRAME SCORE: 0.08\n",
      "RESULT: SUSPICIOUS.\n",
      "deploy-1vpu-1G-5threads/2-mal-1524975535\n",
      "AVERAGE CPU (INFO ONLY): 3.15\n",
      "NONE FRAME SCORE: 0.08\n",
      "RESULT: SUSPICIOUS.\n",
      "deploy-1vpu-1G-5threads/2-mal-1524975537\n",
      "AVERAGE CPU (INFO ONLY): 3.09047619047619\n",
      "NONE FRAME SCORE: 0.08\n",
      "RESULT: SUSPICIOUS.\n",
      "deploy-1vpu-1G-5threads/2-mal-1524975539\n",
      "AVERAGE CPU (INFO ONLY): 4.319047619047619\n",
      "NONE FRAME SCORE: 0.04\n",
      "RESULT: SUSPICIOUS.\n",
      "deploy-1vpu-1G-5threads/2-mal-1524975541\n",
      "AVERAGE CPU (INFO ONLY): 3.9181818181818175\n",
      "NONE FRAME SCORE: 0.04\n",
      "RESULT: SUSPICIOUS.\n",
      "deploy-1vpu-1G-5threads/2-mal-1524975543\n",
      "AVERAGE CPU (INFO ONLY): 3.713636363636363\n",
      "NONE FRAME SCORE: 0.07692307692307693\n",
      "RESULT: SUSPICIOUS.\n",
      "deploy-1vpu-1G-5threads/3-good-1524975535\n",
      "AVERAGE CPU (INFO ONLY): 2.528571428571428\n",
      "***ERR***\n",
      "deploy-1vpu-1G-5threads/3-good-1524975537\n",
      "AVERAGE CPU (INFO ONLY): 2.6285714285714286\n",
      "***ERR***\n",
      "deploy-1vpu-1G-5threads/3-good-1524975539\n",
      "AVERAGE CPU (INFO ONLY): 2.5333333333333328\n",
      "***ERR***\n",
      "deploy-1vpu-1G-5threads/3-good-1524975541\n",
      "AVERAGE CPU (INFO ONLY): 2.6142857142857143\n",
      "***ERR***\n",
      "deploy-1vpu-1G-5threads/3-good-1524975543\n",
      "AVERAGE CPU (INFO ONLY): 2.6285714285714286\n",
      "***ERR***\n",
      "deploy-1vpu-1G-5threads/4-good-vid-1524975535\n",
      "AVERAGE CPU (INFO ONLY): 2.478571428571428\n",
      "NONE FRAME SCORE: 0.0\n",
      "MAX SUSPICION INDICATOR SCORE:  0.03225806451612903\n",
      "RESULT: SUSPICIOUS\n",
      "deploy-1vpu-1G-5threads/4-good-vid-1524975537\n",
      "AVERAGE CPU (INFO ONLY): 2.4375\n",
      "NONE FRAME SCORE: 0.0\n",
      "MAX SUSPICION INDICATOR SCORE:  0.03225806451612903\n",
      "RESULT: SUSPICIOUS\n",
      "deploy-1vpu-1G-5threads/4-good-vid-1524975539\n",
      "AVERAGE CPU (INFO ONLY): 2.3714285714285714\n",
      "NONE FRAME SCORE: 0.0\n",
      "MAX SUSPICION INDICATOR SCORE:  0.03225806451612903\n",
      "RESULT: SUSPICIOUS\n",
      "deploy-1vpu-1G-5threads/4-good-vid-1524975541\n",
      "AVERAGE CPU (INFO ONLY): 2.3785714285714286\n",
      "NONE FRAME SCORE: 0.0\n",
      "MAX SUSPICION INDICATOR SCORE:  0.03225806451612903\n",
      "RESULT: SUSPICIOUS\n",
      "deploy-1vpu-1G-5threads/4-good-vid-1524975543\n",
      "AVERAGE CPU (INFO ONLY): 2.3705882352941177\n",
      "NONE FRAME SCORE: 0.0\n",
      "MAX SUSPICION INDICATOR SCORE:  0.029411764705882353\n",
      "RESULT: SUSPICIOUS\n",
      "deploy-1vpu-1G-5threads/5-good-ad-1524975535\n",
      "AVERAGE CPU (INFO ONLY): 3.0\n",
      "NONE FRAME SCORE: 0.0\n",
      "MAX SUSPICION INDICATOR SCORE:  0.0\n",
      "RESULT: SAFE\n",
      "deploy-1vpu-1G-5threads/5-good-ad-1524975537\n",
      "AVERAGE CPU (INFO ONLY): 3.0\n",
      "NONE FRAME SCORE: 0.0\n",
      "MAX SUSPICION INDICATOR SCORE:  0.0\n",
      "RESULT: SAFE\n",
      "deploy-1vpu-1G-5threads/5-good-ad-1524975539\n",
      "AVERAGE CPU (INFO ONLY): 2.95\n",
      "NONE FRAME SCORE: 0.0\n",
      "MAX SUSPICION INDICATOR SCORE:  0.0\n",
      "RESULT: SAFE\n",
      "deploy-1vpu-1G-5threads/5-good-ad-1524975541\n",
      "AVERAGE CPU (INFO ONLY): 2.96\n",
      "NONE FRAME SCORE: 0.0\n",
      "MAX SUSPICION INDICATOR SCORE:  0.004149377593360996\n",
      "RESULT: SUSPICIOUS\n",
      "deploy-1vpu-1G-5threads/5-good-ad-1524975543\n",
      "AVERAGE CPU (INFO ONLY): 3.0\n",
      "NONE FRAME SCORE: 0.0\n",
      "MAX SUSPICION INDICATOR SCORE:  0.0\n",
      "RESULT: SAFE\n",
      "deploy-1vpu-1G-5threads/6-good-ui-1524975535\n",
      "AVERAGE CPU (INFO ONLY): 2.522727272727273\n",
      "NONE FRAME SCORE: 0.0\n",
      "MAX SUSPICION INDICATOR SCORE:  0.038461538461538464\n",
      "RESULT: SUSPICIOUS\n",
      "deploy-1vpu-1G-5threads/6-good-ui-1524975537\n",
      "AVERAGE CPU (INFO ONLY): 3.5045454545454557\n",
      "NONE FRAME SCORE: 0.0\n",
      "MAX SUSPICION INDICATOR SCORE:  0.07142857142857142\n",
      "RESULT: SUSPICIOUS\n",
      "deploy-1vpu-1G-5threads/6-good-ui-1524975539\n",
      "AVERAGE CPU (INFO ONLY): 2.595652173913044\n",
      "NONE FRAME SCORE: 0.0\n",
      "MAX SUSPICION INDICATOR SCORE:  0.07692307692307693\n",
      "RESULT: SUSPICIOUS\n",
      "deploy-1vpu-1G-5threads/6-good-ui-1524975541\n",
      "AVERAGE CPU (INFO ONLY): 2.4695652173913043\n",
      "NONE FRAME SCORE: 0.0\n",
      "MAX SUSPICION INDICATOR SCORE:  0.04\n",
      "RESULT: SUSPICIOUS\n",
      "deploy-1vpu-1G-5threads/6-good-ui-1524975543\n",
      "AVERAGE CPU (INFO ONLY): 1.9304347826086956\n",
      "NONE FRAME SCORE: 0.0\n",
      "MAX SUSPICION INDICATOR SCORE:  0.09375\n",
      "RESULT: SUSPICIOUS\n",
      "deploy-1vpu-1G-5threads/7-good-1524975535\n",
      "AVERAGE CPU (INFO ONLY): 3.5181818181818176\n",
      "NONE FRAME SCORE: 0.0\n",
      "MAX SUSPICION INDICATOR SCORE:  0.0\n",
      "RESULT: SAFE\n",
      "deploy-1vpu-1G-5threads/7-good-1524975537\n",
      "AVERAGE CPU (INFO ONLY): 3.931818181818181\n",
      "NONE FRAME SCORE: 0.0\n",
      "MAX SUSPICION INDICATOR SCORE:  0.0\n",
      "RESULT: SAFE\n",
      "deploy-1vpu-1G-5threads/7-good-1524975539\n",
      "AVERAGE CPU (INFO ONLY): 3.186363636363636\n",
      "NONE FRAME SCORE: 0.0\n",
      "MAX SUSPICION INDICATOR SCORE:  0.0\n",
      "RESULT: SAFE\n",
      "deploy-1vpu-1G-5threads/7-good-1524975541\n",
      "AVERAGE CPU (INFO ONLY): 3.609090909090908\n",
      "NONE FRAME SCORE: 0.0\n",
      "MAX SUSPICION INDICATOR SCORE:  0.0\n",
      "RESULT: SAFE\n",
      "deploy-1vpu-1G-5threads/7-good-1524975543\n",
      "AVERAGE CPU (INFO ONLY): 3.9652173913043467\n",
      "NONE FRAME SCORE"
     ]
    },
    {
     "data": {
      "text/html": [
       "<b>limit_output extension: Maximum message size of 5000 exceeded with 5141 characters</b>"
      ]
     },
     "metadata": {},
     "output_type": "display_data"
    }
   ],
   "source": [
    "\n",
    "for log in all_logs_in('deploy-1vpu-1G-5threads/'):\n",
    "    print(log)\n",
    "    try:\n",
    "        analyze(log)\n",
    "    except:\n",
    "        print(\"***ERR***\")"
   ]
  },
  {
   "cell_type": "code",
   "execution_count": null,
   "metadata": {
    "collapsed": true
   },
   "outputs": [],
   "source": []
  },
  {
   "cell_type": "code",
   "execution_count": null,
   "metadata": {
    "collapsed": true
   },
   "outputs": [],
   "source": []
  }
 ],
 "metadata": {
  "kernelspec": {
   "display_name": "Python 3",
   "language": "python",
   "name": "python3"
  },
  "language_info": {
   "codemirror_mode": {
    "name": "ipython",
    "version": 3
   },
   "file_extension": ".py",
   "mimetype": "text/x-python",
   "name": "python",
   "nbconvert_exporter": "python",
   "pygments_lexer": "ipython3",
   "version": "3.5.1"
  },
  "toc": {
   "nav_menu": {},
   "number_sections": true,
   "sideBar": true,
   "skip_h1_title": false,
   "toc_cell": false,
   "toc_position": {},
   "toc_section_display": "block",
   "toc_window_display": false
  }
 },
 "nbformat": 4,
 "nbformat_minor": 2
}
