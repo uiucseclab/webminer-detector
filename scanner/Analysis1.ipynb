{
 "cells": [
  {
   "cell_type": "code",
   "execution_count": 3,
   "metadata": {
    "ExecuteTime": {
     "end_time": "2018-04-15T01:45:18.907549Z",
     "start_time": "2018-04-14T20:45:18.904411-05:00"
    },
    "collapsed": true,
    "deletable": true,
    "editable": true
   },
   "outputs": [],
   "source": [
    "from collections import Counter\n",
    "import json"
   ]
  },
  {
   "cell_type": "code",
   "execution_count": 4,
   "metadata": {
    "ExecuteTime": {
     "end_time": "2018-04-15T01:45:19.035260Z",
     "start_time": "2018-04-14T20:45:19.030518-05:00"
    },
    "collapsed": false,
    "deletable": true,
    "editable": true
   },
   "outputs": [],
   "source": [
    "def print_counter_top(ct, N):\n",
    "    ans = sorted(ct.items(), key=lambda x:x[1], reverse=True)\n",
    "    for k, v in ans[:N]:\n",
    "        print(v, k)"
   ]
  },
  {
   "cell_type": "code",
   "execution_count": 31,
   "metadata": {
    "ExecuteTime": {
     "end_time": "2018-04-15T02:07:47.809806Z",
     "start_time": "2018-04-14T21:07:47.724054-05:00"
    },
    "collapsed": false,
    "deletable": true,
    "editable": true
   },
   "outputs": [],
   "source": [
    "def analyze(fname, N_top_result=5, verbose=False):\n",
    "    vprint = print if verbose else lambda *_,**__: None\n",
    "    \n",
    "    with open(fname) as f:\n",
    "        raw = json.load(f)\n",
    "\n",
    "    # Find all JS function calls\n",
    "    fcalls = [x for x in raw if x['name'] == 'FunctionCall']\n",
    "    fcalls_by_ids = {}\n",
    "    for c in fcalls:\n",
    "        key = '{}-{}'.format(c['pid'], c['tid'])\n",
    "        fcalls_by_ids.setdefault(key, []).append(c)\n",
    "\n",
    "    for k, v in fcalls_by_ids.items():\n",
    "        # See https://docs.google.com/document/d/1CvAClvFfyA5R-PhYUmn5OOQtYMH4h6I0nSsKchNAySU/preview\n",
    "        # It mentioned how  Duration Events work.\n",
    "        # But it never confirmed that 'FunctionCall' events do not nest when pid&tid do not change\n",
    "        # This confirms that they do not nest\n",
    "        vprint('Checking sanity of', k)\n",
    "        assert('BB' not in ''.join(x['ph'] for x in v))\n",
    "        assert('EE' not in ''.join(x['ph'] for x in v))\n",
    "        if v[0]['ph'] =='B':\n",
    "            assert ''.join(x['ph'] for x in v[:2*(len(v)//2)]) == 'BE' * (len(v)//2)\n",
    "        if v[0]['ph'] =='E':\n",
    "            assert ''.join(x['ph'] for x in v[1:2*(len(v)//2 + 1) - 1]) == 'BE' * (len(v)//2)\n",
    "        vprint(' + this thread checks out')\n",
    "        if len(v) %2 != 0:\n",
    "            vprint(' * remaining event: ', v[-1]['ph'])\n",
    "    vprint('OK')\n",
    "\n",
    "    # Aggregate info about JS Function calls\n",
    "    callFrames = Counter()\n",
    "    callFunctionNames = Counter()\n",
    "    callURLs = Counter()\n",
    "\n",
    "    for k, v in fcalls_by_ids.items(): \n",
    "        if v[0]['ph'] == 'E':\n",
    "            assert v[1]['ph'] == 'B'\n",
    "            v = v[1:]\n",
    "        bs = [x for i, x in enumerate(v) if i % 2 == 0]\n",
    "        es = [x for i, x in enumerate(v) if i % 2 != 0]\n",
    "        for b, e in zip(bs, es):\n",
    "            assert b['ph'] == 'B'\n",
    "            assert e['ph'] == 'E'\n",
    "            info = b.get('args', {}).get('data', {})\n",
    "            info2 = e.get('args', {}).get('data', {})\n",
    "            assert info.get('functionName') == info2.get('functionName') \\\n",
    "                or (not info2.get('functionName'))\n",
    "            info.update(info2)\n",
    "            duration = e.get('tts') - b.get('tts')\n",
    "            if not info: continue\n",
    "            if type(duration) is not int: continue\n",
    "            callFrames[info.get('frame')] += duration / 1e6\n",
    "            callFunctionNames[info.get('functionName')] += duration / 1e6\n",
    "            callURLs[info.get('url')] += duration / 1e6\n",
    "\n",
    "    # ! callFrames may be major indicator: If 'None' frame uses too much time, it's usual.\n",
    "    print('----- call frames -----')\n",
    "    print_counter_top(callFrames, N=N_top_result)\n",
    "    print('----- func names -----')\n",
    "    print_counter_top(callFunctionNames, N=N_top_result)\n",
    "    print('----- called urls -----')\n",
    "    print_counter_top(callURLs, N=N_top_result)"
   ]
  },
  {
   "cell_type": "code",
   "execution_count": 32,
   "metadata": {
    "ExecuteTime": {
     "end_time": "2018-04-15T02:07:50.969197Z",
     "start_time": "2018-04-14T21:07:47.911735-05:00"
    },
    "collapsed": false,
    "deletable": true,
    "editable": true
   },
   "outputs": [
    {
     "name": "stdout",
     "output_type": "stream",
     "text": [
      "----- call frames -----\n",
      "141.75913400000016 None\n",
      "0.13138600000000003 4A3278310ADC1F4D8DE8FE0AD4FD8528\n",
      "0.002773999999999999 FDE5E38EF5D4E19DD0D2040B43FC16E9\n",
      "----- func names -----\n",
      "117.92003399999989 CryptonightWASMWrapper.workThrottled\n",
      "23.8391 CryptonightWASMWrapper.onMessage\n",
      "0.05893899999999997 MinerUI.updateStats\n",
      "0.03438200000000002 MinerUI.drawGraph\n",
      "0.020429999999999997 _0xfe497a.(anonymous function).(anonymous function)\n",
      "----- called urls -----\n",
      "141.75913400000016 blob:https://authedmine.com/ecf0db7f-3019-4468-9f71-6cfe50cffccb\n",
      "0.0945649999999999 https://authedmine.com/media/miner.html?key=iPda8gvGQpMBx4aALroEhqOcYSZ9ta5C&user=CS460-testing&whitelabel=0&autostart=1&throttle=0.3&threads=&background=&text=&action=&ref=&graph=\n",
      "0.036821000000000007 \n",
      "0.002773999999999999 https://authedmine.com/lib/simple-ui.min.js\n"
     ]
    }
   ],
   "source": [
    "analyze('./miner1-tracing.json')"
   ]
  },
  {
   "cell_type": "code",
   "execution_count": 33,
   "metadata": {
    "ExecuteTime": {
     "end_time": "2018-04-15T02:07:52.043136Z",
     "start_time": "2018-04-14T21:07:50.970938-05:00"
    },
    "collapsed": false,
    "deletable": true,
    "editable": true
   },
   "outputs": [
    {
     "name": "stdout",
     "output_type": "stream",
     "text": [
      "----- call frames -----\n",
      "116.07749799999998 None\n",
      "0.09576399999999986 E15AF5E14C07CC3EC5C565C90EC81B60\n",
      "----- func names -----\n",
      "116.07749799999998 CryptonightWASMWrapper.onMessage\n",
      "0.07565199999999994 u\n",
      "0.011430999999999997 JobThread.onReceiveMsg\n",
      "0.006464 Miner._updateTabs\n",
      "0.0013039999999999998 Miner._onMessage\n",
      "----- called urls -----\n",
      "116.07749799999998 blob:https://eenteslavoorsimon.be/68ddd1ce-cb24-493f-9bdb-3e0c1faf7b19\n",
      "0.07565199999999994 https://eenteslavoorsimon.be/js/main.44c9d0c64f7ccf8c9c0e.js\n",
      "0.02011200000000001 https://coinhive.com/lib/coinhive.min.js\n"
     ]
    }
   ],
   "source": [
    "analyze('./miner2-tracing.json')"
   ]
  },
  {
   "cell_type": "code",
   "execution_count": 34,
   "metadata": {
    "ExecuteTime": {
     "end_time": "2018-04-15T02:07:55.014131Z",
     "start_time": "2018-04-14T21:07:52.045287-05:00"
    },
    "collapsed": false,
    "deletable": true,
    "editable": true
   },
   "outputs": [
    {
     "name": "stdout",
     "output_type": "stream",
     "text": [
      "----- call frames -----\n",
      "1.5815709999999896 967D17AB3B4B023C7BFEBA556D53B073\n",
      "0.004132 None\n",
      "----- func names -----\n",
      "0.8633839999999995 \n",
      "0.29600200000000004 F.H\n",
      "0.10563299999999999 observe.characterData\n",
      "0.05702000000000002 g.h.DL\n",
      "0.033007000000000127 SF.C\n",
      "----- called urls -----\n",
      "0.7396670000000004 https://s.ytimg.com/yts/jsbin/web-animations-next-lite.min-vflqEtsI7/web-animations-next-lite.min.js\n",
      "0.30061800000000016 https://s.ytimg.com/yts/jsbin/scheduler-vflYh9t8D/scheduler.js\n",
      "0.2989039999999959 https://s.ytimg.com/yts/jsbin/desktop_polymer-vflbecItI/desktop_polymer.js\n",
      "0.18489600000000103 https://s.ytimg.com/yts/jsbin/player-vflSawkIt/en_US/base.js\n",
      "0.051093 https://s.ytimg.com/yts/jsbin/spf-vflRfjT3b/spf.js\n"
     ]
    }
   ],
   "source": [
    "# Youtube can be told apart from miners by looking at callFrame[None]\n",
    "analyze('./youtube1-tracing.json')"
   ]
  },
  {
   "cell_type": "code",
   "execution_count": 35,
   "metadata": {
    "ExecuteTime": {
     "end_time": "2018-04-15T02:07:59.415106Z",
     "start_time": "2018-04-14T21:07:55.015934-05:00"
    },
    "collapsed": false,
    "deletable": true,
    "editable": true
   },
   "outputs": [
    {
     "name": "stdout",
     "output_type": "stream",
     "text": [
      "----- call frames -----\n",
      "0.27787099999999915 209D8579153CE5091DB2E88AD7D93BC0\n",
      "0.146941 21085C3BC727D8F2CE4128DB012F22B0\n",
      "0.11231400000000001 9412A17B71DB48522F61A5AC6A58608C\n",
      "0.058612 None\n",
      "0.03516000000000002 CEAC92BE92E735E0A220AFB0DC22F2B3\n",
      "----- func names -----\n",
      "0.42844899999999925 \n",
      "0.26529899999999984 nrWrapper\n",
      "0.008617 run\n",
      "0.005742000000000001 e.hl\n",
      "0.005233999999999999 Ib.u\n",
      "----- called urls -----\n",
      "0.26545499999999983 https://s.abcnews.com/assets/js/newrelic.js\n",
      "0.260507 https://pagead2.googlesyndication.com/pagead/js/r20180404/r20170110/osd.js\n",
      "0.05293000000000002 https://tpc.googlesyndication.com/pagead/js/r20180404/r20110914/activeview/osd_listener.js\n",
      "0.045881 blob:http://abcnews.go.com/e541e1a3-f1e6-49eb-a5ca-f852ebdb6316\n",
      "0.029642000000000005 https://s-static.innovid.com/mobileapps/s/js/vpaid/1gk9uk?cb=690f7e00-206f-c89f-b238-df860ea9f89e&deviceid=&ivc=[ecp]\n"
     ]
    }
   ],
   "source": [
    "# this is a weird site. Most computation goes to an unamed JS function\n",
    "# But it's not running anything on callFrame[None]\n",
    "# Also, urls \n",
    "analyze('./news-with-ads1-tracing.json')"
   ]
  },
  {
   "cell_type": "code",
   "execution_count": 36,
   "metadata": {
    "ExecuteTime": {
     "end_time": "2018-04-15T02:08:03.002961Z",
     "start_time": "2018-04-14T21:07:59.416879-05:00"
    },
    "collapsed": false,
    "deletable": true,
    "editable": true
   },
   "outputs": [
    {
     "name": "stdout",
     "output_type": "stream",
     "text": [
      "----- call frames -----\n",
      "0.514492 A30A552FF7BDBE2507DA76F96EB28CFE\n",
      "0.18246300000000001 9DD191286EB33FB0708EF31A6463FB3C\n",
      "0.082672 9BF1834076D5ED752795E0BA808976B3\n",
      "0.045757 7D3A51080AC8513635F8F2C834FED0FE\n",
      "0.0014780000000000001 93BDA790F5466B38374C2256F83EF32F\n",
      "----- func names -----\n",
      "0.535039 \n",
      "0.16555299999999987 at\n",
      "0.045757 w\n",
      "0.04126799999999999 b.socket.onmessage\n",
      "0.018278 Ib.u\n",
      "----- called urls -----\n",
      "0.5033860000000001 http://bitcointicker.co/tickerHistv24.js?4\n",
      "0.18383200000000002 https://pagead2.googlesyndication.com/pagead/js/r20180404/r20170110/osd.js\n",
      "0.06403499999999998 https://googleads.g.doubleclick.net/pagead/ads?client=ca-pub-5944258550130213&output=html&h=60&slotname=8957690103&adk=4122895357&adf=1602281170&w=468&lmt=1523479226&loeid=38893312&format=468x60&url=http%3A%2F%2Fbitcointicker.co%2F&flash=0&wgl=1&adsid=NT&dt=1523479226367&bpp=13&bdt=892&fdt=17&idt=176&shv=r20180404&cbv=r20170110&saldr=aa&correlator=2727408848956&frm=20&ga_vid=720857039.1523479226&ga_sid=1523479227&ga_hid=543905311&ga_fc=0&pv=2&iag=3&icsg=2&nhd=1&dssz=3&mdo=0&mso=0&u_tz=-300&u_his=2&u_java=0&u_h=1024&u_w=1280&u_ah=955&u_aw=1280&u_cd=24&u_nplug=3&u_nmime=4&adx=712&ady=762&biw=1185&bih=822&abxe=1&scr_x=0&scr_y=0&eid=21061122%2C38893302%2C33895412%2C20040066&oid=3&rx=0&eae=0&fc=528&brdim=0%2C57%2C0%2C57%2C1280%2C23%2C1200%2C911%2C1200%2C837&vis=1&rsz=%7C%7ClE%7C&abl=CS&ppjl=u&pfx=0&fu=9232&bc=1&jar=2018-4-11-20&ifi=1&fsb=1&xpc=L4htj0Bk1k&p=http%3A//bitcointicker.co&dtd=202\n",
      "0.04810699999999998 https://tpc.googlesyndication.com/pagead/js/r20180404/r20110914/activeview/osd_listener.js\n",
      "0.011105999999999998 https://updates2.bitcointicker.co:8080/socket.io/socket.io.js\n"
     ]
    }
   ],
   "source": [
    "analyze('./realtime-apps1-tracing.json')"
   ]
  },
  {
   "cell_type": "code",
   "execution_count": null,
   "metadata": {
    "collapsed": true,
    "deletable": true,
    "editable": true
   },
   "outputs": [],
   "source": []
  },
  {
   "cell_type": "code",
   "execution_count": null,
   "metadata": {
    "collapsed": true
   },
   "outputs": [],
   "source": []
  }
 ],
 "metadata": {
  "kernelspec": {
   "display_name": "Python 3",
   "language": "python",
   "name": "python3"
  },
  "language_info": {
   "codemirror_mode": {
    "name": "ipython",
    "version": 3
   },
   "file_extension": ".py",
   "mimetype": "text/x-python",
   "name": "python",
   "nbconvert_exporter": "python",
   "pygments_lexer": "ipython3",
   "version": "3.5.1"
  },
  "toc": {
   "nav_menu": {},
   "number_sections": true,
   "sideBar": true,
   "skip_h1_title": false,
   "toc_cell": false,
   "toc_position": {},
   "toc_section_display": "block",
   "toc_window_display": false
  }
 },
 "nbformat": 4,
 "nbformat_minor": 2
}
