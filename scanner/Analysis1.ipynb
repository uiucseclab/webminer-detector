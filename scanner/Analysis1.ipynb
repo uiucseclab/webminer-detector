{
 "cells": [
  {
   "cell_type": "code",
   "execution_count": 143,
   "metadata": {
    "ExecuteTime": {
     "end_time": "2018-04-03T18:41:23.929823Z",
     "start_time": "2018-04-03T13:41:23.927363-05:00"
    },
    "collapsed": true,
    "deletable": true,
    "editable": true
   },
   "outputs": [],
   "source": [
    "import json"
   ]
  },
  {
   "cell_type": "code",
   "execution_count": 152,
   "metadata": {
    "ExecuteTime": {
     "end_time": "2018-04-03T18:41:32.180490Z",
     "start_time": "2018-04-03T13:41:32.109109-05:00"
    },
    "collapsed": false,
    "deletable": true,
    "editable": true
   },
   "outputs": [],
   "source": [
    "with open('./profile-www.cryptonoter.me.json') as f:\n",
    "    raw = json.load(f)"
   ]
  },
  {
   "cell_type": "code",
   "execution_count": 153,
   "metadata": {
    "ExecuteTime": {
     "end_time": "2018-04-03T18:41:32.289145Z",
     "start_time": "2018-04-03T13:41:32.284705-05:00"
    },
    "collapsed": false,
    "deletable": true,
    "editable": true,
    "scrolled": true
   },
   "outputs": [
    {
     "data": {
      "text/plain": [
       "dict_keys(['nodes', 'samples', 'timeDeltas', 'startTime', 'endTime'])"
      ]
     },
     "execution_count": 153,
     "metadata": {},
     "output_type": "execute_result"
    }
   ],
   "source": [
    "profile = raw['profile']\n",
    "profile.keys()"
   ]
  },
  {
   "cell_type": "code",
   "execution_count": 154,
   "metadata": {
    "ExecuteTime": {
     "end_time": "2018-04-03T18:41:32.519297Z",
     "start_time": "2018-04-03T13:41:32.471217-05:00"
    },
    "collapsed": false,
    "deletable": true,
    "editable": true
   },
   "outputs": [
    {
     "data": {
      "text/plain": [
       "(198.75716908608186, 318.72477710263485)"
      ]
     },
     "execution_count": 154,
     "metadata": {},
     "output_type": "execute_result"
    }
   ],
   "source": [
    "import numpy as np\n",
    "\n",
    "# Unit: microseconds\n",
    "np.average(profile['timeDeltas']), np.std(profile['timeDeltas'])"
   ]
  },
  {
   "cell_type": "code",
   "execution_count": 155,
   "metadata": {
    "ExecuteTime": {
     "end_time": "2018-04-03T18:41:32.626665Z",
     "start_time": "2018-04-03T13:41:32.621066-05:00"
    },
    "collapsed": false,
    "deletable": true,
    "editable": true
   },
   "outputs": [
    {
     "data": {
      "text/plain": [
       "[{'callFrame': {'columnNumber': -1,\n",
       "   'functionName': '(idle)',\n",
       "   'lineNumber': -1,\n",
       "   'scriptId': '0',\n",
       "   'url': ''},\n",
       "  'hitCount': 299699,\n",
       "  'id': 4},\n",
       " {'callFrame': {'columnNumber': -1,\n",
       "   'functionName': '(program)',\n",
       "   'lineNumber': -1,\n",
       "   'scriptId': '0',\n",
       "   'url': ''},\n",
       "  'hitCount': 2520,\n",
       "  'id': 2},\n",
       " {'callFrame': {'columnNumber': 29277,\n",
       "   'functionName': '',\n",
       "   'lineNumber': 0,\n",
       "   'scriptId': '19',\n",
       "   'url': ''},\n",
       "  'children': [278, 280, 285, 289, 295, 301, 315, 316],\n",
       "  'hitCount': 123,\n",
       "  'id': 272,\n",
       "  'positionTicks': [{'line': 1, 'ticks': 123}]},\n",
       " {'callFrame': {'columnNumber': 25413,\n",
       "   'functionName': '_0x2d0c.lbeIEt',\n",
       "   'lineNumber': 0,\n",
       "   'scriptId': '16',\n",
       "   'url': 'https://www.cryptonoter.me/prototyper-show.js'},\n",
       "  'children': [11, 12, 13, 14, 15, 16, 17, 18, 19],\n",
       "  'hitCount': 63,\n",
       "  'id': 10,\n",
       "  'positionTicks': [{'line': 1, 'ticks': 63}]}]"
      ]
     },
     "execution_count": 155,
     "metadata": {},
     "output_type": "execute_result"
    }
   ],
   "source": [
    "# This should be equivalent to \"sorting by self time\" in chrome gui\n",
    "sorted(profile['nodes'], key=lambda x: x['hitCount'], reverse=True)[:4]"
   ]
  },
  {
   "cell_type": "code",
   "execution_count": 156,
   "metadata": {
    "ExecuteTime": {
     "end_time": "2018-04-03T18:41:32.841936Z",
     "start_time": "2018-04-03T13:41:32.806409-05:00"
    },
    "collapsed": false,
    "deletable": true,
    "editable": true
   },
   "outputs": [
    {
     "data": {
      "text/plain": [
       "[(1,\n",
       "  302842,\n",
       "  {'callFrame': {'columnNumber': -1,\n",
       "    'functionName': '(root)',\n",
       "    'lineNumber': -1,\n",
       "    'scriptId': '0',\n",
       "    'url': ''},\n",
       "   'children': [2,\n",
       "    3,\n",
       "    4,\n",
       "    5,\n",
       "    48,\n",
       "    49,\n",
       "    76,\n",
       "    123,\n",
       "    134,\n",
       "    140,\n",
       "    245,\n",
       "    262,\n",
       "    264,\n",
       "    265,\n",
       "    272,\n",
       "    273,\n",
       "    276,\n",
       "    277,\n",
       "    283],\n",
       "   'hitCount': 0,\n",
       "   'id': 1}),\n",
       " (4,\n",
       "  299699,\n",
       "  {'callFrame': {'columnNumber': -1,\n",
       "    'functionName': '(idle)',\n",
       "    'lineNumber': -1,\n",
       "    'scriptId': '0',\n",
       "    'url': ''},\n",
       "   'hitCount': 299699,\n",
       "   'id': 4}),\n",
       " (2,\n",
       "  2520,\n",
       "  {'callFrame': {'columnNumber': -1,\n",
       "    'functionName': '(program)',\n",
       "    'lineNumber': -1,\n",
       "    'scriptId': '0',\n",
       "    'url': ''},\n",
       "   'hitCount': 2520,\n",
       "   'id': 2}),\n",
       " (5,\n",
       "  147,\n",
       "  {'callFrame': {'columnNumber': 0,\n",
       "    'functionName': '',\n",
       "    'lineNumber': 0,\n",
       "    'scriptId': '16',\n",
       "    'url': 'https://www.cryptonoter.me/prototyper-show.js'},\n",
       "   'children': [6, 8, 20, 30],\n",
       "   'hitCount': 12,\n",
       "   'id': 5,\n",
       "   'positionTicks': [{'line': 1, 'ticks': 12}]}),\n",
       " (273,\n",
       "  143,\n",
       "  {'callFrame': {'columnNumber': 29277,\n",
       "    'functionName': '',\n",
       "    'lineNumber': 0,\n",
       "    'scriptId': '19',\n",
       "    'url': ''},\n",
       "   'children': [278, 280, 285, 289, 295, 301, 315, 316],\n",
       "   'hitCount': 123,\n",
       "   'id': 272,\n",
       "   'positionTicks': [{'line': 1, 'ticks': 123}]}),\n",
       " (8,\n",
       "  99,\n",
       "  {'callFrame': {'columnNumber': 24543,\n",
       "    'functionName': '_0x2d0c',\n",
       "    'lineNumber': 0,\n",
       "    'scriptId': '16',\n",
       "    'url': 'https://www.cryptonoter.me/prototyper-show.js'},\n",
       "   'children': [9, 10],\n",
       "   'hitCount': 14,\n",
       "   'id': 8,\n",
       "   'positionTicks': [{'line': 1, 'ticks': 14}]}),\n",
       " (245,\n",
       "  99,\n",
       "  {'callFrame': {'columnNumber': 14554,\n",
       "    'functionName': '',\n",
       "    'lineNumber': 0,\n",
       "    'scriptId': '19',\n",
       "    'url': ''},\n",
       "   'children': [246, 249],\n",
       "   'hitCount': 21,\n",
       "   'id': 245,\n",
       "   'positionTicks': [{'line': 1, 'ticks': 21}]}),\n",
       " (140,\n",
       "  96,\n",
       "  {'callFrame': {'columnNumber': 0,\n",
       "    'functionName': '',\n",
       "    'lineNumber': 0,\n",
       "    'scriptId': '24',\n",
       "    'url': 'https://www.google-analytics.com/analytics.js'},\n",
       "   'children': [141],\n",
       "   'hitCount': 1,\n",
       "   'id': 140,\n",
       "   'positionTicks': [{'line': 1, 'ticks': 1}]}),\n",
       " (141,\n",
       "  95,\n",
       "  {'callFrame': {'columnNumber': 9,\n",
       "    'functionName': '',\n",
       "    'lineNumber': 0,\n",
       "    'scriptId': '24',\n",
       "    'url': 'https://www.google-analytics.com/analytics.js'},\n",
       "   'children': [142, 144, 146, 148],\n",
       "   'hitCount': 2,\n",
       "   'id': 141,\n",
       "   'positionTicks': [{'line': 59, 'ticks': 1}, {'line': 37, 'ticks': 1}]}),\n",
       " (148,\n",
       "  90,\n",
       "  {'callFrame': {'columnNumber': 529,\n",
       "    'functionName': 'z',\n",
       "    'lineNumber': 47,\n",
       "    'scriptId': '24',\n",
       "    'url': 'https://www.google-analytics.com/analytics.js'},\n",
       "   'children': [149],\n",
       "   'hitCount': 0,\n",
       "   'id': 148}),\n",
       " (149,\n",
       "  90,\n",
       "  {'callFrame': {'columnNumber': 458,\n",
       "    'functionName': 'rc',\n",
       "    'lineNumber': 47,\n",
       "    'scriptId': '24',\n",
       "    'url': 'https://www.google-analytics.com/analytics.js'},\n",
       "   'children': [150],\n",
       "   'hitCount': 2,\n",
       "   'id': 149,\n",
       "   'positionTicks': [{'line': 48, 'ticks': 2}]}),\n",
       " (150,\n",
       "  88,\n",
       "  {'callFrame': {'columnNumber': 12,\n",
       "    'functionName': 'N.N',\n",
       "    'lineNumber': 57,\n",
       "    'scriptId': '24',\n",
       "    'url': 'https://www.google-analytics.com/analytics.js'},\n",
       "   'children': [151, 152, 153],\n",
       "   'hitCount': 1,\n",
       "   'id': 150,\n",
       "   'positionTicks': [{'line': 59, 'ticks': 1}]}),\n",
       " (153,\n",
       "  85,\n",
       "  {'callFrame': {'columnNumber': 203,\n",
       "    'functionName': 'Z.D',\n",
       "    'lineNumber': 53,\n",
       "    'scriptId': '24',\n",
       "    'url': 'https://www.google-analytics.com/analytics.js'},\n",
       "   'children': [154, 157],\n",
       "   'hitCount': 1,\n",
       "   'id': 153,\n",
       "   'positionTicks': [{'line': 54, 'ticks': 1}]}),\n",
       " (10,\n",
       "  84,\n",
       "  {'callFrame': {'columnNumber': 25413,\n",
       "    'functionName': '_0x2d0c.lbeIEt',\n",
       "    'lineNumber': 0,\n",
       "    'scriptId': '16',\n",
       "    'url': 'https://www.cryptonoter.me/prototyper-show.js'},\n",
       "   'children': [11, 12, 13, 14, 15, 16, 17, 18, 19],\n",
       "   'hitCount': 63,\n",
       "   'id': 10,\n",
       "   'positionTicks': [{'line': 1, 'ticks': 63}]}),\n",
       " (157,\n",
       "  81,\n",
       "  {'callFrame': {'columnNumber': 12,\n",
       "    'functionName': 'Z.v',\n",
       "    'lineNumber': 54,\n",
       "    'scriptId': '24',\n",
       "    'url': 'https://www.google-analytics.com/analytics.js'},\n",
       "   'children': [158],\n",
       "   'hitCount': 0,\n",
       "   'id': 157}),\n",
       " (158,\n",
       "  81,\n",
       "  {'callFrame': {'columnNumber': 61,\n",
       "    'functionName': 'X.b.(anonymous function)',\n",
       "    'lineNumber': 24,\n",
       "    'scriptId': '24',\n",
       "    'url': 'https://www.google-analytics.com/analytics.js'},\n",
       "   'children': [159, 194],\n",
       "   'hitCount': 1,\n",
       "   'id': 158,\n",
       "   'positionTicks': [{'line': 25, 'ticks': 1}]}),\n",
       " (249,\n",
       "  77,\n",
       "  {'callFrame': {'columnNumber': 18433,\n",
       "    'functionName': 'h.(anonymous function).(anonymous function)',\n",
       "    'lineNumber': 0,\n",
       "    'scriptId': '19',\n",
       "    'url': ''},\n",
       "   'children': [250, 251, 254, 257, 261],\n",
       "   'hitCount': 3,\n",
       "   'id': 249,\n",
       "   'positionTicks': [{'line': 1, 'ticks': 3}]}),\n",
       " (251,\n",
       "  56,\n",
       "  {'callFrame': {'columnNumber': 19484,\n",
       "    'functionName': 'h.(anonymous function).(anonymous function)',\n",
       "    'lineNumber': 0,\n",
       "    'scriptId': '19',\n",
       "    'url': ''},\n",
       "   'children': [252],\n",
       "   'hitCount': 55,\n",
       "   'id': 251,\n",
       "   'positionTicks': [{'line': 1, 'ticks': 55}]}),\n",
       " (159,\n",
       "  52,\n",
       "  {'"
      ]
     },
     "execution_count": 156,
     "metadata": {},
     "output_type": "execute_result"
    },
    {
     "data": {
      "text/html": [
       "<b>limit_output extension: Maximum message size of 5000 exceeded with 14434 characters</b>"
      ]
     },
     "metadata": {},
     "output_type": "display_data"
    }
   ],
   "source": [
    "# This should be equivalent to \"Call tree\" in chrome gui\n",
    "\n",
    "result = {}\n",
    "def calc(node_id):\n",
    "    cached = result.get(node_id)\n",
    "    if cached:\n",
    "        return cached\n",
    "    \n",
    "    node = profile['nodes'][node_id - 1]\n",
    "    child = node.get('children', [])\n",
    "    ans = node['hitCount']\n",
    "    for cid in child:\n",
    "        ans += calc(cid)\n",
    "    \n",
    "    result[node_id] = ans\n",
    "    return ans\n",
    "\n",
    "calc(1)\n",
    "call_tree = sorted([(k,v,profile['nodes'][k-1])for k,v in result.items()], key=lambda x: x[1], reverse=True)[:50]\n",
    "call_tree"
   ]
  },
  {
   "cell_type": "code",
   "execution_count": 157,
   "metadata": {
    "ExecuteTime": {
     "end_time": "2018-04-03T18:41:33.032853Z",
     "start_time": "2018-04-03T13:41:33.024681-05:00"
    },
    "collapsed": false,
    "deletable": true,
    "editable": true,
    "scrolled": true
   },
   "outputs": [
    {
     "name": "stdout",
     "output_type": "stream",
     "text": [
      "(5, 147, {'positionTicks': [{'line': 1, 'ticks': 12}], 'hitCount': 12, 'children': [6, 8, 20, 30], 'id': 5, 'callFrame': {'url': 'https://www.cryptonoter.me/prototyper-show.js', 'columnNumber': 0, 'lineNumber': 0, 'scriptId': '16', 'functionName': ''}})\n",
      "(99, {'url': 'https://www.cryptonoter.me/prototyper-show.js', 'columnNumber': 24543, 'lineNumber': 0, 'scriptId': '16', 'functionName': '_0x2d0c'})\n"
     ]
    }
   ],
   "source": [
    "def getAllChildren(cid):\n",
    "    node = profile['nodes'][cid-1]\n",
    "    child = node.get('children', [])\n",
    "    ans = list(child)\n",
    "    for x in child:\n",
    "        ans += getAllChildren(x)\n",
    "    return ans\n",
    "\n",
    "most_called = next(x for x in call_tree if '(' not in x[2]['callFrame']['functionName'])\n",
    "print(most_called)\n",
    "print(max([(result[x], profile['nodes'][x-1]['callFrame']) for x in getAllChildren(most_called[0])], key=lambda x: x[0]))"
   ]
  },
  {
   "cell_type": "code",
   "execution_count": 158,
   "metadata": {
    "ExecuteTime": {
     "end_time": "2018-04-03T18:41:33.534662Z",
     "start_time": "2018-04-03T13:41:33.293199-05:00"
    },
    "collapsed": false,
    "deletable": true,
    "editable": true,
    "scrolled": true
   },
   "outputs": [
    {
     "data": {
      "text/plain": [
       "22732"
      ]
     },
     "execution_count": 158,
     "metadata": {},
     "output_type": "execute_result"
    }
   ],
   "source": [
    "# But what's their actual runtime? We only know hit counts.\n",
    "# Estimate through profile['timeDeltas']:\n",
    "child = getAllChildren(most_called[0]) + [most_called[0]]\n",
    "sum([profile['timeDeltas'][i] for i, x in enumerate(profile['samples']) if x in child])"
   ]
  },
  {
   "cell_type": "code",
   "execution_count": 159,
   "metadata": {
    "ExecuteTime": {
     "end_time": "2018-04-03T18:41:33.777044Z",
     "start_time": "2018-04-03T13:41:33.772360-05:00"
    },
    "collapsed": false,
    "deletable": true,
    "editable": true,
    "scrolled": true
   },
   "outputs": [
    {
     "name": "stdout",
     "output_type": "stream",
     "text": [
      "3143\n"
     ]
    }
   ],
   "source": [
    "# How much time is this, compared to \"(root) - (idle)\" ?\n",
    "root = next(n for n in profile['nodes'] if n['callFrame']['functionName'] == '(root)')\n",
    "idle = next(n for n in profile['nodes'] if n['callFrame']['functionName'] == '(idle)')\n",
    "print((result[root['id']] - result[idle['id']]))"
   ]
  },
  {
   "cell_type": "code",
   "execution_count": null,
   "metadata": {
    "collapsed": true,
    "deletable": true,
    "editable": true
   },
   "outputs": [],
   "source": []
  },
  {
   "cell_type": "code",
   "execution_count": null,
   "metadata": {
    "collapsed": true
   },
   "outputs": [],
   "source": []
  }
 ],
 "metadata": {
  "kernelspec": {
   "display_name": "Python 3",
   "language": "python",
   "name": "python3"
  },
  "language_info": {
   "codemirror_mode": {
    "name": "ipython",
    "version": 3
   },
   "file_extension": ".py",
   "mimetype": "text/x-python",
   "name": "python",
   "nbconvert_exporter": "python",
   "pygments_lexer": "ipython3",
   "version": "3.5.1"
  },
  "toc": {
   "nav_menu": {},
   "number_sections": true,
   "sideBar": true,
   "skip_h1_title": false,
   "toc_cell": false,
   "toc_position": {},
   "toc_section_display": "block",
   "toc_window_display": false
  }
 },
 "nbformat": 4,
 "nbformat_minor": 2
}
