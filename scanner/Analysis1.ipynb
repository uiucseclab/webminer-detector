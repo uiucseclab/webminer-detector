{
 "cells": [
  {
   "cell_type": "code",
   "execution_count": 1,
   "metadata": {
    "ExecuteTime": {
     "end_time": "2018-04-11T21:46:25.111386Z",
     "start_time": "2018-04-11T16:46:25.107422-05:00"
    },
    "collapsed": true,
    "deletable": true,
    "editable": true
   },
   "outputs": [],
   "source": [
    "from collections import Counter\n",
    "import json"
   ]
  },
  {
   "cell_type": "code",
   "execution_count": 2,
   "metadata": {
    "ExecuteTime": {
     "end_time": "2018-04-11T21:46:27.155478Z",
     "start_time": "2018-04-11T16:46:25.113591-05:00"
    },
    "collapsed": false,
    "deletable": true,
    "editable": true
   },
   "outputs": [],
   "source": []
  },
  {
   "cell_type": "code",
   "execution_count": 10,
   "metadata": {
    "ExecuteTime": {
     "end_time": "2018-04-11T21:49:22.588433Z",
     "start_time": "2018-04-11T16:49:22.530760-05:00"
    },
    "collapsed": false
   },
   "outputs": [],
   "source": [
    "def analyze(fname):\n",
    "    with open(fname) as f:\n",
    "        raw = json.load(f)\n",
    "\n",
    "    # Find all JS function calls\n",
    "    fcalls = [x for x in raw if x['name'] == 'FunctionCall']\n",
    "    fcalls_by_ids = {}\n",
    "    for c in fcalls:\n",
    "        key = '{}-{}'.format(c['pid'], c['tid'])\n",
    "        fcalls_by_ids.setdefault(key, []).append(c)\n",
    "\n",
    "    for k, v in fcalls_by_ids.items():\n",
    "        # See https://docs.google.com/document/d/1CvAClvFfyA5R-PhYUmn5OOQtYMH4h6I0nSsKchNAySU/preview\n",
    "        # It mentioned how  Duration Events work.\n",
    "        # But it never confirmed that 'FunctionCall' events do not nest when pid&tid do not change\n",
    "        # This confirms that they do not nest\n",
    "        print('Checking sanity of', k)\n",
    "        assert('BB' not in ''.join(x['ph'] for x in v))\n",
    "        assert('EE' not in ''.join(x['ph'] for x in v))\n",
    "        if v[0]['ph'] =='B':\n",
    "            assert ''.join(x['ph'] for x in v[:2*(len(v)//2)]) == 'BE' * (len(v)//2)\n",
    "        if v[0]['ph'] =='E':\n",
    "            assert ''.join(x['ph'] for x in v[1:2*(len(v)//2 + 1) - 1]) == 'BE' * (len(v)//2)\n",
    "        print(' + this thread checks out')\n",
    "        if len(v) %2 != 0:\n",
    "            print(' * remaining event: ', v[-1]['ph'])\n",
    "    print('OK')\n",
    "\n",
    "    # Aggregate info about JS Function calls\n",
    "    callFrames = Counter()\n",
    "    callFunctionNames = Counter()\n",
    "    callURLs = Counter()\n",
    "\n",
    "    for k, v in fcalls_by_ids.items(): \n",
    "        bs = [x for i, x in enumerate(v) if i % 2 == 0]\n",
    "        es = [x for i, x in enumerate(v) if i % 2 != 0]\n",
    "        for b, e in zip(bs, es):\n",
    "            info = b.get('args', {}).get('data', {})\n",
    "            info.update(e.get('args', {}).get('data', {}))\n",
    "            duration = e.get('tts') - b.get('tts')\n",
    "            if not info: continue\n",
    "            if type(duration) is not int: continue\n",
    "            callFrames[info.get('frame')] += duration / 1e6\n",
    "            callFunctionNames[info.get('functionName')] += duration / 1e6\n",
    "            callURLs[info.get('url')] += duration / 1e6\n",
    "\n",
    "    # ! callFrames may be major indicator: If 'None' frame uses too much time, it's usual.\n",
    "    print(callFrames)\n",
    "    print(callFunctionNames)\n",
    "    print(callURLs)"
   ]
  },
  {
   "cell_type": "code",
   "execution_count": 11,
   "metadata": {
    "ExecuteTime": {
     "end_time": "2018-04-11T21:49:25.429870Z",
     "start_time": "2018-04-11T16:49:22.964150-05:00"
    },
    "collapsed": false
   },
   "outputs": [
    {
     "name": "stdout",
     "output_type": "stream",
     "text": [
      "Checking sanity of 14135-48387\n",
      " + this thread checks out\n",
      " * remaining event:  B\n",
      "Checking sanity of 14135-775\n",
      " + this thread checks out\n",
      "Checking sanity of 14135-84483\n",
      " + this thread checks out\n",
      " * remaining event:  B\n",
      "Checking sanity of 14135-53251\n",
      " + this thread checks out\n",
      " * remaining event:  B\n",
      "Checking sanity of 14135-76291\n",
      " + this thread checks out\n",
      " * remaining event:  B\n",
      "Checking sanity of 14135-81923\n",
      " + this thread checks out\n",
      " * remaining event:  B\n",
      "Checking sanity of 14135-51459\n",
      " + this thread checks out\n",
      " * remaining event:  B\n",
      "Checking sanity of 14135-57091\n",
      " + this thread checks out\n",
      " * remaining event:  B\n",
      "Checking sanity of 14135-72963\n",
      " + this thread checks out\n",
      " * remaining event:  B\n",
      "OK\n",
      "Counter({None: 141.75913399999988, '4A3278310ADC1F4D8DE8FE0AD4FD8528': 0.13138600000000003, 'FDE5E38EF5D4E19DD0D2040B43FC16E9': 0.002773999999999999})\n",
      "Counter({'CryptonightWASMWrapper.workThrottled': 117.92003399999975, 'CryptonightWASMWrapper.onMessage': 23.839099999999988, 'MinerUI.updateStats': 0.05893899999999997, 'MinerUI.drawGraph': 0.03438200000000002, '_0xfe497a.(anonymous function).(anonymous function)': 0.020429999999999997, '_0x569398.(anonymous function)': 0.007018000000000001, '': 0.005993, '_0x569398.(anonymous function).(anonymous function)': 0.00338, 'Auth.onMessage': 0.001977, 'MinerUI.start': 0.001244, 'Miner.onMessage': 0.0007969999999999997})\n",
      "Counter({'blob:https://authedmine.com/ecf0db7f-3019-4468-9f71-6cfe50cffccb': 141.75913399999988, 'https://authedmine.com/media/miner.html?key=iPda8gvGQpMBx4aALroEhqOcYSZ9ta5C&user=CS460-testing&whitelabel=0&autostart=1&throttle=0.3&threads=&background=&text=&action=&ref=&graph=': 0.0945649999999999, '': 0.036821000000000007, 'https://authedmine.com/lib/simple-ui.min.js': 0.002773999999999999})\n"
     ]
    }
   ],
   "source": [
    "analyze('./miner1-tracing.json')"
   ]
  },
  {
   "cell_type": "code",
   "execution_count": 12,
   "metadata": {
    "ExecuteTime": {
     "end_time": "2018-04-11T21:49:26.126802Z",
     "start_time": "2018-04-11T16:49:25.431507-05:00"
    },
    "collapsed": false
   },
   "outputs": [
    {
     "name": "stdout",
     "output_type": "stream",
     "text": [
      "Checking sanity of 16739-31235\n",
      " + this thread checks out\n",
      " * remaining event:  B\n",
      "Checking sanity of 16739-44291\n",
      " + this thread checks out\n",
      " * remaining event:  B\n",
      "Checking sanity of 16739-45571\n",
      " + this thread checks out\n",
      " * remaining event:  B\n",
      "Checking sanity of 16739-47107\n",
      " + this thread checks out\n",
      " * remaining event:  B\n",
      "Checking sanity of 16739-775\n",
      " + this thread checks out\n",
      "OK\n",
      "Counter({None: 116.07749799999998, 'E15AF5E14C07CC3EC5C565C90EC81B60': 0.09576399999999986})\n",
      "Counter({'CryptonightWASMWrapper.onMessage': 116.07749799999998, 'u': 0.07565199999999994, 'JobThread.onReceiveMsg': 0.011430999999999997, 'Miner._updateTabs': 0.006464, 'Miner._onMessage': 0.0013039999999999998, 'Miner._onOpen': 0.000465, 'JobThread.onReady': 0.00044800000000000005})\n",
      "Counter({'blob:https://eenteslavoorsimon.be/68ddd1ce-cb24-493f-9bdb-3e0c1faf7b19': 116.07749799999998, 'https://eenteslavoorsimon.be/js/main.44c9d0c64f7ccf8c9c0e.js': 0.07565199999999994, 'https://coinhive.com/lib/coinhive.min.js': 0.02011200000000001})\n"
     ]
    }
   ],
   "source": [
    "analyze('./miner2-tracing.json')"
   ]
  },
  {
   "cell_type": "code",
   "execution_count": 13,
   "metadata": {
    "ExecuteTime": {
     "end_time": "2018-04-11T21:49:29.636014Z",
     "start_time": "2018-04-11T16:49:26.128846-05:00"
    },
    "collapsed": false
   },
   "outputs": [
    {
     "name": "stdout",
     "output_type": "stream",
     "text": [
      "Checking sanity of 14960-86547\n",
      " + this thread checks out\n",
      "Checking sanity of 14960-775\n",
      " + this thread checks out\n",
      "OK\n",
      "Counter({'967D17AB3B4B023C7BFEBA556D53B073': 1.5815709999999896, None: 0.004132})\n",
      "Counter({'': 0.8633839999999994, 'F.H': 0.29600200000000004, 'observe.characterData': 0.10563299999999999, 'g.h.DL': 0.05702000000000002, 'SF.C': 0.033007000000000127, 'Polymer.Base.createdCallback': 0.031948000000000004, 'onYtAction_': 0.030808000000000002, 'g.h.Vx': 0.029967999999999998, 'Vh.checkPosition_': 0.02848300000000002, 'PO.update': 0.026033999999999998, 'g.h.fu': 0.021923, 'Polymer.Base.attributeChangedCallback': 0.008670999999999998, 'Zi': 0.008525, 'g.h.KM': 0.008314, 'g.onreadystatechange': 0.0057729999999999995, 'createdCallback': 0.005133999999999999, 'Polymer.Base.attachedCallback': 0.004188000000000001, 'g.h.KP': 0.003816, 'e': 0.003004, 'm': 0.002429, 'self.onmessage': 0.002316, 'MP.B': 0.001264, 'doAfterRenderRequest_': 0.0011129999999999998, 'g.h.je': 0.0009390000000000002, 'g.h.LM': 0.000892, 'G': 0.000886, 'g.h.MM': 0.000794, 'l': 0.000749, 'g.h.start': 0.00036899999999999997, 'F.D.then.d.onsuccess': 0.000257, 'g': 0.000252, 'g.h.cu': 0.000251, 'd': 0.000243, 'D.c.onsuccess': 0.000242, 'c': 0.000204, 'Lja.c.onload.c.onerror': 0.000176, 'self.onactivate': 0.000145, 'attachedCallback': 0.000142, 'c.onload.c.onerror': 0.000138, 'stopIgnoringScroll_': 0.000134, 'self.oninstall': 0.000133})\n",
      "Counter({'https://s.ytimg.com/yts/jsbin/web-animations-next-lite.min-vflqEtsI7/web-animations-next-lite.min.js': 0.7396670000000004, 'https://s.ytimg.com/yts/jsbin/scheduler-vflYh9t8D/scheduler.js': 0.30061800000000016, 'https://s.ytimg.com/yts/jsbin/desktop_polymer-vflbecItI/desktop_polymer.js': 0.2989039999999959, 'https://s.ytimg.com/yts/jsbin/player-vflSawkIt/en_US/base.js': 0.18489600000000103, 'https://s.ytimg.com/yts/jsbin/spf-vflRfjT3b/spf.js': 0.051093, 'https://s.ytimg.com/yts/jsbin/network-vflNZTggj/network.js': 0.0057729999999999995, 'https://www.youtube.com/sw.js': 0.003979, 'https://www.youtube.com/yts/jsbin/player-vflSawkIt/en_US/remote.js': 0.00062, '': 0.000153})\n"
     ]
    }
   ],
   "source": [
    "# Youtube can be told apart from miners by looking at callFrame[None]\n",
    "analyze('./youtube1-tracing.json')"
   ]
  },
  {
   "cell_type": "code",
   "execution_count": 14,
   "metadata": {
    "ExecuteTime": {
     "end_time": "2018-04-11T21:49:34.546636Z",
     "start_time": "2018-04-11T16:49:29.637796-05:00"
    },
    "collapsed": false
   },
   "outputs": [
    {
     "name": "stdout",
     "output_type": "stream",
     "text": [
      "Checking sanity of 15287-83483\n",
      " + this thread checks out\n",
      " * remaining event:  E\n",
      "Checking sanity of 15287-775\n",
      " + this thread checks out\n",
      "Checking sanity of 15287-49175\n",
      " + this thread checks out\n",
      "OK\n",
      "Counter({'209D8579153CE5091DB2E88AD7D93BC0': 0.27787099999999915, '21085C3BC727D8F2CE4128DB012F22B0': 0.146941, '9412A17B71DB48522F61A5AC6A58608C': 0.11231400000000001, None: 0.046113999999999995, 'CEAC92BE92E735E0A220AFB0DC22F2B3': 0.03516000000000002, '935F1CF24351B71C26AFCC7B690E30BD': 0.031556000000000015, '8C72FD770D19DD1CAD7C7C53775886F0': 0.028974000000000007, 'C949ABD8FD2BEF95355C4C3DC670A82F': 0.023388999999999993, '5DD0CC3C34BF577D83063E3EB96AFC20': 0.005594000000000001, 'C91BDD86208A564F5A6D1A98468C3B46': 0.002064, '0EC8DA54DF14AA995D410DE86D42D992': 0.001811, '96465CF845BD95C2A73F9640AF328799': 0.00128, '6DC06F77DB00C2746AC4AD42959B7702': 0.0010550000000000002, '6A4872D7D0573164DF809754B34169AE': 0.000913, '30A715A93CB179C12ADF03D39FF3FDE1': 0.000507, '0466FDDEBAE926552E94E659D1871CBF': 0.000455, '7F44242AE4223948117B4B6DEF55AA6A': 0.000339, '95AB92F11F72C3A1628F07DD5044B182': 0.000267})\n",
      "Counter({'': 0.4159509999999992, 'nrWrapper': 0.26529899999999984, 'run': 0.008617, 'e.hl': 0.005742000000000001, 'Ib.u': 0.005233999999999999, 'O.D': 0.0027440000000000016, 'n.ji': 0.002039, 'b.qe': 0.0019569999999999995, 'L': 0.0018220000000000003, 'receiveMessage': 0.001562, 'a.wd': 0.0013939999999999998, 'e': 0.0008760000000000003, 'fireEvent': 0.000668, 'messageEventListener': 0.00057, 'monitorWindowWidth': 0.000539, 'findAndSendMessage': 0.00023700000000000001, 'setupMobileNav': 0.000236, 'onDocumentLoad': 0.000219, 'IntersectionObserverCalculator.observationCallback': 0.000207, 'idleCallback': 0.000207, 'findAndSend': 0.000182, 'a': 0.000156, 'loadedPixelCallback': 6.6e-05, 'detectWakeFromSleep': 5.8e-05, 'resetPreloading': 2.2e-05})\n",
      "Counter({'https://s.abcnews.com/assets/js/newrelic.js': 0.26545499999999983, 'https://pagead2.googlesyndication.com/pagead/js/r20180404/r20170110/osd.js': 0.260507, 'https://tpc.googlesyndication.com/pagead/js/r20180404/r20110914/activeview/osd_listener.js': 0.05293000000000002, 'blob:http://abcnews.go.com/e541e1a3-f1e6-49eb-a5ca-f852ebdb6316': 0.045881, 'https://s-static.innovid.com/mobileapps/s/js/vpaid/1gk9uk?cb=690f7e00-206f-c89f-b238-df860ea9f89e&deviceid=&ivc=[ecp]': 0.029642000000000005, 'https://cdn.doubleverify.com/dv-measurements197.js': 0.025079999999999995, 'https://s.abcnews.com/assets/beta/js/abcn-head.js?v=267': 0.010002999999999998, 'https://tpc.googlesyndication.com/pagead/js/r20180404/r20110914/client/ext/m_qs_click_protection.js': 0.005566000000000001, 'https://googleads.g.doubleclick.net/pagead/ads?client=ca-pub-3430841406405112&output=html&h=250&slotname=1659940028&adk=2651913354&adf=2482349986&w=300&lmt=1523479148&loeid=38893312%2C201222031&url=http%3A%2F%2Fabcnews.go.com%2Fassets%2Fstatic%2Fads%2FadHelper.html%3Fadloc%3Dhttp%3A%2F%2F2912a.v.fwmrm.net%2Fad%2Fg%2F1%3Fnw%3D168234%26sfid%3D109523%26csid%3Dnws_us%26caid%3DNews%2FUSNews%26pvrn%3D957287365-370960263%26resp%3Dad%3BpageType%3Dstory%26adunit%3DRectangle%26abcn_id%3Drectangle-1%3Bptgt%3Ds%26envp%3Dg_js%26slid%3Drectangle%26w%3D300%26h%3D250%26cd%3D300%2C250%26slau%3DRectangle%2520300x250&ea=0&flash=0&alternate_ad_url=http%3A%2F%2F2912a.v.fwmrm.net%2Fad%2Fg%2F1%3Fnw%3D168234%26sfid%3D109523%26csid%3Dabcnews_marketing%26caid%3D%26pvrn%3D1330061283%26resp%3Dad%3B%3Bptgt%3Ds%26envp%3Dg_iframe_js%26slid%3Drectangle%26w%3D300%26h%3D250%26slau%3DRectangle%2520300x250&wgl=1&dt=1523479148584&bpp=10&bdt=6&fdt=11&idt=12&shv=r20180404&cbv=r20170110&saldr=sa&correlator=1251052389521&frm=23&ga_vid=2053476227.1523479149&ga_sid=1523479149&ga_hid=1743504252&ga_fc=0&pv=1&iag=63&icsg=2&nhd=3&dssz=3&mdo=0&mso=0&u_tz=-300&u_his=2&u_java=0&u_h=1024&u_w=1280&u_ah=955&u_aw=1280&u_cd=24&u_nplug=3&u_nmime=4&adx=831&ady=694&biw=1185&bih=837&isw=300&ish=250&ifk=1075767991&scr_x=0&scr_y=1&eid=21061122%2C38893302%2C201222021%2C33895412%2C20040065%2C389613000&oid=3&loc=http%3A%2F%2Fabcnews.go.com%2Fassets%2Fstatic%2Fads%2FadHelper.html%3Fadloc%3Dhttp%3A%2F%2F2912a.v.fwmrm.net%2Fad%2Fg%2F1%3Fnw%3D168234%26sfid%3D109523%26csid%3Dnws_us%26caid%3DNews%2FUSNews%26pvrn%3D957287365-370960263%26resp%3Dad%3BpageType%3Dstory%26adunit%3DRectangle%26abcn_id%3Drectangle-1%3Bptgt%3Ds%26envp%3Dg_js%26slid%3Drectangle%26w%3D300%26h%3D250%26cd%3D300%2C250%26slau%3DRectangle%2520300x250&top=http%3A%2F%2Fabcnews.go.com%2FUS%2Fpastor-church-attended-25000-steps-amid-misconduct-allegations%2Fstory%3Fid%3D54383250&rx=0&eae=2&fc=528&brdim=0%2C57%2C0%2C57%2C1280%2C23%2C1200%2C911%2C300%2C250&trunc=1&dtd=20': 0.005233999999999999, 'https://ads.pubmatic.com/AdServer/js/gshowad.js': 0.003875, 'https://tpc.googlesyndication.com/pagead/js/r20180404/r20110914/abg.js': 0.0029860000000000017, 'http://cdn.doubleverify.com/dv-match6.js': 0.0018220000000000003, 'https://platform.twitter.com/widgets.js': 0.00128, 'http://rtb0.doubleverify.com/verify.js?jsCallback=__verify"
     ]
    },
    {
     "data": {
      "text/html": [
       "<b>limit_output extension: Maximum message size of 5000 exceeded with 7778 characters</b>"
      ]
     },
     "metadata": {},
     "output_type": "display_data"
    }
   ],
   "source": [
    "# this is a weird site. Most computation goes to an unamed JS function\n",
    "# But it's not running anything on callFrame[None]\n",
    "# Also, urls \n",
    "analyze('./news-with-ads1-tracing.json')"
   ]
  },
  {
   "cell_type": "code",
   "execution_count": null,
   "metadata": {
    "collapsed": true
   },
   "outputs": [],
   "source": []
  }
 ],
 "metadata": {
  "kernelspec": {
   "display_name": "Python 3",
   "language": "python",
   "name": "python3"
  },
  "language_info": {
   "codemirror_mode": {
    "name": "ipython",
    "version": 3
   },
   "file_extension": ".py",
   "mimetype": "text/x-python",
   "name": "python",
   "nbconvert_exporter": "python",
   "pygments_lexer": "ipython3",
   "version": "3.5.1"
  },
  "toc": {
   "nav_menu": {},
   "number_sections": true,
   "sideBar": true,
   "skip_h1_title": false,
   "toc_cell": false,
   "toc_position": {},
   "toc_section_display": "block",
   "toc_window_display": false
  }
 },
 "nbformat": 4,
 "nbformat_minor": 2
}
