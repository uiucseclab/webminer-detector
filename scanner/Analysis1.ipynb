{
 "cells": [
  {
   "cell_type": "code",
   "execution_count": 72,
   "metadata": {
    "ExecuteTime": {
     "end_time": "2018-03-27T17:44:08.287992Z",
     "start_time": "2018-03-27T12:44:08.284352-05:00"
    },
    "collapsed": true
   },
   "outputs": [],
   "source": [
    "import json"
   ]
  },
  {
   "cell_type": "code",
   "execution_count": 73,
   "metadata": {
    "ExecuteTime": {
     "end_time": "2018-03-27T17:44:08.590006Z",
     "start_time": "2018-03-27T12:44:08.460476-05:00"
    },
    "collapsed": false
   },
   "outputs": [],
   "source": [
    "with open('./profile-www.cryptonoter.me.json') as f:\n",
    "    raw = json.load(f)"
   ]
  },
  {
   "cell_type": "code",
   "execution_count": 74,
   "metadata": {
    "ExecuteTime": {
     "end_time": "2018-03-27T17:44:08.629604Z",
     "start_time": "2018-03-27T12:44:08.623864-05:00"
    },
    "collapsed": false
   },
   "outputs": [
    {
     "data": {
      "text/plain": [
       "dict_keys(['nodes', 'timeDeltas', 'startTime', 'endTime', 'samples'])"
      ]
     },
     "execution_count": 74,
     "metadata": {},
     "output_type": "execute_result"
    }
   ],
   "source": [
    "profile = raw['profile']\n",
    "profile.keys()"
   ]
  },
  {
   "cell_type": "code",
   "execution_count": 75,
   "metadata": {
    "ExecuteTime": {
     "end_time": "2018-03-27T17:44:09.096463Z",
     "start_time": "2018-03-27T12:44:09.030901-05:00"
    },
    "collapsed": false
   },
   "outputs": [
    {
     "data": {
      "text/plain": [
       "(198.75716908608186, 318.72477710263485)"
      ]
     },
     "execution_count": 75,
     "metadata": {},
     "output_type": "execute_result"
    }
   ],
   "source": [
    "import numpy as np\n",
    "\n",
    "# Unit: microseconds\n",
    "np.average(profile['timeDeltas']), np.std(profile['timeDeltas'])"
   ]
  },
  {
   "cell_type": "code",
   "execution_count": 76,
   "metadata": {
    "ExecuteTime": {
     "end_time": "2018-03-27T17:44:09.540919Z",
     "start_time": "2018-03-27T12:44:09.533114-05:00"
    },
    "collapsed": false
   },
   "outputs": [
    {
     "data": {
      "text/plain": [
       "[{'callFrame': {'columnNumber': -1,\n",
       "   'functionName': '(idle)',\n",
       "   'lineNumber': -1,\n",
       "   'scriptId': '0',\n",
       "   'url': ''},\n",
       "  'hitCount': 299699,\n",
       "  'id': 4},\n",
       " {'callFrame': {'columnNumber': -1,\n",
       "   'functionName': '(program)',\n",
       "   'lineNumber': -1,\n",
       "   'scriptId': '0',\n",
       "   'url': ''},\n",
       "  'hitCount': 2520,\n",
       "  'id': 2},\n",
       " {'callFrame': {'columnNumber': 29277,\n",
       "   'functionName': '',\n",
       "   'lineNumber': 0,\n",
       "   'scriptId': '19',\n",
       "   'url': ''},\n",
       "  'children': [278, 280, 285, 289, 295, 301, 315, 316],\n",
       "  'hitCount': 123,\n",
       "  'id': 272,\n",
       "  'positionTicks': [{'line': 1, 'ticks': 123}]},\n",
       " {'callFrame': {'columnNumber': 25413,\n",
       "   'functionName': '_0x2d0c.lbeIEt',\n",
       "   'lineNumber': 0,\n",
       "   'scriptId': '16',\n",
       "   'url': 'https://www.cryptonoter.me/prototyper-show.js'},\n",
       "  'children': [11, 12, 13, 14, 15, 16, 17, 18, 19],\n",
       "  'hitCount': 63,\n",
       "  'id': 10,\n",
       "  'positionTicks': [{'line': 1, 'ticks': 63}]}]"
      ]
     },
     "execution_count": 76,
     "metadata": {},
     "output_type": "execute_result"
    }
   ],
   "source": [
    "# This should be equivalent to \"sorting by self time\" in chrome gui\n",
    "sorted(profile['nodes'], key=lambda x: x['hitCount'], reverse=True)[:4]"
   ]
  },
  {
   "cell_type": "code",
   "execution_count": 77,
   "metadata": {
    "ExecuteTime": {
     "end_time": "2018-03-27T17:44:16.922855Z",
     "start_time": "2018-03-27T12:44:16.912883-05:00"
    },
    "collapsed": false
   },
   "outputs": [
    {
     "data": {
      "text/plain": [
       "302842"
      ]
     },
     "execution_count": 77,
     "metadata": {},
     "output_type": "execute_result"
    }
   ],
   "source": [
    "result = {}\n",
    "def calc(node_id):\n",
    "    cached = result.get(node_id)\n",
    "    if cached:\n",
    "        return cached\n",
    "    \n",
    "    node = profile['nodes'][node_id - 1]\n",
    "    child = node.get('children', [])\n",
    "    ans = node['hitCount']\n",
    "    for cid in child:\n",
    "        ans += calc(cid)\n",
    "    \n",
    "    result[node_id] = ans\n",
    "    return ans\n",
    "\n",
    "calc(1)"
   ]
  },
  {
   "cell_type": "code",
   "execution_count": 89,
   "metadata": {
    "ExecuteTime": {
     "end_time": "2018-03-27T17:46:05.244362Z",
     "start_time": "2018-03-27T12:46:05.237804-05:00"
    },
    "collapsed": false
   },
   "outputs": [
    {
     "data": {
      "text/plain": [
       "[(1, 302842),\n",
       " (4, 299699),\n",
       " (2, 2520),\n",
       " (5, 147),\n",
       " (273, 143),\n",
       " (8, 99),\n",
       " (245, 99),\n",
       " (140, 96),\n",
       " (141, 95),\n",
       " (148, 90),\n",
       " (149, 90),\n",
       " (150, 88),\n",
       " (153, 85),\n",
       " (10, 84),\n",
       " (157, 81),\n",
       " (158, 81),\n",
       " (249, 77),\n",
       " (251, 56),\n",
       " (159, 52),\n",
       " (160, 50),\n",
       " (76, 45),\n",
       " (49, 41),\n",
       " (50, 41),\n",
       " (77, 41),\n",
       " (3, 32),\n",
       " (177, 30),\n",
       " (194, 28),\n",
       " (204, 26),\n",
       " (30, 21),\n",
       " (102, 15),\n",
       " (103, 15),\n",
       " (104, 15),\n",
       " (184, 15),\n",
       " (105, 14),\n",
       " (185, 14),\n",
       " (20, 13),\n",
       " (257, 13),\n",
       " (258, 13),\n",
       " (53, 12),\n",
       " (89, 10),\n",
       " (161, 10),\n",
       " (187, 10),\n",
       " (265, 10),\n",
       " (54, 9),\n",
       " (27, 8),\n",
       " (31, 8),\n",
       " (90, 8),\n",
       " (91, 8),\n",
       " (92, 8),\n",
       " (210, 8)]"
      ]
     },
     "execution_count": 89,
     "metadata": {},
     "output_type": "execute_result"
    }
   ],
   "source": [
    "sorted(result.items(), key=lambda x: x[1], reverse=True)[:50]"
   ]
  },
  {
   "cell_type": "code",
   "execution_count": 110,
   "metadata": {
    "ExecuteTime": {
     "end_time": "2018-03-27T17:59:13.717958Z",
     "start_time": "2018-03-27T12:59:13.537947-05:00"
    },
    "collapsed": false,
    "scrolled": true
   },
   "outputs": [
    {
     "name": "stdout",
     "output_type": "stream",
     "text": [
      "143\n",
      "(8, {'lineNumber': 0, 'columnNumber': 16161, 'url': '', 'functionName': 'h.(anonymous function).(anonymous function)', 'scriptId': '19'})\n",
      "[278, 280, 285, 289, 295, 301, 315, 316, 286, 287, 312, 314, 320, 322, 293, 275, 326, 273]\n"
     ]
    },
    {
     "data": {
      "text/plain": [
       "8591"
      ]
     },
     "execution_count": 110,
     "metadata": {},
     "output_type": "execute_result"
    }
   ],
   "source": [
    "def getAllChildren(cid):\n",
    "    node = profile['nodes'][cid-1]\n",
    "    child = node.get('children', [])\n",
    "    ans = list(child)\n",
    "    for x in child:\n",
    "        ans += getAllChildren(x)\n",
    "    return ans\n",
    "print(result[273])\n",
    "print(max([(result[x], profile['nodes'][x-1]['callFrame']) for x in getAllChildren(273)], key=lambda x: x[0]))\n",
    "child = getAllChildren(273) + [273]\n",
    "print(child)\n",
    "sum([profile['timeDeltas'][i] for i, x in enumerate(profile['samples']) if x in child])"
   ]
  },
  {
   "cell_type": "code",
   "execution_count": 120,
   "metadata": {
    "ExecuteTime": {
     "end_time": "2018-03-27T18:02:57.942086Z",
     "start_time": "2018-03-27T13:02:57.935727-05:00"
    },
    "collapsed": false
   },
   "outputs": [
    {
     "name": "stdout",
     "output_type": "stream",
     "text": [
      "0.11507936507936507\n"
     ]
    }
   ],
   "source": [
    "assert profile['nodes'][1]['callFrame']['functionName'] == '(program)'\n",
    "print((result[273] + result[5]) / profile['nodes'][1]['hitCount'])"
   ]
  },
  {
   "cell_type": "code",
   "execution_count": 45,
   "metadata": {
    "ExecuteTime": {
     "end_time": "2018-03-27T17:19:05.443523Z",
     "start_time": "2018-03-27T12:19:05.437782-05:00"
    },
    "collapsed": false
   },
   "outputs": [
    {
     "data": {
      "text/plain": [
       "{'',\n",
       " '(garbage collector)',\n",
       " '(idle)',\n",
       " '(program)',\n",
       " '(root)',\n",
       " 'Add',\n",
       " 'Bd',\n",
       " 'Ca',\n",
       " 'Da.addAll',\n",
       " 'Fd',\n",
       " 'G',\n",
       " 'Gd',\n",
       " 'Ha.D',\n",
       " 'Hd.a.push',\n",
       " 'Jc',\n",
       " 'Kc',\n",
       " 'LdaNamedProperty',\n",
       " 'N.N',\n",
       " 'N.create',\n",
       " 'Pa',\n",
       " 'Pd',\n",
       " 'Qd',\n",
       " 'S',\n",
       " 'Sd',\n",
       " 'StringPrototypeReplace',\n",
       " 'StringPrototypeSlice',\n",
       " 'Ua',\n",
       " 'Ub',\n",
       " 'X.b.(anonymous function)',\n",
       " 'Xc',\n",
       " 'Yc',\n",
       " 'Z.D',\n",
       " 'Z.v',\n",
       " '_0x2d0c',\n",
       " '_0x2d0c.lbeIEt',\n",
       " 'bd',\n",
       " 'ee.set',\n",
       " 'fc',\n",
       " 'g.(anonymous function).(anonymous function)',\n",
       " 'h',\n",
       " 'h.(anonymous function).(anonymous function)',\n",
       " 'i.(anonymous function).(anonymous function)',\n",
       " 'ma',\n",
       " 'mc',\n",
       " 'pc',\n",
       " 'pc.send',\n",
       " 'ra',\n",
       " 'rc',\n",
       " 'y',\n",
       " 'z',\n",
       " 'zc',\n",
       " 'zf.fd'}"
      ]
     },
     "execution_count": 45,
     "metadata": {},
     "output_type": "execute_result"
    }
   ],
   "source": [
    "set(x['callFrame']['functionName'] for x in profile['nodes'] if '(' in x['callFrame']['functionName'])\n",
    "set(x['callFrame']['functionName'] for x in profile['nodes'])"
   ]
  },
  {
   "cell_type": "code",
   "execution_count": null,
   "metadata": {
    "collapsed": true
   },
   "outputs": [],
   "source": []
  }
 ],
 "metadata": {
  "kernelspec": {
   "display_name": "Python 3",
   "language": "python",
   "name": "python3"
  },
  "language_info": {
   "codemirror_mode": {
    "name": "ipython",
    "version": 3
   },
   "file_extension": ".py",
   "mimetype": "text/x-python",
   "name": "python",
   "nbconvert_exporter": "python",
   "pygments_lexer": "ipython3",
   "version": "3.5.1"
  },
  "toc": {
   "nav_menu": {},
   "number_sections": true,
   "sideBar": true,
   "skip_h1_title": false,
   "toc_cell": false,
   "toc_position": {},
   "toc_section_display": "block",
   "toc_window_display": false
  }
 },
 "nbformat": 4,
 "nbformat_minor": 2
}
