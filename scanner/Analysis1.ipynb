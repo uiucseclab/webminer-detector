{
 "cells": [
  {
   "cell_type": "code",
   "execution_count": 39,
   "metadata": {
    "ExecuteTime": {
     "end_time": "2018-04-11T21:13:23.083643Z",
     "start_time": "2018-04-11T16:13:23.080830-05:00"
    },
    "collapsed": true,
    "deletable": true,
    "editable": true
   },
   "outputs": [],
   "source": [
    "from collections import Counter\n",
    "import json"
   ]
  },
  {
   "cell_type": "code",
   "execution_count": 3,
   "metadata": {
    "ExecuteTime": {
     "end_time": "2018-04-11T21:04:15.151514Z",
     "start_time": "2018-04-11T16:04:13.153164-05:00"
    },
    "collapsed": false,
    "deletable": true,
    "editable": true
   },
   "outputs": [],
   "source": [
    "with open('./miner1-tracing.json') as f:\n",
    "    raw = json.load(f)"
   ]
  },
  {
   "cell_type": "code",
   "execution_count": 7,
   "metadata": {
    "ExecuteTime": {
     "end_time": "2018-04-11T21:05:05.672578Z",
     "start_time": "2018-04-11T16:05:05.493233-05:00"
    },
    "collapsed": false,
    "scrolled": true
   },
   "outputs": [
    {
     "data": {
      "text/plain": [
       "{'args',\n",
       " 'bind_id',\n",
       " 'cat',\n",
       " 'dur',\n",
       " 'flow_in',\n",
       " 'flow_out',\n",
       " 'id',\n",
       " 'id2',\n",
       " 'name',\n",
       " 'ph',\n",
       " 'pid',\n",
       " 's',\n",
       " 'scope',\n",
       " 'tdur',\n",
       " 'tid',\n",
       " 'ts',\n",
       " 'tts'}"
      ]
     },
     "execution_count": 7,
     "metadata": {},
     "output_type": "execute_result"
    }
   ],
   "source": [
    "all_keys = set()\n",
    "for y in raw:\n",
    "    all_keys.update(y.keys())\n",
    "all_keys"
   ]
  },
  {
   "cell_type": "code",
   "execution_count": 38,
   "metadata": {
    "ExecuteTime": {
     "end_time": "2018-04-11T21:12:38.714533Z",
     "start_time": "2018-04-11T16:12:38.710963-05:00"
    },
    "collapsed": false
   },
   "outputs": [],
   "source": [
    "def field_aggregator(name):\n",
    "    ans = list()\n",
    "    for y in raw:\n",
    "        ans.append(y.get(name))\n",
    "    return ans"
   ]
  },
  {
   "cell_type": "code",
   "execution_count": 96,
   "metadata": {
    "ExecuteTime": {
     "end_time": "2018-04-11T21:38:28.502736Z",
     "start_time": "2018-04-11T16:38:28.427117-05:00"
    },
    "collapsed": false
   },
   "outputs": [
    {
     "name": "stdout",
     "output_type": "stream",
     "text": [
      "Checking sanity of 14135-775\n",
      " + this thread checks out\n",
      "Checking sanity of 14135-51459\n",
      " + this thread checks out\n",
      " * remaining event:  B\n",
      "Checking sanity of 14135-81923\n",
      " + this thread checks out\n",
      " * remaining event:  B\n",
      "Checking sanity of 14135-53251\n",
      " + this thread checks out\n",
      " * remaining event:  B\n",
      "Checking sanity of 14135-84483\n",
      " + this thread checks out\n",
      " * remaining event:  B\n",
      "Checking sanity of 14135-48387\n",
      " + this thread checks out\n",
      " * remaining event:  B\n",
      "Checking sanity of 14135-76291\n",
      " + this thread checks out\n",
      " * remaining event:  B\n",
      "Checking sanity of 14135-72963\n",
      " + this thread checks out\n",
      " * remaining event:  B\n",
      "Checking sanity of 14135-57091\n",
      " + this thread checks out\n",
      " * remaining event:  B\n",
      "OK\n"
     ]
    }
   ],
   "source": [
    "# Find all JS function calls\n",
    "fcalls = [x for x in raw if x['name'] == 'FunctionCall']\n",
    "fcalls_by_ids = {}\n",
    "for c in fcalls:\n",
    "    key = '{}-{}'.format(c['pid'], c['tid'])\n",
    "    fcalls_by_ids.setdefault(key, []).append(c)\n",
    "\n",
    "for k, v in fcalls_by_ids.items():\n",
    "    # See https://docs.google.com/document/d/1CvAClvFfyA5R-PhYUmn5OOQtYMH4h6I0nSsKchNAySU/preview\n",
    "    # It mentioned how  Duration Events work.\n",
    "    # But it never confirmed that 'FunctionCall' events do not nest when pid&tid do not change\n",
    "    # This confirms that they do not nest\n",
    "    print('Checking sanity of', k)\n",
    "    assert('BB' not in ''.join(x['ph'] for x in v))\n",
    "    assert('EE' not in ''.join(x['ph'] for x in v))\n",
    "    assert v[0]['ph'] =='B'\n",
    "    assert ''.join(x['ph'] for x in v[:2*(len(v)//2)]) == 'BE' * (len(v)//2)\n",
    "    print(' + this thread checks out')\n",
    "    if len(v) %2 != 0:\n",
    "        print(' * remaining event: ', v[-1]['ph'])\n",
    "print('OK')"
   ]
  },
  {
   "cell_type": "code",
   "execution_count": 112,
   "metadata": {
    "ExecuteTime": {
     "end_time": "2018-04-11T21:43:52.306611Z",
     "start_time": "2018-04-11T16:43:52.281713-05:00"
    },
    "collapsed": false
   },
   "outputs": [],
   "source": [
    "# Aggregate info about JS Function calls\n",
    "callFrames = Counter()\n",
    "callFunctionNames = Counter()\n",
    "callURLs = Counter()\n",
    "\n",
    "for k, v in fcalls_by_ids.items(): \n",
    "    bs = [x for i, x in enumerate(v) if i % 2 == 0]\n",
    "    es = [x for i, x in enumerate(v) if i % 2 != 0]\n",
    "    for b, e in zip(bs, es):\n",
    "        info = b.get('args', {}).get('data', {})\n",
    "        info.update(e.get('args', {}).get('data', {}))\n",
    "        duration = e.get('tts') - b.get('tts')\n",
    "        if not info: continue\n",
    "        if type(duration) is not int: continue\n",
    "        callFrames[info.get('frame')] += duration / 1e6\n",
    "        callFunctionNames[info.get('functionName')] += duration / 1e6\n",
    "        callURLs[info.get('url')] += duration / 1e6"
   ]
  },
  {
   "cell_type": "code",
   "execution_count": 113,
   "metadata": {
    "ExecuteTime": {
     "end_time": "2018-04-11T21:43:52.783435Z",
     "start_time": "2018-04-11T16:43:52.779308-05:00"
    },
    "collapsed": false
   },
   "outputs": [
    {
     "data": {
      "text/plain": [
       "Counter({'': 0.036821000000000007,\n",
       "         'blob:https://authedmine.com/ecf0db7f-3019-4468-9f71-6cfe50cffccb': 141.75913400000013,\n",
       "         'https://authedmine.com/lib/simple-ui.min.js': 0.002773999999999999,\n",
       "         'https://authedmine.com/media/miner.html?key=iPda8gvGQpMBx4aALroEhqOcYSZ9ta5C&user=CS460-testing&whitelabel=0&autostart=1&throttle=0.3&threads=&background=&text=&action=&ref=&graph=': 0.0945649999999999})"
      ]
     },
     "execution_count": 113,
     "metadata": {},
     "output_type": "execute_result"
    }
   ],
   "source": [
    "callURLs"
   ]
  },
  {
   "cell_type": "code",
   "execution_count": 115,
   "metadata": {
    "ExecuteTime": {
     "end_time": "2018-04-11T21:44:30.993341Z",
     "start_time": "2018-04-11T16:44:30.988998-05:00"
    },
    "collapsed": false
   },
   "outputs": [
    {
     "data": {
      "text/plain": [
       "Counter({'4A3278310ADC1F4D8DE8FE0AD4FD8528': 0.13138600000000003,\n",
       "         None: 141.75913400000013,\n",
       "         'FDE5E38EF5D4E19DD0D2040B43FC16E9': 0.002773999999999999})"
      ]
     },
     "execution_count": 115,
     "metadata": {},
     "output_type": "execute_result"
    }
   ],
   "source": [
    "# ! This maybe major indicator: If 'None' frame uses too much time, it's usual.\n",
    "callFrames"
   ]
  },
  {
   "cell_type": "code",
   "execution_count": 116,
   "metadata": {
    "ExecuteTime": {
     "end_time": "2018-04-11T21:44:34.376773Z",
     "start_time": "2018-04-11T16:44:34.372409-05:00"
    },
    "collapsed": false
   },
   "outputs": [
    {
     "data": {
      "text/plain": [
       "Counter({'': 0.005993,\n",
       "         'Auth.onMessage': 0.001977,\n",
       "         'CryptonightWASMWrapper.onMessage': 23.839099999999988,\n",
       "         'CryptonightWASMWrapper.workThrottled': 117.920034,\n",
       "         'Miner.onMessage': 0.0007969999999999997,\n",
       "         'MinerUI.drawGraph': 0.03438200000000002,\n",
       "         'MinerUI.start': 0.001244,\n",
       "         'MinerUI.updateStats': 0.05893899999999997,\n",
       "         '_0x569398.(anonymous function)': 0.007018000000000001,\n",
       "         '_0x569398.(anonymous function).(anonymous function)': 0.00338,\n",
       "         '_0xfe497a.(anonymous function).(anonymous function)': 0.020429999999999997})"
      ]
     },
     "execution_count": 116,
     "metadata": {},
     "output_type": "execute_result"
    }
   ],
   "source": [
    "# 'Crypto', 'WASM', 'Mine' aren't good JS function names\n",
    "callFunctionNames"
   ]
  },
  {
   "cell_type": "code",
   "execution_count": null,
   "metadata": {
    "collapsed": true
   },
   "outputs": [],
   "source": []
  }
 ],
 "metadata": {
  "kernelspec": {
   "display_name": "Python 3",
   "language": "python",
   "name": "python3"
  },
  "language_info": {
   "codemirror_mode": {
    "name": "ipython",
    "version": 3
   },
   "file_extension": ".py",
   "mimetype": "text/x-python",
   "name": "python",
   "nbconvert_exporter": "python",
   "pygments_lexer": "ipython3",
   "version": "3.5.1"
  },
  "toc": {
   "nav_menu": {},
   "number_sections": true,
   "sideBar": true,
   "skip_h1_title": false,
   "toc_cell": false,
   "toc_position": {},
   "toc_section_display": "block",
   "toc_window_display": false
  }
 },
 "nbformat": 4,
 "nbformat_minor": 2
}
